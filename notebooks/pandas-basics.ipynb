{
 "cells": [
  {
   "cell_type": "markdown",
   "metadata": {
    "cell_id": "fc9183defd924a14ac37a3317dcacc84",
    "tags": []
   },
   "source": [
    "# Pandas\n",
    "\n",
    "This notebook contains examples of using Pandas to perform explorator data analysis (EDA) on tabular data."
   ]
  },
  {
   "cell_type": "code",
   "execution_count": 2,
   "metadata": {
    "cell_id": "0038d5c04efa44d4ac53bc6a9f29ab7e",
    "execution_millis": 1800733,
    "execution_start": 1677530310427,
    "source_hash": "d4fa2162",
    "tags": []
   },
   "outputs": [],
   "source": [
    "import pandas as pd # Import pandas!"
   ]
  },
  {
   "cell_type": "code",
   "execution_count": 63,
   "metadata": {
    "cell_id": "184ed01eca434ff5878cbf468f588f65",
    "execution_millis": 28,
    "execution_start": 1677530310430,
    "source_hash": "24eaf46d",
    "tags": []
   },
   "outputs": [
    {
     "data": {
      "text/html": [
       "<div>\n",
       "<style scoped>\n",
       "    .dataframe tbody tr th:only-of-type {\n",
       "        vertical-align: middle;\n",
       "    }\n",
       "\n",
       "    .dataframe tbody tr th {\n",
       "        vertical-align: top;\n",
       "    }\n",
       "\n",
       "    .dataframe thead th {\n",
       "        text-align: right;\n",
       "    }\n",
       "</style>\n",
       "<table border=\"1\" class=\"dataframe\">\n",
       "  <thead>\n",
       "    <tr style=\"text-align: right;\">\n",
       "      <th></th>\n",
       "      <th>strain</th>\n",
       "      <th>sex</th>\n",
       "      <th>weight</th>\n",
       "    </tr>\n",
       "  </thead>\n",
       "  <tbody>\n",
       "    <tr>\n",
       "      <th>0</th>\n",
       "      <td>C57Bl/6J</td>\n",
       "      <td>M</td>\n",
       "      <td>27.596753</td>\n",
       "    </tr>\n",
       "    <tr>\n",
       "      <th>1</th>\n",
       "      <td>C57Bl/6J</td>\n",
       "      <td>M</td>\n",
       "      <td>29.635837</td>\n",
       "    </tr>\n",
       "    <tr>\n",
       "      <th>2</th>\n",
       "      <td>C57Bl/6J</td>\n",
       "      <td>M</td>\n",
       "      <td>28.460685</td>\n",
       "    </tr>\n",
       "    <tr>\n",
       "      <th>3</th>\n",
       "      <td>C57Bl/6J</td>\n",
       "      <td>M</td>\n",
       "      <td>29.248225</td>\n",
       "    </tr>\n",
       "    <tr>\n",
       "      <th>4</th>\n",
       "      <td>C57Bl/6J</td>\n",
       "      <td>M</td>\n",
       "      <td>25.702118</td>\n",
       "    </tr>\n",
       "    <tr>\n",
       "      <th>...</th>\n",
       "      <td>...</td>\n",
       "      <td>...</td>\n",
       "      <td>...</td>\n",
       "    </tr>\n",
       "    <tr>\n",
       "      <th>395</th>\n",
       "      <td>DBA/2J</td>\n",
       "      <td>F</td>\n",
       "      <td>20.489587</td>\n",
       "    </tr>\n",
       "    <tr>\n",
       "      <th>396</th>\n",
       "      <td>DBA/2J</td>\n",
       "      <td>F</td>\n",
       "      <td>21.512789</td>\n",
       "    </tr>\n",
       "    <tr>\n",
       "      <th>397</th>\n",
       "      <td>DBA/2J</td>\n",
       "      <td>F</td>\n",
       "      <td>18.677338</td>\n",
       "    </tr>\n",
       "    <tr>\n",
       "      <th>398</th>\n",
       "      <td>DBA/2J</td>\n",
       "      <td>F</td>\n",
       "      <td>22.974729</td>\n",
       "    </tr>\n",
       "    <tr>\n",
       "      <th>399</th>\n",
       "      <td>DBA/2J</td>\n",
       "      <td>F</td>\n",
       "      <td>19.312054</td>\n",
       "    </tr>\n",
       "  </tbody>\n",
       "</table>\n",
       "<p>400 rows × 3 columns</p>\n",
       "</div>"
      ],
      "text/plain": [
       "       strain sex     weight\n",
       "0    C57Bl/6J   M  27.596753\n",
       "1    C57Bl/6J   M  29.635837\n",
       "2    C57Bl/6J   M  28.460685\n",
       "3    C57Bl/6J   M  29.248225\n",
       "4    C57Bl/6J   M  25.702118\n",
       "..        ...  ..        ...\n",
       "395    DBA/2J   F  20.489587\n",
       "396    DBA/2J   F  21.512789\n",
       "397    DBA/2J   F  18.677338\n",
       "398    DBA/2J   F  22.974729\n",
       "399    DBA/2J   F  19.312054\n",
       "\n",
       "[400 rows x 3 columns]"
      ]
     },
     "execution_count": 63,
     "metadata": {},
     "output_type": "execute_result"
    }
   ],
   "source": [
    "# Read in the mouse data (we'll go over additional examples of reading data in below).\n",
    "\n",
    "mouseDF = pd.read_csv('../data/mousew.csv')\n",
    "\n",
    "mouseDF # This just shows us what part of the dataframe looks like."
   ]
  },
  {
   "cell_type": "markdown",
   "metadata": {
    "cell_id": "40fd2a38c70345e68f595f4a01e79d59",
    "tags": []
   },
   "source": [
    "## Writing data out\n",
    "\n",
    "We can write a DataFrame to lots of formats. Here are some poular ones:\n",
    "  * CSV (comma separated values)\n",
    "  * TSV (tab separated values)\n",
    "  * JSON (JavaScript Object Notation)\n",
    "  * Excel"
   ]
  },
  {
   "cell_type": "code",
   "execution_count": 11,
   "metadata": {
    "cell_id": "b78d94a5475348448a2685a0db4a71cd",
    "execution_millis": 4504,
    "execution_start": 1677530310471,
    "source_hash": "f3b28e05",
    "tags": []
   },
   "outputs": [
    {
     "name": "stdout",
     "output_type": "stream",
     "text": [
      "Requirement already satisfied: openpyxl in /home/hfeild/.local/lib/python3.8/site-packages (3.0.5)\n",
      "Requirement already satisfied: jdcal in /home/hfeild/.local/lib/python3.8/site-packages (from openpyxl) (1.4.1)\n",
      "Requirement already satisfied: et-xmlfile in /home/hfeild/.local/lib/python3.8/site-packages (from openpyxl) (1.0.1)\n",
      "Note: you may need to restart the kernel to use updated packages.\n"
     ]
    }
   ],
   "source": [
    "# If you happen to be writing to or reading from an Excel (.xlsx or .xls) file (like we are in this cell), \n",
    "# you'll need to install the Python library openpyxl. Use the magic pip command forthis:\n",
    "%pip install openpyxl\n",
    "\n",
    "# CSV (comma separated values):\n",
    "mouseDF.to_csv('../data/mousew2.csv')\n",
    "\n",
    "# TSV (tab separated values):\n",
    "mouseDF.to_csv('../data/mousew.tsv', sep='\\t')\n",
    "\n",
    "# JSON (JavaScript Object Notation -- lists each row in the DataFrame as a dictionary with columns \n",
    "# as keys and their data in that row as values.\n",
    "mouseDF.to_json('../data/mousew.json')\n",
    "\n",
    "# Excel:\n",
    "mouseDF.to_excel('../data/mousew.xlsx')\n",
    "\n",
    "# By default, the .to_*() calls will add an Index column; you can prevent that column from being \n",
    "# output by passing in an index=False argument:\n",
    "mouseDF.to_csv('../data/mousew2-noindex.csv', index=False)\n",
    "\n"
   ]
  },
  {
   "cell_type": "markdown",
   "metadata": {
    "cell_id": "3ea3fd42858e4bf2b8c445da185028b9",
    "tags": []
   },
   "source": [
    "## Reading data in\n",
    "\n",
    "When we read data in, we use the pandas module directl (which we import as `pd` by convention). This is different from writing data out, where we call the `.to_*()` method on the DataFrame we want to save."
   ]
  },
  {
   "cell_type": "code",
   "execution_count": 21,
   "metadata": {
    "cell_id": "9e4cbc5b6eaa4d24947b3715c487592d",
    "execution_millis": 63,
    "execution_start": 1677530314971,
    "source_hash": "6dfcf345",
    "tags": []
   },
   "outputs": [
    {
     "data": {
      "text/html": [
       "<div>\n",
       "<style scoped>\n",
       "    .dataframe tbody tr th:only-of-type {\n",
       "        vertical-align: middle;\n",
       "    }\n",
       "\n",
       "    .dataframe tbody tr th {\n",
       "        vertical-align: top;\n",
       "    }\n",
       "\n",
       "    .dataframe thead th {\n",
       "        text-align: right;\n",
       "    }\n",
       "</style>\n",
       "<table border=\"1\" class=\"dataframe\">\n",
       "  <thead>\n",
       "    <tr style=\"text-align: right;\">\n",
       "      <th></th>\n",
       "      <th>strain</th>\n",
       "      <th>sex</th>\n",
       "      <th>weight</th>\n",
       "    </tr>\n",
       "  </thead>\n",
       "  <tbody>\n",
       "    <tr>\n",
       "      <th>0</th>\n",
       "      <td>C57Bl/6J</td>\n",
       "      <td>M</td>\n",
       "      <td>27.596753</td>\n",
       "    </tr>\n",
       "    <tr>\n",
       "      <th>1</th>\n",
       "      <td>C57Bl/6J</td>\n",
       "      <td>M</td>\n",
       "      <td>29.635837</td>\n",
       "    </tr>\n",
       "    <tr>\n",
       "      <th>2</th>\n",
       "      <td>C57Bl/6J</td>\n",
       "      <td>M</td>\n",
       "      <td>28.460685</td>\n",
       "    </tr>\n",
       "    <tr>\n",
       "      <th>3</th>\n",
       "      <td>C57Bl/6J</td>\n",
       "      <td>M</td>\n",
       "      <td>29.248225</td>\n",
       "    </tr>\n",
       "    <tr>\n",
       "      <th>4</th>\n",
       "      <td>C57Bl/6J</td>\n",
       "      <td>M</td>\n",
       "      <td>25.702118</td>\n",
       "    </tr>\n",
       "    <tr>\n",
       "      <th>...</th>\n",
       "      <td>...</td>\n",
       "      <td>...</td>\n",
       "      <td>...</td>\n",
       "    </tr>\n",
       "    <tr>\n",
       "      <th>395</th>\n",
       "      <td>DBA/2J</td>\n",
       "      <td>F</td>\n",
       "      <td>20.489587</td>\n",
       "    </tr>\n",
       "    <tr>\n",
       "      <th>396</th>\n",
       "      <td>DBA/2J</td>\n",
       "      <td>F</td>\n",
       "      <td>21.512789</td>\n",
       "    </tr>\n",
       "    <tr>\n",
       "      <th>397</th>\n",
       "      <td>DBA/2J</td>\n",
       "      <td>F</td>\n",
       "      <td>18.677338</td>\n",
       "    </tr>\n",
       "    <tr>\n",
       "      <th>398</th>\n",
       "      <td>DBA/2J</td>\n",
       "      <td>F</td>\n",
       "      <td>22.974729</td>\n",
       "    </tr>\n",
       "    <tr>\n",
       "      <th>399</th>\n",
       "      <td>DBA/2J</td>\n",
       "      <td>F</td>\n",
       "      <td>19.312054</td>\n",
       "    </tr>\n",
       "  </tbody>\n",
       "</table>\n",
       "<p>400 rows × 3 columns</p>\n",
       "</div>"
      ],
      "text/plain": [
       "       strain sex     weight\n",
       "0    C57Bl/6J   M  27.596753\n",
       "1    C57Bl/6J   M  29.635837\n",
       "2    C57Bl/6J   M  28.460685\n",
       "3    C57Bl/6J   M  29.248225\n",
       "4    C57Bl/6J   M  25.702118\n",
       "..        ...  ..        ...\n",
       "395    DBA/2J   F  20.489587\n",
       "396    DBA/2J   F  21.512789\n",
       "397    DBA/2J   F  18.677338\n",
       "398    DBA/2J   F  22.974729\n",
       "399    DBA/2J   F  19.312054\n",
       "\n",
       "[400 rows x 3 columns]"
      ]
     },
     "execution_count": 21,
     "metadata": {},
     "output_type": "execute_result"
    }
   ],
   "source": [
    "# TSV\n",
    "df = pd.read_table('../data/mousew.tsv')\n",
    "df = pd.read_table('../data/mousew.tsv', index_col=0) # Use this if the TSV file was written with indexes included.\n",
    "df\n",
    "\n",
    "# CSV\n",
    "df = pd.read_csv('../data/mousew.csv')\n",
    "df\n",
    "# ***OR****\n",
    "df = pd.read_table('../data/mousew.csv', delimiter=',')\n",
    "df\n",
    "\n",
    "# JSON\n",
    "df = pd.read_json('../data/mousew.json')\n",
    "df\n",
    "\n",
    "# Excel\n",
    "df = pd.read_excel('../data/mousew.xlsx')\n",
    "df = pd.read_excel('../data/mousew.xlsx', index_col=0) # Use this if the Excel file was written with indexes included.\n",
    "df\n",
    "\n",
    "# If you have a large file, pass in an argument for the `nrows` parameter,\n",
    "# Here we're only reading in the first 100 rows:\n",
    "df = pd.read_csv('../data/mousew.csv', nrows=100)\n",
    "df\n",
    "\n",
    "# Pandas can read compressed files automatically! Use the 'compress' parameter\n",
    "# if not using a standard extension (like .gz, .zip, .bz2, etc.).\n",
    "df = pd.read_csv('../data/mousew.csv.gz')\n",
    "df"
   ]
  },
  {
   "cell_type": "markdown",
   "metadata": {
    "cell_id": "447eede018214bf69ae8f63e3b212f5a",
    "tags": []
   },
   "source": [
    "## Creating DataFrames from a dictionary or set of lists"
   ]
  },
  {
   "cell_type": "code",
   "execution_count": 22,
   "metadata": {
    "cell_id": "66f7304c9a5545bd9085fe1ecc6d9b8d",
    "execution_millis": 5,
    "execution_start": 1677530315049,
    "scrolled": true,
    "source_hash": "c887dc8f",
    "tags": []
   },
   "outputs": [
    {
     "data": {
      "text/html": [
       "<div>\n",
       "<style scoped>\n",
       "    .dataframe tbody tr th:only-of-type {\n",
       "        vertical-align: middle;\n",
       "    }\n",
       "\n",
       "    .dataframe tbody tr th {\n",
       "        vertical-align: top;\n",
       "    }\n",
       "\n",
       "    .dataframe thead th {\n",
       "        text-align: right;\n",
       "    }\n",
       "</style>\n",
       "<table border=\"1\" class=\"dataframe\">\n",
       "  <thead>\n",
       "    <tr style=\"text-align: right;\">\n",
       "      <th></th>\n",
       "      <th>strain</th>\n",
       "      <th>sex</th>\n",
       "      <th>weight</th>\n",
       "    </tr>\n",
       "  </thead>\n",
       "  <tbody>\n",
       "    <tr>\n",
       "      <th>0</th>\n",
       "      <td>C57BI/6J</td>\n",
       "      <td>M</td>\n",
       "      <td>27.596753</td>\n",
       "    </tr>\n",
       "    <tr>\n",
       "      <th>1</th>\n",
       "      <td>C57BI/6J</td>\n",
       "      <td>M</td>\n",
       "      <td>29.248225</td>\n",
       "    </tr>\n",
       "  </tbody>\n",
       "</table>\n",
       "</div>"
      ],
      "text/plain": [
       "     strain sex     weight\n",
       "0  C57BI/6J   M  27.596753\n",
       "1  C57BI/6J   M  29.248225"
      ]
     },
     "execution_count": 22,
     "metadata": {},
     "output_type": "execute_result"
    }
   ],
   "source": [
    "# Creating a DataFrame from a list of dictionaries:\n",
    "rawData = [\n",
    "    {\n",
    "        'strain': 'C57BI/6J',\n",
    "        'sex': 'M',\n",
    "        'weight': 27.596753\n",
    "    },\n",
    "    {\n",
    "        'strain': 'C57BI/6J',\n",
    "        'sex': 'M',\n",
    "        'weight': 29.248225\n",
    "    },\n",
    "    # ...\n",
    "]\n",
    "\n",
    "data = pd.DataFrame(rawData)\n",
    "data\n"
   ]
  },
  {
   "cell_type": "code",
   "execution_count": 23,
   "metadata": {
    "cell_id": "1b0211cb49a54b2f99e5b596496bd486",
    "execution_millis": 3,
    "execution_start": 1677530315099,
    "source_hash": "84aeaead",
    "tags": []
   },
   "outputs": [
    {
     "data": {
      "text/html": [
       "<div>\n",
       "<style scoped>\n",
       "    .dataframe tbody tr th:only-of-type {\n",
       "        vertical-align: middle;\n",
       "    }\n",
       "\n",
       "    .dataframe tbody tr th {\n",
       "        vertical-align: top;\n",
       "    }\n",
       "\n",
       "    .dataframe thead th {\n",
       "        text-align: right;\n",
       "    }\n",
       "</style>\n",
       "<table border=\"1\" class=\"dataframe\">\n",
       "  <thead>\n",
       "    <tr style=\"text-align: right;\">\n",
       "      <th></th>\n",
       "      <th>strain</th>\n",
       "      <th>sex</th>\n",
       "      <th>weight</th>\n",
       "    </tr>\n",
       "  </thead>\n",
       "  <tbody>\n",
       "    <tr>\n",
       "      <th>0</th>\n",
       "      <td>C57BI/6J</td>\n",
       "      <td>M</td>\n",
       "      <td>27.596753</td>\n",
       "    </tr>\n",
       "    <tr>\n",
       "      <th>1</th>\n",
       "      <td>C57BI/6J</td>\n",
       "      <td>M</td>\n",
       "      <td>29.248225</td>\n",
       "    </tr>\n",
       "  </tbody>\n",
       "</table>\n",
       "</div>"
      ],
      "text/plain": [
       "     strain sex     weight\n",
       "0  C57BI/6J   M  27.596753\n",
       "1  C57BI/6J   M  29.248225"
      ]
     },
     "execution_count": 23,
     "metadata": {},
     "output_type": "execute_result"
    }
   ],
   "source": [
    "# Creating a DataFrame from a list of lists + column names:\n",
    "rawData = [\n",
    "    ['C57BI/6J', 'M', 27.596753],\n",
    "    ['C57BI/6J', 'M', 29.248225]\n",
    "]\n",
    "\n",
    "data = pd.DataFrame(rawData, columns=['strain', 'sex', 'weight'])\n",
    "data"
   ]
  },
  {
   "cell_type": "markdown",
   "metadata": {
    "cell_id": "bcefa6d81c46451b897d54fb4b6ab875",
    "tags": []
   },
   "source": [
    "## Basic pandas—examining DataFrames\n",
    "\n",
    "Some of the things we might\n"
   ]
  },
  {
   "cell_type": "code",
   "execution_count": 24,
   "metadata": {
    "cell_id": "96acd74ceb8a4799b1131ddc55d465ce",
    "execution_millis": 2,
    "execution_start": 1677530315100,
    "source_hash": "75b7d584",
    "tags": []
   },
   "outputs": [
    {
     "data": {
      "text/plain": [
       "400"
      ]
     },
     "execution_count": 24,
     "metadata": {},
     "output_type": "execute_result"
    }
   ],
   "source": [
    "# How many rows?\n",
    "# Finding the length (number of keys in) a dictionary:\n",
    "# x = {'key1': 1, 'key2': 2, 'key3': 3, 'key4': 4}\n",
    "# len(x.keys())\n",
    "\n",
    "len(mouseDF)"
   ]
  },
  {
   "cell_type": "code",
   "execution_count": 27,
   "metadata": {
    "cell_id": "d207a70dd1da4854be2fa0f2049560cc",
    "execution_millis": 25,
    "execution_start": 1677530315129,
    "source_hash": "73d0ee50",
    "tags": []
   },
   "outputs": [
    {
     "name": "stdout",
     "output_type": "stream",
     "text": [
      "Index(['strain', 'sex', 'weight'], dtype='object')\n"
     ]
    },
    {
     "data": {
      "text/plain": [
       "3"
      ]
     },
     "execution_count": 27,
     "metadata": {},
     "output_type": "execute_result"
    }
   ],
   "source": [
    "# How many columns?\n",
    "print(mouseDF.columns)\n",
    "len(mouseDF.columns)"
   ]
  },
  {
   "cell_type": "code",
   "execution_count": 28,
   "metadata": {
    "cell_id": "b45b625d9c134a5692abf9d3ca5fb0a1",
    "execution_millis": 24,
    "execution_start": 1677530315130,
    "source_hash": "d54edfcd",
    "tags": []
   },
   "outputs": [
    {
     "data": {
      "text/plain": [
       "(400, 3)"
      ]
     },
     "execution_count": 28,
     "metadata": {},
     "output_type": "execute_result"
    }
   ],
   "source": [
    "# We can ask for the shape of a DataFrame, which gives us a tuple with these values:\n",
    "\n",
    "mouseDF.shape"
   ]
  },
  {
   "cell_type": "code",
   "execution_count": 30,
   "metadata": {
    "cell_id": "4c390f1d94dc4cc3af1d25445a7b5b23",
    "execution_millis": 37,
    "execution_start": 1677530315130,
    "source_hash": "4f235eab",
    "tags": []
   },
   "outputs": [
    {
     "data": {
      "text/plain": [
       "3"
      ]
     },
     "execution_count": 30,
     "metadata": {},
     "output_type": "execute_result"
    }
   ],
   "source": [
    "# Get the number of rows or columns using mouseDF.shape:\n",
    "\n",
    "mouseDF.shape[0] # <- rows\n",
    "mouseDF.shape[1] # <- columns"
   ]
  },
  {
   "cell_type": "code",
   "execution_count": 31,
   "metadata": {
    "cell_id": "6e3a7c40c1764aec9328762b3b04d396",
    "execution_millis": 11,
    "execution_start": 1677530315164,
    "source_hash": "12060a6f",
    "tags": []
   },
   "outputs": [
    {
     "data": {
      "text/plain": [
       "0      27.596753\n",
       "1      29.635837\n",
       "2      28.460685\n",
       "3      29.248225\n",
       "4      25.702118\n",
       "         ...    \n",
       "395    20.489587\n",
       "396    21.512789\n",
       "397    18.677338\n",
       "398    22.974729\n",
       "399    19.312054\n",
       "Name: weight, Length: 400, dtype: float64"
      ]
     },
     "execution_count": 31,
     "metadata": {},
     "output_type": "execute_result"
    }
   ],
   "source": [
    "# Select the weight column, which is a Series object.\n",
    "# Preferred way:\n",
    "mouseDF['weight']"
   ]
  },
  {
   "cell_type": "code",
   "execution_count": 32,
   "metadata": {
    "cell_id": "f77be6f35c6f45c5971f9d67f42eb816",
    "execution_millis": 11,
    "execution_start": 1677530315168,
    "source_hash": "ef8b9b5c",
    "tags": []
   },
   "outputs": [
    {
     "data": {
      "text/plain": [
       "0      27.596753\n",
       "1      29.635837\n",
       "2      28.460685\n",
       "3      29.248225\n",
       "4      25.702118\n",
       "         ...    \n",
       "395    20.489587\n",
       "396    21.512789\n",
       "397    18.677338\n",
       "398    22.974729\n",
       "399    19.312054\n",
       "Name: weight, Length: 400, dtype: float64"
      ]
     },
     "execution_count": 32,
     "metadata": {},
     "output_type": "execute_result"
    }
   ],
   "source": [
    "# Dot notation -- not preferred (avoid this, please).\n",
    "mouseDF.weight"
   ]
  },
  {
   "cell_type": "code",
   "execution_count": 34,
   "metadata": {
    "cell_id": "01eeea7eae5e40558955fefdd7be4a4a",
    "execution_millis": 14,
    "execution_start": 1677530315169,
    "source_hash": "a75c1e3b",
    "tags": []
   },
   "outputs": [
    {
     "data": {
      "text/html": [
       "<div>\n",
       "<style scoped>\n",
       "    .dataframe tbody tr th:only-of-type {\n",
       "        vertical-align: middle;\n",
       "    }\n",
       "\n",
       "    .dataframe tbody tr th {\n",
       "        vertical-align: top;\n",
       "    }\n",
       "\n",
       "    .dataframe thead th {\n",
       "        text-align: right;\n",
       "    }\n",
       "</style>\n",
       "<table border=\"1\" class=\"dataframe\">\n",
       "  <thead>\n",
       "    <tr style=\"text-align: right;\">\n",
       "      <th></th>\n",
       "      <th>strain</th>\n",
       "      <th>sex</th>\n",
       "      <th>weight</th>\n",
       "    </tr>\n",
       "  </thead>\n",
       "  <tbody>\n",
       "    <tr>\n",
       "      <th>0</th>\n",
       "      <td>C57Bl/6J</td>\n",
       "      <td>M</td>\n",
       "      <td>27.596753</td>\n",
       "    </tr>\n",
       "    <tr>\n",
       "      <th>1</th>\n",
       "      <td>C57Bl/6J</td>\n",
       "      <td>M</td>\n",
       "      <td>29.635837</td>\n",
       "    </tr>\n",
       "    <tr>\n",
       "      <th>2</th>\n",
       "      <td>C57Bl/6J</td>\n",
       "      <td>M</td>\n",
       "      <td>28.460685</td>\n",
       "    </tr>\n",
       "    <tr>\n",
       "      <th>3</th>\n",
       "      <td>C57Bl/6J</td>\n",
       "      <td>M</td>\n",
       "      <td>29.248225</td>\n",
       "    </tr>\n",
       "    <tr>\n",
       "      <th>4</th>\n",
       "      <td>C57Bl/6J</td>\n",
       "      <td>M</td>\n",
       "      <td>25.702118</td>\n",
       "    </tr>\n",
       "    <tr>\n",
       "      <th>5</th>\n",
       "      <td>C57Bl/6J</td>\n",
       "      <td>M</td>\n",
       "      <td>26.972696</td>\n",
       "    </tr>\n",
       "    <tr>\n",
       "      <th>6</th>\n",
       "      <td>C57Bl/6J</td>\n",
       "      <td>M</td>\n",
       "      <td>30.352504</td>\n",
       "    </tr>\n",
       "    <tr>\n",
       "      <th>7</th>\n",
       "      <td>C57Bl/6J</td>\n",
       "      <td>M</td>\n",
       "      <td>29.056024</td>\n",
       "    </tr>\n",
       "    <tr>\n",
       "      <th>8</th>\n",
       "      <td>C57Bl/6J</td>\n",
       "      <td>M</td>\n",
       "      <td>27.869612</td>\n",
       "    </tr>\n",
       "    <tr>\n",
       "      <th>9</th>\n",
       "      <td>C57Bl/6J</td>\n",
       "      <td>M</td>\n",
       "      <td>31.025558</td>\n",
       "    </tr>\n",
       "  </tbody>\n",
       "</table>\n",
       "</div>"
      ],
      "text/plain": [
       "     strain sex     weight\n",
       "0  C57Bl/6J   M  27.596753\n",
       "1  C57Bl/6J   M  29.635837\n",
       "2  C57Bl/6J   M  28.460685\n",
       "3  C57Bl/6J   M  29.248225\n",
       "4  C57Bl/6J   M  25.702118\n",
       "5  C57Bl/6J   M  26.972696\n",
       "6  C57Bl/6J   M  30.352504\n",
       "7  C57Bl/6J   M  29.056024\n",
       "8  C57Bl/6J   M  27.869612\n",
       "9  C57Bl/6J   M  31.025558"
      ]
     },
     "execution_count": 34,
     "metadata": {},
     "output_type": "execute_result"
    }
   ],
   "source": [
    "# See just the first 10 lines (if you omit the argument, the default is 5)\n",
    "\n",
    "mouseDF.head(10)"
   ]
  },
  {
   "cell_type": "code",
   "execution_count": 35,
   "metadata": {
    "cell_id": "5c99f3149b994d30b7fd526245c778db",
    "execution_millis": 42,
    "execution_start": 1677530315182,
    "source_hash": "54685b51",
    "tags": []
   },
   "outputs": [
    {
     "data": {
      "text/html": [
       "<div>\n",
       "<style scoped>\n",
       "    .dataframe tbody tr th:only-of-type {\n",
       "        vertical-align: middle;\n",
       "    }\n",
       "\n",
       "    .dataframe tbody tr th {\n",
       "        vertical-align: top;\n",
       "    }\n",
       "\n",
       "    .dataframe thead th {\n",
       "        text-align: right;\n",
       "    }\n",
       "</style>\n",
       "<table border=\"1\" class=\"dataframe\">\n",
       "  <thead>\n",
       "    <tr style=\"text-align: right;\">\n",
       "      <th></th>\n",
       "      <th>strain</th>\n",
       "      <th>sex</th>\n",
       "      <th>weight</th>\n",
       "    </tr>\n",
       "  </thead>\n",
       "  <tbody>\n",
       "    <tr>\n",
       "      <th>390</th>\n",
       "      <td>DBA/2J</td>\n",
       "      <td>F</td>\n",
       "      <td>23.008116</td>\n",
       "    </tr>\n",
       "    <tr>\n",
       "      <th>391</th>\n",
       "      <td>DBA/2J</td>\n",
       "      <td>F</td>\n",
       "      <td>19.084330</td>\n",
       "    </tr>\n",
       "    <tr>\n",
       "      <th>392</th>\n",
       "      <td>DBA/2J</td>\n",
       "      <td>F</td>\n",
       "      <td>18.807994</td>\n",
       "    </tr>\n",
       "    <tr>\n",
       "      <th>393</th>\n",
       "      <td>DBA/2J</td>\n",
       "      <td>F</td>\n",
       "      <td>22.977515</td>\n",
       "    </tr>\n",
       "    <tr>\n",
       "      <th>394</th>\n",
       "      <td>DBA/2J</td>\n",
       "      <td>F</td>\n",
       "      <td>22.153450</td>\n",
       "    </tr>\n",
       "    <tr>\n",
       "      <th>395</th>\n",
       "      <td>DBA/2J</td>\n",
       "      <td>F</td>\n",
       "      <td>20.489587</td>\n",
       "    </tr>\n",
       "    <tr>\n",
       "      <th>396</th>\n",
       "      <td>DBA/2J</td>\n",
       "      <td>F</td>\n",
       "      <td>21.512789</td>\n",
       "    </tr>\n",
       "    <tr>\n",
       "      <th>397</th>\n",
       "      <td>DBA/2J</td>\n",
       "      <td>F</td>\n",
       "      <td>18.677338</td>\n",
       "    </tr>\n",
       "    <tr>\n",
       "      <th>398</th>\n",
       "      <td>DBA/2J</td>\n",
       "      <td>F</td>\n",
       "      <td>22.974729</td>\n",
       "    </tr>\n",
       "    <tr>\n",
       "      <th>399</th>\n",
       "      <td>DBA/2J</td>\n",
       "      <td>F</td>\n",
       "      <td>19.312054</td>\n",
       "    </tr>\n",
       "  </tbody>\n",
       "</table>\n",
       "</div>"
      ],
      "text/plain": [
       "     strain sex     weight\n",
       "390  DBA/2J   F  23.008116\n",
       "391  DBA/2J   F  19.084330\n",
       "392  DBA/2J   F  18.807994\n",
       "393  DBA/2J   F  22.977515\n",
       "394  DBA/2J   F  22.153450\n",
       "395  DBA/2J   F  20.489587\n",
       "396  DBA/2J   F  21.512789\n",
       "397  DBA/2J   F  18.677338\n",
       "398  DBA/2J   F  22.974729\n",
       "399  DBA/2J   F  19.312054"
      ]
     },
     "execution_count": 35,
     "metadata": {},
     "output_type": "execute_result"
    }
   ],
   "source": [
    "# See just the last 10 lines (or 5 if the argument is omitted)\n",
    "\n",
    "mouseDF.tail(10)\n"
   ]
  },
  {
   "cell_type": "code",
   "execution_count": 36,
   "metadata": {
    "cell_id": "fcb8388de9fa40739ac0da2f563bd214",
    "execution_millis": 23,
    "execution_start": 1677530315223,
    "source_hash": "f0b22714",
    "tags": []
   },
   "outputs": [
    {
     "data": {
      "text/plain": [
       "count    400.000000\n",
       "mean      24.002120\n",
       "std        3.536213\n",
       "min       17.411034\n",
       "25%       20.946523\n",
       "50%       23.474883\n",
       "75%       27.120553\n",
       "max       32.848227\n",
       "Name: weight, dtype: float64"
      ]
     },
     "execution_count": 36,
     "metadata": {},
     "output_type": "execute_result"
    }
   ],
   "source": [
    "# Get basic stats about each numeric column.\n",
    "mouseDF['weight'].describe()"
   ]
  },
  {
   "cell_type": "code",
   "execution_count": 37,
   "metadata": {
    "cell_id": "bbaf3d2c1eed496b80181c04bb396d01",
    "execution_millis": 7,
    "execution_start": 1677530315245,
    "source_hash": "6f6b8b00",
    "tags": []
   },
   "outputs": [
    {
     "data": {
      "text/html": [
       "<div>\n",
       "<style scoped>\n",
       "    .dataframe tbody tr th:only-of-type {\n",
       "        vertical-align: middle;\n",
       "    }\n",
       "\n",
       "    .dataframe tbody tr th {\n",
       "        vertical-align: top;\n",
       "    }\n",
       "\n",
       "    .dataframe thead th {\n",
       "        text-align: right;\n",
       "    }\n",
       "</style>\n",
       "<table border=\"1\" class=\"dataframe\">\n",
       "  <thead>\n",
       "    <tr style=\"text-align: right;\">\n",
       "      <th></th>\n",
       "      <th>weight</th>\n",
       "    </tr>\n",
       "  </thead>\n",
       "  <tbody>\n",
       "    <tr>\n",
       "      <th>count</th>\n",
       "      <td>400.000000</td>\n",
       "    </tr>\n",
       "    <tr>\n",
       "      <th>mean</th>\n",
       "      <td>24.002120</td>\n",
       "    </tr>\n",
       "    <tr>\n",
       "      <th>std</th>\n",
       "      <td>3.536213</td>\n",
       "    </tr>\n",
       "    <tr>\n",
       "      <th>min</th>\n",
       "      <td>17.411034</td>\n",
       "    </tr>\n",
       "    <tr>\n",
       "      <th>25%</th>\n",
       "      <td>20.946523</td>\n",
       "    </tr>\n",
       "    <tr>\n",
       "      <th>50%</th>\n",
       "      <td>23.474883</td>\n",
       "    </tr>\n",
       "    <tr>\n",
       "      <th>75%</th>\n",
       "      <td>27.120553</td>\n",
       "    </tr>\n",
       "    <tr>\n",
       "      <th>max</th>\n",
       "      <td>32.848227</td>\n",
       "    </tr>\n",
       "  </tbody>\n",
       "</table>\n",
       "</div>"
      ],
      "text/plain": [
       "           weight\n",
       "count  400.000000\n",
       "mean    24.002120\n",
       "std      3.536213\n",
       "min     17.411034\n",
       "25%     20.946523\n",
       "50%     23.474883\n",
       "75%     27.120553\n",
       "max     32.848227"
      ]
     },
     "execution_count": 37,
     "metadata": {},
     "output_type": "execute_result"
    }
   ],
   "source": [
    "# Summarize all of the numeric columns of a DataFrame:\n",
    "mouseDF.describe()"
   ]
  },
  {
   "cell_type": "code",
   "execution_count": 38,
   "metadata": {
    "cell_id": "5471010ec8b743f9b84e195904ebd13a",
    "execution_millis": 2,
    "execution_start": 1677530315296,
    "source_hash": "7b56a26b",
    "tags": []
   },
   "outputs": [
    {
     "data": {
      "text/plain": [
       "strain    C57Bl/6JC57Bl/6JC57Bl/6JC57Bl/6JC57Bl/6JC57Bl/...\n",
       "sex       MMMMMMMMMMMMMMMMMMMMMMMMMMMMMMMMMMMMMMMMMMMMMM...\n",
       "weight                                              9600.85\n",
       "dtype: object"
      ]
     },
     "execution_count": 38,
     "metadata": {},
     "output_type": "execute_result"
    }
   ],
   "source": [
    "# Sum every column -- what looks amiss about the result?\n",
    "mouseDF.sum()"
   ]
  },
  {
   "cell_type": "code",
   "execution_count": 39,
   "metadata": {},
   "outputs": [
    {
     "data": {
      "text/plain": [
       "weight    9600.848108\n",
       "dtype: float64"
      ]
     },
     "execution_count": 39,
     "metadata": {},
     "output_type": "execute_result"
    }
   ],
   "source": [
    "# Sum only the selected columns.\n",
    "\n",
    "mouseDF[['weight']].sum()"
   ]
  },
  {
   "cell_type": "code",
   "execution_count": 40,
   "metadata": {
    "cell_id": "4ac645d2273d4baabb0476ffa36cbdaa",
    "execution_millis": 2,
    "execution_start": 1677530315296,
    "source_hash": "e4bad85b",
    "tags": []
   },
   "outputs": [
    {
     "name": "stdout",
     "output_type": "stream",
     "text": [
      "MIN:\n",
      " strain    C57Bl/6J\n",
      "sex              F\n",
      "weight      17.411\n",
      "dtype: object\n",
      "\n",
      "MAX:\n",
      " strain     DBA/2J\n",
      "sex             M\n",
      "weight    32.8482\n",
      "dtype: object\n",
      "\n",
      "COUNT:\n",
      " strain    400\n",
      "sex       400\n",
      "weight    400\n",
      "dtype: int64\n",
      "\n",
      "MEAN:\n",
      " weight    24.00212\n",
      "dtype: float64\n"
     ]
    }
   ],
   "source": [
    "# Also, min, max, count, mean:\n",
    "\n",
    "print('MIN:\\n', mouseDF.min())\n",
    "print('\\nMAX:\\n', mouseDF.max())\n",
    "print('\\nCOUNT:\\n', mouseDF.count())\n",
    "print('\\nMEAN:\\n', mouseDF.mean())"
   ]
  },
  {
   "cell_type": "markdown",
   "metadata": {
    "cell_id": "32299c91f2964be5809b1c1e386674d0",
    "tags": []
   },
   "source": [
    "## Selecting data in pandas"
   ]
  },
  {
   "cell_type": "code",
   "execution_count": 42,
   "metadata": {
    "cell_id": "402f89f2fee645aaada45ed3e99ec4ed",
    "execution_millis": 4,
    "execution_start": 1677530315328,
    "source_hash": "aadf483",
    "tags": []
   },
   "outputs": [
    {
     "data": {
      "text/html": [
       "<div>\n",
       "<style scoped>\n",
       "    .dataframe tbody tr th:only-of-type {\n",
       "        vertical-align: middle;\n",
       "    }\n",
       "\n",
       "    .dataframe tbody tr th {\n",
       "        vertical-align: top;\n",
       "    }\n",
       "\n",
       "    .dataframe thead th {\n",
       "        text-align: right;\n",
       "    }\n",
       "</style>\n",
       "<table border=\"1\" class=\"dataframe\">\n",
       "  <thead>\n",
       "    <tr style=\"text-align: right;\">\n",
       "      <th></th>\n",
       "      <th>strain</th>\n",
       "      <th>weight</th>\n",
       "    </tr>\n",
       "  </thead>\n",
       "  <tbody>\n",
       "    <tr>\n",
       "      <th>0</th>\n",
       "      <td>C57Bl/6J</td>\n",
       "      <td>27.596753</td>\n",
       "    </tr>\n",
       "    <tr>\n",
       "      <th>1</th>\n",
       "      <td>C57Bl/6J</td>\n",
       "      <td>29.635837</td>\n",
       "    </tr>\n",
       "    <tr>\n",
       "      <th>2</th>\n",
       "      <td>C57Bl/6J</td>\n",
       "      <td>28.460685</td>\n",
       "    </tr>\n",
       "    <tr>\n",
       "      <th>3</th>\n",
       "      <td>C57Bl/6J</td>\n",
       "      <td>29.248225</td>\n",
       "    </tr>\n",
       "    <tr>\n",
       "      <th>4</th>\n",
       "      <td>C57Bl/6J</td>\n",
       "      <td>25.702118</td>\n",
       "    </tr>\n",
       "    <tr>\n",
       "      <th>...</th>\n",
       "      <td>...</td>\n",
       "      <td>...</td>\n",
       "    </tr>\n",
       "    <tr>\n",
       "      <th>395</th>\n",
       "      <td>DBA/2J</td>\n",
       "      <td>20.489587</td>\n",
       "    </tr>\n",
       "    <tr>\n",
       "      <th>396</th>\n",
       "      <td>DBA/2J</td>\n",
       "      <td>21.512789</td>\n",
       "    </tr>\n",
       "    <tr>\n",
       "      <th>397</th>\n",
       "      <td>DBA/2J</td>\n",
       "      <td>18.677338</td>\n",
       "    </tr>\n",
       "    <tr>\n",
       "      <th>398</th>\n",
       "      <td>DBA/2J</td>\n",
       "      <td>22.974729</td>\n",
       "    </tr>\n",
       "    <tr>\n",
       "      <th>399</th>\n",
       "      <td>DBA/2J</td>\n",
       "      <td>19.312054</td>\n",
       "    </tr>\n",
       "  </tbody>\n",
       "</table>\n",
       "<p>400 rows × 2 columns</p>\n",
       "</div>"
      ],
      "text/plain": [
       "       strain     weight\n",
       "0    C57Bl/6J  27.596753\n",
       "1    C57Bl/6J  29.635837\n",
       "2    C57Bl/6J  28.460685\n",
       "3    C57Bl/6J  29.248225\n",
       "4    C57Bl/6J  25.702118\n",
       "..        ...        ...\n",
       "395    DBA/2J  20.489587\n",
       "396    DBA/2J  21.512789\n",
       "397    DBA/2J  18.677338\n",
       "398    DBA/2J  22.974729\n",
       "399    DBA/2J  19.312054\n",
       "\n",
       "[400 rows x 2 columns]"
      ]
     },
     "execution_count": 42,
     "metadata": {},
     "output_type": "execute_result"
    }
   ],
   "source": [
    "# Selecting columns:\n",
    "mouseDF['weight'] # --> returns a Series (a single column)\n",
    "mouseDF.weight # <- AVOID THIS dot notation.\n",
    "\n",
    "mouseDF[['strain', 'weight']] # --> returns a DataFrame (two or more columns)"
   ]
  },
  {
   "cell_type": "code",
   "execution_count": 43,
   "metadata": {
    "cell_id": "d4d788392cd44ebd88acc5ae01047c69",
    "execution_millis": 5,
    "execution_start": 1677530315336,
    "source_hash": "1ee9a0db",
    "tags": []
   },
   "outputs": [
    {
     "data": {
      "text/plain": [
       "0      27.596753\n",
       "1      29.635837\n",
       "2      28.460685\n",
       "3      29.248225\n",
       "4      25.702118\n",
       "         ...    \n",
       "395    20.489587\n",
       "396    21.512789\n",
       "397    18.677338\n",
       "398    22.974729\n",
       "399    19.312054\n",
       "Name: weight, Length: 400, dtype: float64"
      ]
     },
     "execution_count": 43,
     "metadata": {},
     "output_type": "execute_result"
    }
   ],
   "source": [
    "mouseDF.weight # --> generally not recommended; only works for column names witout spaces/punctuation"
   ]
  },
  {
   "cell_type": "code",
   "execution_count": 45,
   "metadata": {
    "cell_id": "eb595e662e58466ca43924d75cbf15c9",
    "execution_millis": 4,
    "execution_start": 1677530315364,
    "source_hash": "37ff890e",
    "tags": []
   },
   "outputs": [
    {
     "data": {
      "text/html": [
       "<div>\n",
       "<style scoped>\n",
       "    .dataframe tbody tr th:only-of-type {\n",
       "        vertical-align: middle;\n",
       "    }\n",
       "\n",
       "    .dataframe tbody tr th {\n",
       "        vertical-align: top;\n",
       "    }\n",
       "\n",
       "    .dataframe thead th {\n",
       "        text-align: right;\n",
       "    }\n",
       "</style>\n",
       "<table border=\"1\" class=\"dataframe\">\n",
       "  <thead>\n",
       "    <tr style=\"text-align: right;\">\n",
       "      <th></th>\n",
       "      <th>strain</th>\n",
       "      <th>sex</th>\n",
       "      <th>weight</th>\n",
       "    </tr>\n",
       "  </thead>\n",
       "  <tbody>\n",
       "    <tr>\n",
       "      <th>0</th>\n",
       "      <td>C57Bl/6J</td>\n",
       "      <td>M</td>\n",
       "      <td>27.596753</td>\n",
       "    </tr>\n",
       "    <tr>\n",
       "      <th>1</th>\n",
       "      <td>C57Bl/6J</td>\n",
       "      <td>M</td>\n",
       "      <td>29.635837</td>\n",
       "    </tr>\n",
       "  </tbody>\n",
       "</table>\n",
       "</div>"
      ],
      "text/plain": [
       "     strain sex     weight\n",
       "0  C57Bl/6J   M  27.596753\n",
       "1  C57Bl/6J   M  29.635837"
      ]
     },
     "execution_count": 45,
     "metadata": {},
     "output_type": "execute_result"
    }
   ],
   "source": [
    "# Selecting columns:\n",
    "mouseDF['weight']\n",
    "\n",
    "# Selecting rows:\n",
    "mouseDF[0:2] # --> returns a DataFrame containing row indexes 0 and 1 -- this is just like list slicing"
   ]
  },
  {
   "cell_type": "code",
   "execution_count": 46,
   "metadata": {
    "cell_id": "9650296c5b2c4bbda86e15af7c461566",
    "execution_millis": 3,
    "execution_start": 1677530315365,
    "source_hash": "e3029208",
    "tags": []
   },
   "outputs": [
    {
     "data": {
      "text/plain": [
       "29.635837290427972"
      ]
     },
     "execution_count": 46,
     "metadata": {},
     "output_type": "execute_result"
    }
   ],
   "source": [
    "# Selecting both (an intersection of row and column):\n",
    "mouseDF['weight'][1] # --> the second row of the 'weight' column\n",
    "# mouseDF['weight'] -> returns a series\n",
    "# (^^^)[1] -- says \"get index 1 from the series\""
   ]
  },
  {
   "cell_type": "code",
   "execution_count": 47,
   "metadata": {
    "cell_id": "49a585a215634d39bd1da80e9f942a5e",
    "execution_millis": 2,
    "execution_start": 1677530315370,
    "source_hash": "f4da93ab",
    "tags": []
   },
   "outputs": [
    {
     "data": {
      "text/plain": [
       "29.635837290427972"
      ]
     },
     "execution_count": 47,
     "metadata": {},
     "output_type": "execute_result"
    }
   ],
   "source": [
    "# A second way of writing the same thing using .loc -- \"explicit location\"\n",
    "mouseDF.loc[1, 'weight']"
   ]
  },
  {
   "cell_type": "code",
   "execution_count": 48,
   "metadata": {
    "cell_id": "cd59f354cb974d578d349c6fe8e24b5e",
    "execution_millis": 23777225,
    "execution_start": 1677530315409,
    "source_hash": "2ed8e4ed",
    "tags": []
   },
   "outputs": [
    {
     "data": {
      "text/plain": [
       "29.635837290427972"
      ]
     },
     "execution_count": 48,
     "metadata": {},
     "output_type": "execute_result"
    }
   ],
   "source": [
    "# A third way using .iloc -- \"implicit location\"\n",
    "mouseDF.iloc[1, 2] # --> the 1 means \"row index 1\" and the 2 means \"column index 2\""
   ]
  },
  {
   "cell_type": "markdown",
   "metadata": {
    "cell_id": "9c7d4dbbb6844423a485046c94fd7fb0",
    "tags": []
   },
   "source": [
    "## Selecting rows based on criteria (filtering)"
   ]
  },
  {
   "cell_type": "code",
   "execution_count": 50,
   "metadata": {
    "cell_id": "52377e7965aa40c3b049eefc38ada0fa",
    "execution_millis": 3,
    "execution_start": 1677530315443,
    "source_hash": "c8bd16dc",
    "tags": []
   },
   "outputs": [
    {
     "data": {
      "text/html": [
       "<div>\n",
       "<style scoped>\n",
       "    .dataframe tbody tr th:only-of-type {\n",
       "        vertical-align: middle;\n",
       "    }\n",
       "\n",
       "    .dataframe tbody tr th {\n",
       "        vertical-align: top;\n",
       "    }\n",
       "\n",
       "    .dataframe thead th {\n",
       "        text-align: right;\n",
       "    }\n",
       "</style>\n",
       "<table border=\"1\" class=\"dataframe\">\n",
       "  <thead>\n",
       "    <tr style=\"text-align: right;\">\n",
       "      <th></th>\n",
       "      <th>strain</th>\n",
       "      <th>sex</th>\n",
       "      <th>weight</th>\n",
       "    </tr>\n",
       "  </thead>\n",
       "  <tbody>\n",
       "    <tr>\n",
       "      <th>0</th>\n",
       "      <td>C57Bl/6J</td>\n",
       "      <td>M</td>\n",
       "      <td>27.596753</td>\n",
       "    </tr>\n",
       "    <tr>\n",
       "      <th>1</th>\n",
       "      <td>C57Bl/6J</td>\n",
       "      <td>M</td>\n",
       "      <td>29.635837</td>\n",
       "    </tr>\n",
       "    <tr>\n",
       "      <th>2</th>\n",
       "      <td>C57Bl/6J</td>\n",
       "      <td>M</td>\n",
       "      <td>28.460685</td>\n",
       "    </tr>\n",
       "    <tr>\n",
       "      <th>3</th>\n",
       "      <td>C57Bl/6J</td>\n",
       "      <td>M</td>\n",
       "      <td>29.248225</td>\n",
       "    </tr>\n",
       "    <tr>\n",
       "      <th>4</th>\n",
       "      <td>C57Bl/6J</td>\n",
       "      <td>M</td>\n",
       "      <td>25.702118</td>\n",
       "    </tr>\n",
       "    <tr>\n",
       "      <th>...</th>\n",
       "      <td>...</td>\n",
       "      <td>...</td>\n",
       "      <td>...</td>\n",
       "    </tr>\n",
       "    <tr>\n",
       "      <th>297</th>\n",
       "      <td>DBA/2J</td>\n",
       "      <td>M</td>\n",
       "      <td>32.848227</td>\n",
       "    </tr>\n",
       "    <tr>\n",
       "      <th>298</th>\n",
       "      <td>DBA/2J</td>\n",
       "      <td>M</td>\n",
       "      <td>29.093883</td>\n",
       "    </tr>\n",
       "    <tr>\n",
       "      <th>299</th>\n",
       "      <td>DBA/2J</td>\n",
       "      <td>M</td>\n",
       "      <td>27.920858</td>\n",
       "    </tr>\n",
       "    <tr>\n",
       "      <th>314</th>\n",
       "      <td>DBA/2J</td>\n",
       "      <td>F</td>\n",
       "      <td>25.661969</td>\n",
       "    </tr>\n",
       "    <tr>\n",
       "      <th>356</th>\n",
       "      <td>DBA/2J</td>\n",
       "      <td>F</td>\n",
       "      <td>25.609933</td>\n",
       "    </tr>\n",
       "  </tbody>\n",
       "</table>\n",
       "<p>171 rows × 3 columns</p>\n",
       "</div>"
      ],
      "text/plain": [
       "       strain sex     weight\n",
       "0    C57Bl/6J   M  27.596753\n",
       "1    C57Bl/6J   M  29.635837\n",
       "2    C57Bl/6J   M  28.460685\n",
       "3    C57Bl/6J   M  29.248225\n",
       "4    C57Bl/6J   M  25.702118\n",
       "..        ...  ..        ...\n",
       "297    DBA/2J   M  32.848227\n",
       "298    DBA/2J   M  29.093883\n",
       "299    DBA/2J   M  27.920858\n",
       "314    DBA/2J   F  25.661969\n",
       "356    DBA/2J   F  25.609933\n",
       "\n",
       "[171 rows x 3 columns]"
      ]
     },
     "execution_count": 50,
     "metadata": {},
     "output_type": "execute_result"
    }
   ],
   "source": [
    "# How would you find all mice with weights greater than 25?\n",
    "mouseDF[mouseDF['weight'] > 25]\n",
    "# NOTE: 171 rows were returned out of the 400 mice."
   ]
  },
  {
   "cell_type": "code",
   "execution_count": 52,
   "metadata": {
    "cell_id": "809f840ce3ff4d65be04ea8be73c72eb",
    "execution_millis": 6,
    "execution_start": 1677530315444,
    "source_hash": "8cb27d08",
    "tags": []
   },
   "outputs": [
    {
     "data": {
      "text/plain": [
       "0       True\n",
       "1       True\n",
       "2       True\n",
       "3       True\n",
       "4       True\n",
       "       ...  \n",
       "395    False\n",
       "396    False\n",
       "397    False\n",
       "398    False\n",
       "399    False\n",
       "Name: weight, Length: 400, dtype: bool"
      ]
     },
     "execution_count": 52,
     "metadata": {},
     "output_type": "execute_result"
    }
   ],
   "source": [
    "# Let's break it down here.\n",
    "\n",
    "# This creates a boolean Series (basically a bitmap) such that a True corresponds to a \n",
    "# row where the condition (weight > 25) holds, and False otherwise.\n",
    "rowsToInclude = mouseDF['weight'] > 25\n",
    "rowsToInclude\n",
    "# Passing this bitmap into the square brackets tells the DataFrame to only return the rows of data that\n",
    "# correspond with the rows in the bitmap that are True."
   ]
  },
  {
   "cell_type": "code",
   "execution_count": 53,
   "metadata": {},
   "outputs": [
    {
     "data": {
      "text/html": [
       "<div>\n",
       "<style scoped>\n",
       "    .dataframe tbody tr th:only-of-type {\n",
       "        vertical-align: middle;\n",
       "    }\n",
       "\n",
       "    .dataframe tbody tr th {\n",
       "        vertical-align: top;\n",
       "    }\n",
       "\n",
       "    .dataframe thead th {\n",
       "        text-align: right;\n",
       "    }\n",
       "</style>\n",
       "<table border=\"1\" class=\"dataframe\">\n",
       "  <thead>\n",
       "    <tr style=\"text-align: right;\">\n",
       "      <th></th>\n",
       "      <th>strain</th>\n",
       "      <th>sex</th>\n",
       "      <th>weight</th>\n",
       "    </tr>\n",
       "  </thead>\n",
       "  <tbody>\n",
       "    <tr>\n",
       "      <th>0</th>\n",
       "      <td>C57Bl/6J</td>\n",
       "      <td>M</td>\n",
       "      <td>27.596753</td>\n",
       "    </tr>\n",
       "    <tr>\n",
       "      <th>1</th>\n",
       "      <td>C57Bl/6J</td>\n",
       "      <td>M</td>\n",
       "      <td>29.635837</td>\n",
       "    </tr>\n",
       "    <tr>\n",
       "      <th>2</th>\n",
       "      <td>C57Bl/6J</td>\n",
       "      <td>M</td>\n",
       "      <td>28.460685</td>\n",
       "    </tr>\n",
       "    <tr>\n",
       "      <th>3</th>\n",
       "      <td>C57Bl/6J</td>\n",
       "      <td>M</td>\n",
       "      <td>29.248225</td>\n",
       "    </tr>\n",
       "    <tr>\n",
       "      <th>4</th>\n",
       "      <td>C57Bl/6J</td>\n",
       "      <td>M</td>\n",
       "      <td>25.702118</td>\n",
       "    </tr>\n",
       "    <tr>\n",
       "      <th>...</th>\n",
       "      <td>...</td>\n",
       "      <td>...</td>\n",
       "      <td>...</td>\n",
       "    </tr>\n",
       "    <tr>\n",
       "      <th>297</th>\n",
       "      <td>DBA/2J</td>\n",
       "      <td>M</td>\n",
       "      <td>32.848227</td>\n",
       "    </tr>\n",
       "    <tr>\n",
       "      <th>298</th>\n",
       "      <td>DBA/2J</td>\n",
       "      <td>M</td>\n",
       "      <td>29.093883</td>\n",
       "    </tr>\n",
       "    <tr>\n",
       "      <th>299</th>\n",
       "      <td>DBA/2J</td>\n",
       "      <td>M</td>\n",
       "      <td>27.920858</td>\n",
       "    </tr>\n",
       "    <tr>\n",
       "      <th>314</th>\n",
       "      <td>DBA/2J</td>\n",
       "      <td>F</td>\n",
       "      <td>25.661969</td>\n",
       "    </tr>\n",
       "    <tr>\n",
       "      <th>356</th>\n",
       "      <td>DBA/2J</td>\n",
       "      <td>F</td>\n",
       "      <td>25.609933</td>\n",
       "    </tr>\n",
       "  </tbody>\n",
       "</table>\n",
       "<p>171 rows × 3 columns</p>\n",
       "</div>"
      ],
      "text/plain": [
       "       strain sex     weight\n",
       "0    C57Bl/6J   M  27.596753\n",
       "1    C57Bl/6J   M  29.635837\n",
       "2    C57Bl/6J   M  28.460685\n",
       "3    C57Bl/6J   M  29.248225\n",
       "4    C57Bl/6J   M  25.702118\n",
       "..        ...  ..        ...\n",
       "297    DBA/2J   M  32.848227\n",
       "298    DBA/2J   M  29.093883\n",
       "299    DBA/2J   M  27.920858\n",
       "314    DBA/2J   F  25.661969\n",
       "356    DBA/2J   F  25.609933\n",
       "\n",
       "[171 rows x 3 columns]"
      ]
     },
     "execution_count": 53,
     "metadata": {},
     "output_type": "execute_result"
    }
   ],
   "source": [
    "mouseDF[rowsToInclude]"
   ]
  },
  {
   "cell_type": "code",
   "execution_count": 54,
   "metadata": {
    "cell_id": "37fce74dc5bb43788fba0190c547b84f",
    "execution_millis": 3,
    "execution_start": 1677530315495,
    "source_hash": "9c70b5f",
    "tags": []
   },
   "outputs": [
    {
     "data": {
      "text/html": [
       "<div>\n",
       "<style scoped>\n",
       "    .dataframe tbody tr th:only-of-type {\n",
       "        vertical-align: middle;\n",
       "    }\n",
       "\n",
       "    .dataframe tbody tr th {\n",
       "        vertical-align: top;\n",
       "    }\n",
       "\n",
       "    .dataframe thead th {\n",
       "        text-align: right;\n",
       "    }\n",
       "</style>\n",
       "<table border=\"1\" class=\"dataframe\">\n",
       "  <thead>\n",
       "    <tr style=\"text-align: right;\">\n",
       "      <th></th>\n",
       "      <th>strain</th>\n",
       "      <th>sex</th>\n",
       "      <th>weight</th>\n",
       "    </tr>\n",
       "  </thead>\n",
       "  <tbody>\n",
       "    <tr>\n",
       "      <th>216</th>\n",
       "      <td>DBA/2J</td>\n",
       "      <td>M</td>\n",
       "      <td>20.948356</td>\n",
       "    </tr>\n",
       "    <tr>\n",
       "      <th>226</th>\n",
       "      <td>DBA/2J</td>\n",
       "      <td>M</td>\n",
       "      <td>21.997478</td>\n",
       "    </tr>\n",
       "    <tr>\n",
       "      <th>244</th>\n",
       "      <td>DBA/2J</td>\n",
       "      <td>M</td>\n",
       "      <td>21.001669</td>\n",
       "    </tr>\n",
       "    <tr>\n",
       "      <th>267</th>\n",
       "      <td>DBA/2J</td>\n",
       "      <td>M</td>\n",
       "      <td>20.988524</td>\n",
       "    </tr>\n",
       "  </tbody>\n",
       "</table>\n",
       "</div>"
      ],
      "text/plain": [
       "     strain sex     weight\n",
       "216  DBA/2J   M  20.948356\n",
       "226  DBA/2J   M  21.997478\n",
       "244  DBA/2J   M  21.001669\n",
       "267  DBA/2J   M  20.988524"
      ]
     },
     "execution_count": 54,
     "metadata": {},
     "output_type": "execute_result"
    }
   ],
   "source": [
    "# Let's try a trickier one...select all mice who are male and have a weight *below* 22.\n",
    "\n",
    "#mouseDF[ mouse is male AND mouse weight < 22  ]\n",
    "mouseDF[(mouseDF['sex'] == 'M') & (mouseDF['weight'] < 22)]\n",
    "\n",
    "# We need to use the bitwise AND operator (a single ampersand) to combine the bitmap from each of the\n",
    "# subexpressions. It's important that both subexpression are wrapped in parentheses, otherwise \n",
    "# Bad Things Will Happen (TM). If we want to OR two bitmaps, we use | (single pipe)."
   ]
  },
  {
   "cell_type": "code",
   "execution_count": 65,
   "metadata": {
    "cell_id": "b4b01714aa1c4e6cae9a651cca7e5f54",
    "execution_millis": 45,
    "execution_start": 1677530315496,
    "source_hash": "3b8f8f65",
    "tags": []
   },
   "outputs": [
    {
     "name": "stdout",
     "output_type": "stream",
     "text": [
      "      strain sex  weight\n",
      "10  C57Bl/6J   M     NaN\n"
     ]
    }
   ],
   "source": [
    "# Find missing weights  (there is no missing data in mouseDF, so this' isn't interesting here):\n",
    "\n",
    "# Here I'm removing a piece of data (making it NaN, or \"not a number\") just so we can\n",
    "# see things working.\n",
    "import numpy as np\n",
    "\n",
    "a = mouseDF.loc[10, 'weight']\n",
    "mouseDF.loc[10, 'weight'] = np.nan\n",
    "\n",
    "\n",
    "# Here's the code to list all of the missing values in a Series.\n",
    "print(mouseDF[mouseDF['weight'].isna()])\n",
    "\n",
    "\n",
    "# This is just to reset the original value.\n",
    "mouseDF.loc[10, 'weight'] = a\n"
   ]
  },
  {
   "cell_type": "code",
   "execution_count": 66,
   "metadata": {
    "cell_id": "575ab36a5bdf4829b1250273e07daba5",
    "execution_millis": 2,
    "execution_start": 1677530315540,
    "source_hash": "4e6d3b75",
    "tags": []
   },
   "outputs": [
    {
     "data": {
      "text/html": [
       "<div>\n",
       "<style scoped>\n",
       "    .dataframe tbody tr th:only-of-type {\n",
       "        vertical-align: middle;\n",
       "    }\n",
       "\n",
       "    .dataframe tbody tr th {\n",
       "        vertical-align: top;\n",
       "    }\n",
       "\n",
       "    .dataframe thead th {\n",
       "        text-align: right;\n",
       "    }\n",
       "</style>\n",
       "<table border=\"1\" class=\"dataframe\">\n",
       "  <thead>\n",
       "    <tr style=\"text-align: right;\">\n",
       "      <th></th>\n",
       "      <th>strain</th>\n",
       "      <th>sex</th>\n",
       "      <th>weight</th>\n",
       "    </tr>\n",
       "  </thead>\n",
       "  <tbody>\n",
       "  </tbody>\n",
       "</table>\n",
       "</div>"
      ],
      "text/plain": [
       "Empty DataFrame\n",
       "Columns: [strain, sex, weight]\n",
       "Index: []"
      ]
     },
     "execution_count": 66,
     "metadata": {},
     "output_type": "execute_result"
    }
   ],
   "source": [
    "# Find rows where at least one column value is missing:\n",
    "mouseDF[ mouseDF.isna().any(axis=1) ]\n",
    "\n",
    "# The `axis=1` tells the any() method to aggregate across the columns in each row."
   ]
  },
  {
   "cell_type": "code",
   "execution_count": 67,
   "metadata": {
    "cell_id": "ae2cf0f1e30c4262ab82df0af1f586ec",
    "execution_millis": 3,
    "execution_start": 1677530315563,
    "source_hash": "217aba05",
    "tags": []
   },
   "outputs": [
    {
     "data": {
      "text/html": [
       "<div>\n",
       "<style scoped>\n",
       "    .dataframe tbody tr th:only-of-type {\n",
       "        vertical-align: middle;\n",
       "    }\n",
       "\n",
       "    .dataframe tbody tr th {\n",
       "        vertical-align: top;\n",
       "    }\n",
       "\n",
       "    .dataframe thead th {\n",
       "        text-align: right;\n",
       "    }\n",
       "</style>\n",
       "<table border=\"1\" class=\"dataframe\">\n",
       "  <thead>\n",
       "    <tr style=\"text-align: right;\">\n",
       "      <th></th>\n",
       "      <th>strain</th>\n",
       "      <th>sex</th>\n",
       "      <th>weight</th>\n",
       "    </tr>\n",
       "  </thead>\n",
       "  <tbody>\n",
       "    <tr>\n",
       "      <th>200</th>\n",
       "      <td>DBA/2J</td>\n",
       "      <td>M</td>\n",
       "      <td>25.904390</td>\n",
       "    </tr>\n",
       "    <tr>\n",
       "      <th>201</th>\n",
       "      <td>DBA/2J</td>\n",
       "      <td>M</td>\n",
       "      <td>26.531042</td>\n",
       "    </tr>\n",
       "    <tr>\n",
       "      <th>202</th>\n",
       "      <td>DBA/2J</td>\n",
       "      <td>M</td>\n",
       "      <td>27.975234</td>\n",
       "    </tr>\n",
       "    <tr>\n",
       "      <th>203</th>\n",
       "      <td>DBA/2J</td>\n",
       "      <td>M</td>\n",
       "      <td>28.852402</td>\n",
       "    </tr>\n",
       "    <tr>\n",
       "      <th>204</th>\n",
       "      <td>DBA/2J</td>\n",
       "      <td>M</td>\n",
       "      <td>27.480579</td>\n",
       "    </tr>\n",
       "    <tr>\n",
       "      <th>...</th>\n",
       "      <td>...</td>\n",
       "      <td>...</td>\n",
       "      <td>...</td>\n",
       "    </tr>\n",
       "    <tr>\n",
       "      <th>395</th>\n",
       "      <td>DBA/2J</td>\n",
       "      <td>F</td>\n",
       "      <td>20.489587</td>\n",
       "    </tr>\n",
       "    <tr>\n",
       "      <th>396</th>\n",
       "      <td>DBA/2J</td>\n",
       "      <td>F</td>\n",
       "      <td>21.512789</td>\n",
       "    </tr>\n",
       "    <tr>\n",
       "      <th>397</th>\n",
       "      <td>DBA/2J</td>\n",
       "      <td>F</td>\n",
       "      <td>18.677338</td>\n",
       "    </tr>\n",
       "    <tr>\n",
       "      <th>398</th>\n",
       "      <td>DBA/2J</td>\n",
       "      <td>F</td>\n",
       "      <td>22.974729</td>\n",
       "    </tr>\n",
       "    <tr>\n",
       "      <th>399</th>\n",
       "      <td>DBA/2J</td>\n",
       "      <td>F</td>\n",
       "      <td>19.312054</td>\n",
       "    </tr>\n",
       "  </tbody>\n",
       "</table>\n",
       "<p>200 rows × 3 columns</p>\n",
       "</div>"
      ],
      "text/plain": [
       "     strain sex     weight\n",
       "200  DBA/2J   M  25.904390\n",
       "201  DBA/2J   M  26.531042\n",
       "202  DBA/2J   M  27.975234\n",
       "203  DBA/2J   M  28.852402\n",
       "204  DBA/2J   M  27.480579\n",
       "..      ...  ..        ...\n",
       "395  DBA/2J   F  20.489587\n",
       "396  DBA/2J   F  21.512789\n",
       "397  DBA/2J   F  18.677338\n",
       "398  DBA/2J   F  22.974729\n",
       "399  DBA/2J   F  19.312054\n",
       "\n",
       "[200 rows x 3 columns]"
      ]
     },
     "execution_count": 67,
     "metadata": {},
     "output_type": "execute_result"
    }
   ],
   "source": [
    "# Find if a column value is in a list -- not that interesting here, as we only have two \n",
    "# strains and two sexes.\n",
    "\n",
    "mouseDF[ mouseDF['strain'].isin(['DBA/2J', 'DBA/2M'])]"
   ]
  },
  {
   "cell_type": "markdown",
   "metadata": {
    "cell_id": "c5197e00f07043d29162dd5cbecd707a",
    "tags": []
   },
   "source": [
    "### Question\n",
    "\n",
    "Try this one, which combines both the row selection with the column selection and aggregation:\n",
    "*find the mean weight of all female mice of the DBA/2J strain*."
   ]
  },
  {
   "cell_type": "code",
   "execution_count": null,
   "metadata": {
    "cell_id": "05dff01b5aea4163bb91270bcff0b26c",
    "execution_millis": 24,
    "execution_start": 1677530315575,
    "source_hash": "b623e53d",
    "tags": []
   },
   "outputs": [],
   "source": [
    "#TODO"
   ]
  },
  {
   "cell_type": "markdown",
   "metadata": {
    "cell_id": "e6345e07aef34494a501fd5e5429f20e",
    "tags": []
   },
   "source": [
    "## Removing data"
   ]
  },
  {
   "cell_type": "code",
   "execution_count": 68,
   "metadata": {
    "cell_id": "cbf5386a4e60499c934cdb156abf6fdd",
    "execution_millis": 3,
    "execution_start": 1677530315651,
    "source_hash": "bcd3fd95",
    "tags": []
   },
   "outputs": [
    {
     "data": {
      "text/html": [
       "<div>\n",
       "<style scoped>\n",
       "    .dataframe tbody tr th:only-of-type {\n",
       "        vertical-align: middle;\n",
       "    }\n",
       "\n",
       "    .dataframe tbody tr th {\n",
       "        vertical-align: top;\n",
       "    }\n",
       "\n",
       "    .dataframe thead th {\n",
       "        text-align: right;\n",
       "    }\n",
       "</style>\n",
       "<table border=\"1\" class=\"dataframe\">\n",
       "  <thead>\n",
       "    <tr style=\"text-align: right;\">\n",
       "      <th></th>\n",
       "      <th>strain</th>\n",
       "      <th>weight</th>\n",
       "    </tr>\n",
       "  </thead>\n",
       "  <tbody>\n",
       "    <tr>\n",
       "      <th>0</th>\n",
       "      <td>C57Bl/6J</td>\n",
       "      <td>27.596753</td>\n",
       "    </tr>\n",
       "    <tr>\n",
       "      <th>1</th>\n",
       "      <td>C57Bl/6J</td>\n",
       "      <td>29.635837</td>\n",
       "    </tr>\n",
       "    <tr>\n",
       "      <th>2</th>\n",
       "      <td>C57Bl/6J</td>\n",
       "      <td>28.460685</td>\n",
       "    </tr>\n",
       "    <tr>\n",
       "      <th>3</th>\n",
       "      <td>C57Bl/6J</td>\n",
       "      <td>29.248225</td>\n",
       "    </tr>\n",
       "    <tr>\n",
       "      <th>4</th>\n",
       "      <td>C57Bl/6J</td>\n",
       "      <td>25.702118</td>\n",
       "    </tr>\n",
       "    <tr>\n",
       "      <th>...</th>\n",
       "      <td>...</td>\n",
       "      <td>...</td>\n",
       "    </tr>\n",
       "    <tr>\n",
       "      <th>395</th>\n",
       "      <td>DBA/2J</td>\n",
       "      <td>20.489587</td>\n",
       "    </tr>\n",
       "    <tr>\n",
       "      <th>396</th>\n",
       "      <td>DBA/2J</td>\n",
       "      <td>21.512789</td>\n",
       "    </tr>\n",
       "    <tr>\n",
       "      <th>397</th>\n",
       "      <td>DBA/2J</td>\n",
       "      <td>18.677338</td>\n",
       "    </tr>\n",
       "    <tr>\n",
       "      <th>398</th>\n",
       "      <td>DBA/2J</td>\n",
       "      <td>22.974729</td>\n",
       "    </tr>\n",
       "    <tr>\n",
       "      <th>399</th>\n",
       "      <td>DBA/2J</td>\n",
       "      <td>19.312054</td>\n",
       "    </tr>\n",
       "  </tbody>\n",
       "</table>\n",
       "<p>400 rows × 2 columns</p>\n",
       "</div>"
      ],
      "text/plain": [
       "       strain     weight\n",
       "0    C57Bl/6J  27.596753\n",
       "1    C57Bl/6J  29.635837\n",
       "2    C57Bl/6J  28.460685\n",
       "3    C57Bl/6J  29.248225\n",
       "4    C57Bl/6J  25.702118\n",
       "..        ...        ...\n",
       "395    DBA/2J  20.489587\n",
       "396    DBA/2J  21.512789\n",
       "397    DBA/2J  18.677338\n",
       "398    DBA/2J  22.974729\n",
       "399    DBA/2J  19.312054\n",
       "\n",
       "[400 rows x 2 columns]"
      ]
     },
     "execution_count": 68,
     "metadata": {},
     "output_type": "execute_result"
    }
   ],
   "source": [
    "# For the axis parameter -- 1 = column, 0 = row\n",
    "mouseDF.drop('sex', axis=1) # This returns a \"view\" of the DataFrame without the 'sex' column"
   ]
  },
  {
   "cell_type": "code",
   "execution_count": 72,
   "metadata": {
    "cell_id": "a2fe7e9ab16e4bc5be1633aefd4508f2",
    "execution_millis": 23,
    "execution_start": 1677530315652,
    "source_hash": "e6dbda95",
    "tags": []
   },
   "outputs": [
    {
     "data": {
      "text/html": [
       "<div>\n",
       "<style scoped>\n",
       "    .dataframe tbody tr th:only-of-type {\n",
       "        vertical-align: middle;\n",
       "    }\n",
       "\n",
       "    .dataframe tbody tr th {\n",
       "        vertical-align: top;\n",
       "    }\n",
       "\n",
       "    .dataframe thead th {\n",
       "        text-align: right;\n",
       "    }\n",
       "</style>\n",
       "<table border=\"1\" class=\"dataframe\">\n",
       "  <thead>\n",
       "    <tr style=\"text-align: right;\">\n",
       "      <th></th>\n",
       "      <th>strain</th>\n",
       "      <th>sex</th>\n",
       "      <th>weight</th>\n",
       "    </tr>\n",
       "  </thead>\n",
       "  <tbody>\n",
       "    <tr>\n",
       "      <th>0</th>\n",
       "      <td>C57Bl/6J</td>\n",
       "      <td>M</td>\n",
       "      <td>27.596753</td>\n",
       "    </tr>\n",
       "    <tr>\n",
       "      <th>1</th>\n",
       "      <td>C57Bl/6J</td>\n",
       "      <td>M</td>\n",
       "      <td>29.635837</td>\n",
       "    </tr>\n",
       "    <tr>\n",
       "      <th>2</th>\n",
       "      <td>C57Bl/6J</td>\n",
       "      <td>M</td>\n",
       "      <td>28.460685</td>\n",
       "    </tr>\n",
       "    <tr>\n",
       "      <th>3</th>\n",
       "      <td>C57Bl/6J</td>\n",
       "      <td>M</td>\n",
       "      <td>29.248225</td>\n",
       "    </tr>\n",
       "    <tr>\n",
       "      <th>4</th>\n",
       "      <td>C57Bl/6J</td>\n",
       "      <td>M</td>\n",
       "      <td>25.702118</td>\n",
       "    </tr>\n",
       "    <tr>\n",
       "      <th>...</th>\n",
       "      <td>...</td>\n",
       "      <td>...</td>\n",
       "      <td>...</td>\n",
       "    </tr>\n",
       "    <tr>\n",
       "      <th>395</th>\n",
       "      <td>DBA/2J</td>\n",
       "      <td>F</td>\n",
       "      <td>20.489587</td>\n",
       "    </tr>\n",
       "    <tr>\n",
       "      <th>396</th>\n",
       "      <td>DBA/2J</td>\n",
       "      <td>F</td>\n",
       "      <td>21.512789</td>\n",
       "    </tr>\n",
       "    <tr>\n",
       "      <th>397</th>\n",
       "      <td>DBA/2J</td>\n",
       "      <td>F</td>\n",
       "      <td>18.677338</td>\n",
       "    </tr>\n",
       "    <tr>\n",
       "      <th>398</th>\n",
       "      <td>DBA/2J</td>\n",
       "      <td>F</td>\n",
       "      <td>22.974729</td>\n",
       "    </tr>\n",
       "    <tr>\n",
       "      <th>399</th>\n",
       "      <td>DBA/2J</td>\n",
       "      <td>F</td>\n",
       "      <td>19.312054</td>\n",
       "    </tr>\n",
       "  </tbody>\n",
       "</table>\n",
       "<p>400 rows × 3 columns</p>\n",
       "</div>"
      ],
      "text/plain": [
       "       strain sex     weight\n",
       "0    C57Bl/6J   M  27.596753\n",
       "1    C57Bl/6J   M  29.635837\n",
       "2    C57Bl/6J   M  28.460685\n",
       "3    C57Bl/6J   M  29.248225\n",
       "4    C57Bl/6J   M  25.702118\n",
       "..        ...  ..        ...\n",
       "395    DBA/2J   F  20.489587\n",
       "396    DBA/2J   F  21.512789\n",
       "397    DBA/2J   F  18.677338\n",
       "398    DBA/2J   F  22.974729\n",
       "399    DBA/2J   F  19.312054\n",
       "\n",
       "[400 rows x 3 columns]"
      ]
     },
     "execution_count": 72,
     "metadata": {},
     "output_type": "execute_result"
    }
   ],
   "source": [
    "# The original data is unaltered, though:\n",
    "mouseDF"
   ]
  },
  {
   "cell_type": "code",
   "execution_count": 71,
   "metadata": {
    "cell_id": "489d9d55f32440b78e532be6ed2e9dc9",
    "execution_millis": 4,
    "execution_start": 1677530315674,
    "source_hash": "ca1cdeb2",
    "tags": []
   },
   "outputs": [
    {
     "data": {
      "text/html": [
       "<div>\n",
       "<style scoped>\n",
       "    .dataframe tbody tr th:only-of-type {\n",
       "        vertical-align: middle;\n",
       "    }\n",
       "\n",
       "    .dataframe tbody tr th {\n",
       "        vertical-align: top;\n",
       "    }\n",
       "\n",
       "    .dataframe thead th {\n",
       "        text-align: right;\n",
       "    }\n",
       "</style>\n",
       "<table border=\"1\" class=\"dataframe\">\n",
       "  <thead>\n",
       "    <tr style=\"text-align: right;\">\n",
       "      <th></th>\n",
       "      <th>strain</th>\n",
       "      <th>weight</th>\n",
       "    </tr>\n",
       "  </thead>\n",
       "  <tbody>\n",
       "    <tr>\n",
       "      <th>0</th>\n",
       "      <td>C57Bl/6J</td>\n",
       "      <td>27.596753</td>\n",
       "    </tr>\n",
       "    <tr>\n",
       "      <th>1</th>\n",
       "      <td>C57Bl/6J</td>\n",
       "      <td>29.635837</td>\n",
       "    </tr>\n",
       "    <tr>\n",
       "      <th>2</th>\n",
       "      <td>C57Bl/6J</td>\n",
       "      <td>28.460685</td>\n",
       "    </tr>\n",
       "    <tr>\n",
       "      <th>3</th>\n",
       "      <td>C57Bl/6J</td>\n",
       "      <td>29.248225</td>\n",
       "    </tr>\n",
       "    <tr>\n",
       "      <th>4</th>\n",
       "      <td>C57Bl/6J</td>\n",
       "      <td>25.702118</td>\n",
       "    </tr>\n",
       "    <tr>\n",
       "      <th>...</th>\n",
       "      <td>...</td>\n",
       "      <td>...</td>\n",
       "    </tr>\n",
       "    <tr>\n",
       "      <th>395</th>\n",
       "      <td>DBA/2J</td>\n",
       "      <td>20.489587</td>\n",
       "    </tr>\n",
       "    <tr>\n",
       "      <th>396</th>\n",
       "      <td>DBA/2J</td>\n",
       "      <td>21.512789</td>\n",
       "    </tr>\n",
       "    <tr>\n",
       "      <th>397</th>\n",
       "      <td>DBA/2J</td>\n",
       "      <td>18.677338</td>\n",
       "    </tr>\n",
       "    <tr>\n",
       "      <th>398</th>\n",
       "      <td>DBA/2J</td>\n",
       "      <td>22.974729</td>\n",
       "    </tr>\n",
       "    <tr>\n",
       "      <th>399</th>\n",
       "      <td>DBA/2J</td>\n",
       "      <td>19.312054</td>\n",
       "    </tr>\n",
       "  </tbody>\n",
       "</table>\n",
       "<p>400 rows × 2 columns</p>\n",
       "</div>"
      ],
      "text/plain": [
       "       strain     weight\n",
       "0    C57Bl/6J  27.596753\n",
       "1    C57Bl/6J  29.635837\n",
       "2    C57Bl/6J  28.460685\n",
       "3    C57Bl/6J  29.248225\n",
       "4    C57Bl/6J  25.702118\n",
       "..        ...        ...\n",
       "395    DBA/2J  20.489587\n",
       "396    DBA/2J  21.512789\n",
       "397    DBA/2J  18.677338\n",
       "398    DBA/2J  22.974729\n",
       "399    DBA/2J  19.312054\n",
       "\n",
       "[400 rows x 2 columns]"
      ]
     },
     "execution_count": 71,
     "metadata": {},
     "output_type": "execute_result"
    }
   ],
   "source": [
    "# You can also remove data in place. \n",
    "# Here, I'm making a copy of mouseDF first so I can use the original data later.\n",
    "mouseDF2 = mouseDF.copy()\n",
    "mouseDF2.drop('sex', axis=1, inplace=True)\n",
    "mouseDF2"
   ]
  },
  {
   "cell_type": "code",
   "execution_count": null,
   "metadata": {
    "cell_id": "43f07e4219a346d7a170930d55d6f008",
    "execution_millis": 48,
    "execution_start": 1677530315723,
    "source_hash": "72615894",
    "tags": []
   },
   "outputs": [],
   "source": [
    "# You can drop just missing data.\n",
    "\n",
    "# Drop any row with one or missing value:\n",
    "mouseDF.dropna() \n",
    "# Same as:\n",
    "mouseDF.dropna(how='any', axis=0, inplace=False)\n",
    "\n",
    "# Drop any row missing all values.\n",
    "mouseDF.dropna(how='all', axis=0, inplace=False)\n",
    "\n",
    "# Drop any row missing all values in the columns 'sex' and 'weight'\n",
    "mouseDF.dropna(how='all', axis=0, inplace=False, subset=['weight', 'sex'])\n",
    "\n",
    "# Drop any column with at least one missing value:\n",
    "mouseDF.dropna(how='any', axis=1, inplace=False)"
   ]
  },
  {
   "cell_type": "markdown",
   "metadata": {
    "cell_id": "9059723b3af241c4955fe8dcf32e5840",
    "tags": []
   },
   "source": [
    "## Working with data"
   ]
  },
  {
   "cell_type": "code",
   "execution_count": 90,
   "metadata": {
    "cell_id": "b8d66490f2a54a0f8168f5eb642bdb80",
    "execution_millis": 4,
    "execution_start": 1677530315769,
    "source_hash": "114515d4",
    "tags": []
   },
   "outputs": [
    {
     "data": {
      "text/html": [
       "<div>\n",
       "<style scoped>\n",
       "    .dataframe tbody tr th:only-of-type {\n",
       "        vertical-align: middle;\n",
       "    }\n",
       "\n",
       "    .dataframe tbody tr th {\n",
       "        vertical-align: top;\n",
       "    }\n",
       "\n",
       "    .dataframe thead th {\n",
       "        text-align: right;\n",
       "    }\n",
       "</style>\n",
       "<table border=\"1\" class=\"dataframe\">\n",
       "  <thead>\n",
       "    <tr style=\"text-align: right;\">\n",
       "      <th></th>\n",
       "      <th>strain</th>\n",
       "      <th>sex</th>\n",
       "      <th>weight</th>\n",
       "      <th>scaledWeight</th>\n",
       "    </tr>\n",
       "  </thead>\n",
       "  <tbody>\n",
       "    <tr>\n",
       "      <th>0</th>\n",
       "      <td>C57Bl/6J</td>\n",
       "      <td>M</td>\n",
       "      <td>27.596753</td>\n",
       "      <td>0.659817</td>\n",
       "    </tr>\n",
       "    <tr>\n",
       "      <th>1</th>\n",
       "      <td>C57Bl/6J</td>\n",
       "      <td>M</td>\n",
       "      <td>29.635837</td>\n",
       "      <td>0.791906</td>\n",
       "    </tr>\n",
       "    <tr>\n",
       "      <th>2</th>\n",
       "      <td>C57Bl/6J</td>\n",
       "      <td>M</td>\n",
       "      <td>28.460685</td>\n",
       "      <td>0.715781</td>\n",
       "    </tr>\n",
       "    <tr>\n",
       "      <th>3</th>\n",
       "      <td>C57Bl/6J</td>\n",
       "      <td>M</td>\n",
       "      <td>29.248225</td>\n",
       "      <td>0.766797</td>\n",
       "    </tr>\n",
       "    <tr>\n",
       "      <th>4</th>\n",
       "      <td>C57Bl/6J</td>\n",
       "      <td>M</td>\n",
       "      <td>25.702118</td>\n",
       "      <td>0.537085</td>\n",
       "    </tr>\n",
       "    <tr>\n",
       "      <th>...</th>\n",
       "      <td>...</td>\n",
       "      <td>...</td>\n",
       "      <td>...</td>\n",
       "      <td>...</td>\n",
       "    </tr>\n",
       "    <tr>\n",
       "      <th>395</th>\n",
       "      <td>DBA/2J</td>\n",
       "      <td>F</td>\n",
       "      <td>20.489587</td>\n",
       "      <td>0.199424</td>\n",
       "    </tr>\n",
       "    <tr>\n",
       "      <th>396</th>\n",
       "      <td>DBA/2J</td>\n",
       "      <td>F</td>\n",
       "      <td>21.512789</td>\n",
       "      <td>0.265706</td>\n",
       "    </tr>\n",
       "    <tr>\n",
       "      <th>397</th>\n",
       "      <td>DBA/2J</td>\n",
       "      <td>F</td>\n",
       "      <td>18.677338</td>\n",
       "      <td>0.082029</td>\n",
       "    </tr>\n",
       "    <tr>\n",
       "      <th>398</th>\n",
       "      <td>DBA/2J</td>\n",
       "      <td>F</td>\n",
       "      <td>22.974729</td>\n",
       "      <td>0.360408</td>\n",
       "    </tr>\n",
       "    <tr>\n",
       "      <th>399</th>\n",
       "      <td>DBA/2J</td>\n",
       "      <td>F</td>\n",
       "      <td>19.312054</td>\n",
       "      <td>0.123145</td>\n",
       "    </tr>\n",
       "  </tbody>\n",
       "</table>\n",
       "<p>400 rows × 4 columns</p>\n",
       "</div>"
      ],
      "text/plain": [
       "       strain sex     weight  scaledWeight\n",
       "0    C57Bl/6J   M  27.596753      0.659817\n",
       "1    C57Bl/6J   M  29.635837      0.791906\n",
       "2    C57Bl/6J   M  28.460685      0.715781\n",
       "3    C57Bl/6J   M  29.248225      0.766797\n",
       "4    C57Bl/6J   M  25.702118      0.537085\n",
       "..        ...  ..        ...           ...\n",
       "395    DBA/2J   F  20.489587      0.199424\n",
       "396    DBA/2J   F  21.512789      0.265706\n",
       "397    DBA/2J   F  18.677338      0.082029\n",
       "398    DBA/2J   F  22.974729      0.360408\n",
       "399    DBA/2J   F  19.312054      0.123145\n",
       "\n",
       "[400 rows x 4 columns]"
      ]
     },
     "execution_count": 90,
     "metadata": {},
     "output_type": "execute_result"
    }
   ],
   "source": [
    "maxWeight = mouseDF['weight'].max()\n",
    "minWeight = mouseDF['weight'].min()\n",
    "#(maxWeight, minWeight)\n",
    "\n",
    "\n",
    "# maxWeight - mouseDF['weight']\n",
    "# Here's an example of broadcasting\n",
    "# -- scalar values (that's what we call single values) are broadcast \n",
    "# along the dimension of a Series.\n",
    "mouseDF['scaledWeight'] = (mouseDF['weight']-minWeight)/(maxWeight-minWeight)\n",
    "mouseDF"
   ]
  },
  {
   "cell_type": "code",
   "execution_count": 91,
   "metadata": {},
   "outputs": [
    {
     "data": {
      "text/plain": [
       "(0.0, 1.0)"
      ]
     },
     "execution_count": 91,
     "metadata": {},
     "output_type": "execute_result"
    }
   ],
   "source": [
    "mouseDF['scaledWeight'].min(), mouseDF['scaledWeight'].max()"
   ]
  },
  {
   "cell_type": "code",
   "execution_count": 82,
   "metadata": {
    "cell_id": "f42ca1702aec43fab4ee4c18d639fa91",
    "execution_millis": 3,
    "execution_start": 1677530315815,
    "source_hash": "2efe3aa6",
    "tags": []
   },
   "outputs": [
    {
     "data": {
      "text/html": [
       "<div>\n",
       "<style scoped>\n",
       "    .dataframe tbody tr th:only-of-type {\n",
       "        vertical-align: middle;\n",
       "    }\n",
       "\n",
       "    .dataframe tbody tr th {\n",
       "        vertical-align: top;\n",
       "    }\n",
       "\n",
       "    .dataframe thead th {\n",
       "        text-align: right;\n",
       "    }\n",
       "</style>\n",
       "<table border=\"1\" class=\"dataframe\">\n",
       "  <thead>\n",
       "    <tr style=\"text-align: right;\">\n",
       "      <th></th>\n",
       "      <th>strain</th>\n",
       "      <th>sex</th>\n",
       "    </tr>\n",
       "  </thead>\n",
       "  <tbody>\n",
       "    <tr>\n",
       "      <th>0</th>\n",
       "      <td>C57Bl/6J__suffix</td>\n",
       "      <td>M__suffix</td>\n",
       "    </tr>\n",
       "    <tr>\n",
       "      <th>1</th>\n",
       "      <td>C57Bl/6J__suffix</td>\n",
       "      <td>M__suffix</td>\n",
       "    </tr>\n",
       "    <tr>\n",
       "      <th>2</th>\n",
       "      <td>C57Bl/6J__suffix</td>\n",
       "      <td>M__suffix</td>\n",
       "    </tr>\n",
       "    <tr>\n",
       "      <th>3</th>\n",
       "      <td>C57Bl/6J__suffix</td>\n",
       "      <td>M__suffix</td>\n",
       "    </tr>\n",
       "    <tr>\n",
       "      <th>4</th>\n",
       "      <td>C57Bl/6J__suffix</td>\n",
       "      <td>M__suffix</td>\n",
       "    </tr>\n",
       "    <tr>\n",
       "      <th>...</th>\n",
       "      <td>...</td>\n",
       "      <td>...</td>\n",
       "    </tr>\n",
       "    <tr>\n",
       "      <th>395</th>\n",
       "      <td>DBA/2J__suffix</td>\n",
       "      <td>F__suffix</td>\n",
       "    </tr>\n",
       "    <tr>\n",
       "      <th>396</th>\n",
       "      <td>DBA/2J__suffix</td>\n",
       "      <td>F__suffix</td>\n",
       "    </tr>\n",
       "    <tr>\n",
       "      <th>397</th>\n",
       "      <td>DBA/2J__suffix</td>\n",
       "      <td>F__suffix</td>\n",
       "    </tr>\n",
       "    <tr>\n",
       "      <th>398</th>\n",
       "      <td>DBA/2J__suffix</td>\n",
       "      <td>F__suffix</td>\n",
       "    </tr>\n",
       "    <tr>\n",
       "      <th>399</th>\n",
       "      <td>DBA/2J__suffix</td>\n",
       "      <td>F__suffix</td>\n",
       "    </tr>\n",
       "  </tbody>\n",
       "</table>\n",
       "<p>400 rows × 2 columns</p>\n",
       "</div>"
      ],
      "text/plain": [
       "               strain        sex\n",
       "0    C57Bl/6J__suffix  M__suffix\n",
       "1    C57Bl/6J__suffix  M__suffix\n",
       "2    C57Bl/6J__suffix  M__suffix\n",
       "3    C57Bl/6J__suffix  M__suffix\n",
       "4    C57Bl/6J__suffix  M__suffix\n",
       "..                ...        ...\n",
       "395    DBA/2J__suffix  F__suffix\n",
       "396    DBA/2J__suffix  F__suffix\n",
       "397    DBA/2J__suffix  F__suffix\n",
       "398    DBA/2J__suffix  F__suffix\n",
       "399    DBA/2J__suffix  F__suffix\n",
       "\n",
       "[400 rows x 2 columns]"
      ]
     },
     "execution_count": 82,
     "metadata": {},
     "output_type": "execute_result"
    }
   ],
   "source": [
    "# You can also broadcast scalar values across an entire DataFrame:\n",
    "mouseDF[['strain', 'sex']] + '__suffix'\n"
   ]
  },
  {
   "cell_type": "code",
   "execution_count": 92,
   "metadata": {},
   "outputs": [
    {
     "data": {
      "text/plain": [
       "0      28.256570\n",
       "1      30.427743\n",
       "2      29.176466\n",
       "3      30.015021\n",
       "4      26.239203\n",
       "         ...    \n",
       "395    20.689012\n",
       "396    21.778495\n",
       "397    18.759367\n",
       "398    23.335137\n",
       "399    19.435199\n",
       "Length: 400, dtype: float64"
      ]
     },
     "execution_count": 92,
     "metadata": {},
     "output_type": "execute_result"
    }
   ],
   "source": [
    "# We can perform row-wise operations on Series. The following\n",
    "# adds the value of mouseDF['weight'][i] with mouseDF['scaledWeight'][i] \n",
    "# for each i in len(mouseDF)\n",
    "mouseDF['weight'] + mouseDF['scaledWeight']"
   ]
  },
  {
   "cell_type": "code",
   "execution_count": 84,
   "metadata": {},
   "outputs": [
    {
     "data": {
      "text/plain": [
       "0      C57Bl/6J~~M\n",
       "1      C57Bl/6J~~M\n",
       "2      C57Bl/6J~~M\n",
       "3      C57Bl/6J~~M\n",
       "4      C57Bl/6J~~M\n",
       "          ...     \n",
       "395      DBA/2J~~F\n",
       "396      DBA/2J~~F\n",
       "397      DBA/2J~~F\n",
       "398      DBA/2J~~F\n",
       "399      DBA/2J~~F\n",
       "Length: 400, dtype: object"
      ]
     },
     "execution_count": 84,
     "metadata": {},
     "output_type": "execute_result"
    }
   ],
   "source": [
    "# for each i in len(mouseDF)\n",
    "mouseDF['strain'] + '~~'+ mouseDF['sex']"
   ]
  },
  {
   "cell_type": "code",
   "execution_count": 93,
   "metadata": {
    "cell_id": "5f4acc3c032c4c2a85dfacb5d2384f5f",
    "execution_millis": 2,
    "execution_start": 1677530315816,
    "source_hash": "47d503aa",
    "tags": []
   },
   "outputs": [
    {
     "data": {
      "text/plain": [
       "0      28.256570\n",
       "1      30.427743\n",
       "2      29.176466\n",
       "3      30.015021\n",
       "4      26.239203\n",
       "         ...    \n",
       "395    20.689012\n",
       "396    21.778495\n",
       "397    18.759367\n",
       "398    23.335137\n",
       "399    19.435199\n",
       "Length: 400, dtype: float64"
      ]
     },
     "execution_count": 93,
     "metadata": {},
     "output_type": "execute_result"
    }
   ],
   "source": [
    "# We can also do it like this.\n",
    "mouseDF['weight'].add(mouseDF['scaledWeight'])"
   ]
  },
  {
   "cell_type": "markdown",
   "metadata": {
    "cell_id": "4e8a8e03a56040f0acaa03bb1cafa3f9",
    "tags": []
   },
   "source": [
    "You can do some other cool things with `add()`, `sub()`, `mul()`, `div()`, `mod()`, `pow()` with DataFrames—[check out this documentation on add](https://pandas.pydata.org/pandas-docs/stable/reference/api/pandas.DataFrame.add.html?highlight=add)."
   ]
  },
  {
   "cell_type": "code",
   "execution_count": 94,
   "metadata": {
    "cell_id": "4d9f430220814360baf517045d5071a6",
    "execution_millis": 21,
    "execution_start": 1677530315863,
    "source_hash": "cec2e9b1",
    "tags": []
   },
   "outputs": [
    {
     "data": {
      "text/plain": [
       "0     -10.798377\n",
       "1     -11.817919\n",
       "2     -11.230343\n",
       "3     -11.624112\n",
       "4      -9.851059\n",
       "         ...    \n",
       "395    -7.244794\n",
       "396    -7.756394\n",
       "397    -6.338669\n",
       "398    -8.487364\n",
       "399    -6.656027\n",
       "Name: weight, Length: 400, dtype: float64"
      ]
     },
     "execution_count": 94,
     "metadata": {},
     "output_type": "execute_result"
    }
   ],
   "source": [
    "# Apply a function to every element in a Series (this is slow!):\n",
    "mouseDF['weight'].apply(lambda elem: (6-elem)/2)"
   ]
  },
  {
   "cell_type": "code",
   "execution_count": 95,
   "metadata": {
    "cell_id": "5e64bce9cfb7488bb75548e29dc0888c",
    "execution_start": 1677530315864,
    "source_hash": "277437ff",
    "tags": []
   },
   "outputs": [
    {
     "data": {
      "text/plain": [
       "0      10.375434\n",
       "1      10.614913\n",
       "2      10.479742\n",
       "3      10.571150\n",
       "4      10.130571\n",
       "         ...    \n",
       "395     9.315886\n",
       "396     9.494960\n",
       "397     8.970737\n",
       "398     9.733370\n",
       "399     9.095964\n",
       "Length: 400, dtype: float64"
      ]
     },
     "execution_count": 95,
     "metadata": {},
     "output_type": "execute_result"
    }
   ],
   "source": [
    "# With DataFrame, we can apply a function to every row or column:\n",
    "mouseDF.apply(lambda row: row['weight']/(row['scaledWeight']+2), axis=1)"
   ]
  },
  {
   "cell_type": "markdown",
   "metadata": {
    "cell_id": "2f4e7eae8308469691f535e9340008a6",
    "tags": []
   },
   "source": [
    "## Sorting"
   ]
  },
  {
   "cell_type": "code",
   "execution_count": 96,
   "metadata": {
    "cell_id": "f6bcfb7fa80148d4a123ce0398f887e6",
    "execution_millis": 23,
    "execution_start": 1677530315864,
    "source_hash": "5a410a1c",
    "tags": []
   },
   "outputs": [
    {
     "data": {
      "text/html": [
       "<div>\n",
       "<style scoped>\n",
       "    .dataframe tbody tr th:only-of-type {\n",
       "        vertical-align: middle;\n",
       "    }\n",
       "\n",
       "    .dataframe tbody tr th {\n",
       "        vertical-align: top;\n",
       "    }\n",
       "\n",
       "    .dataframe thead th {\n",
       "        text-align: right;\n",
       "    }\n",
       "</style>\n",
       "<table border=\"1\" class=\"dataframe\">\n",
       "  <thead>\n",
       "    <tr style=\"text-align: right;\">\n",
       "      <th></th>\n",
       "      <th>strain</th>\n",
       "      <th>sex</th>\n",
       "      <th>weight</th>\n",
       "      <th>scaledWeight</th>\n",
       "    </tr>\n",
       "  </thead>\n",
       "  <tbody>\n",
       "    <tr>\n",
       "      <th>386</th>\n",
       "      <td>DBA/2J</td>\n",
       "      <td>F</td>\n",
       "      <td>17.411034</td>\n",
       "      <td>0.000000</td>\n",
       "    </tr>\n",
       "    <tr>\n",
       "      <th>368</th>\n",
       "      <td>DBA/2J</td>\n",
       "      <td>F</td>\n",
       "      <td>17.628359</td>\n",
       "      <td>0.014078</td>\n",
       "    </tr>\n",
       "    <tr>\n",
       "      <th>197</th>\n",
       "      <td>C57Bl/6J</td>\n",
       "      <td>F</td>\n",
       "      <td>17.662404</td>\n",
       "      <td>0.016283</td>\n",
       "    </tr>\n",
       "    <tr>\n",
       "      <th>381</th>\n",
       "      <td>DBA/2J</td>\n",
       "      <td>F</td>\n",
       "      <td>17.889620</td>\n",
       "      <td>0.031002</td>\n",
       "    </tr>\n",
       "    <tr>\n",
       "      <th>174</th>\n",
       "      <td>C57Bl/6J</td>\n",
       "      <td>F</td>\n",
       "      <td>18.058338</td>\n",
       "      <td>0.041931</td>\n",
       "    </tr>\n",
       "    <tr>\n",
       "      <th>...</th>\n",
       "      <td>...</td>\n",
       "      <td>...</td>\n",
       "      <td>...</td>\n",
       "      <td>...</td>\n",
       "    </tr>\n",
       "    <tr>\n",
       "      <th>89</th>\n",
       "      <td>C57Bl/6J</td>\n",
       "      <td>M</td>\n",
       "      <td>31.404027</td>\n",
       "      <td>0.906447</td>\n",
       "    </tr>\n",
       "    <tr>\n",
       "      <th>81</th>\n",
       "      <td>C57Bl/6J</td>\n",
       "      <td>M</td>\n",
       "      <td>31.639560</td>\n",
       "      <td>0.921704</td>\n",
       "    </tr>\n",
       "    <tr>\n",
       "      <th>239</th>\n",
       "      <td>DBA/2J</td>\n",
       "      <td>M</td>\n",
       "      <td>31.659248</td>\n",
       "      <td>0.922980</td>\n",
       "    </tr>\n",
       "    <tr>\n",
       "      <th>53</th>\n",
       "      <td>C57Bl/6J</td>\n",
       "      <td>M</td>\n",
       "      <td>31.793106</td>\n",
       "      <td>0.931651</td>\n",
       "    </tr>\n",
       "    <tr>\n",
       "      <th>297</th>\n",
       "      <td>DBA/2J</td>\n",
       "      <td>M</td>\n",
       "      <td>32.848227</td>\n",
       "      <td>1.000000</td>\n",
       "    </tr>\n",
       "  </tbody>\n",
       "</table>\n",
       "<p>400 rows × 4 columns</p>\n",
       "</div>"
      ],
      "text/plain": [
       "       strain sex     weight  scaledWeight\n",
       "386    DBA/2J   F  17.411034      0.000000\n",
       "368    DBA/2J   F  17.628359      0.014078\n",
       "197  C57Bl/6J   F  17.662404      0.016283\n",
       "381    DBA/2J   F  17.889620      0.031002\n",
       "174  C57Bl/6J   F  18.058338      0.041931\n",
       "..        ...  ..        ...           ...\n",
       "89   C57Bl/6J   M  31.404027      0.906447\n",
       "81   C57Bl/6J   M  31.639560      0.921704\n",
       "239    DBA/2J   M  31.659248      0.922980\n",
       "53   C57Bl/6J   M  31.793106      0.931651\n",
       "297    DBA/2J   M  32.848227      1.000000\n",
       "\n",
       "[400 rows x 4 columns]"
      ]
     },
     "execution_count": 96,
     "metadata": {},
     "output_type": "execute_result"
    }
   ],
   "source": [
    " # Sort the DataFrame rows by weight.\n",
    "mouseDF.sort_values(['weight'])"
   ]
  },
  {
   "cell_type": "markdown",
   "metadata": {
    "cell_id": "fd104a90a6884f76a97745c1d40d7bc8",
    "tags": []
   },
   "source": [
    "### Question\n",
    "\n",
    "Sort the rows of `mouseDF` by sex, followed by weight, followed by strain, in descending order. Take a look at the documentation for `DataFrame.sort_values` to find out how to do this."
   ]
  },
  {
   "cell_type": "code",
   "execution_count": null,
   "metadata": {
    "cell_id": "74c87d5bf8f34f02b0098a413a879bbb",
    "execution_millis": 18,
    "execution_start": 1677530315883,
    "source_hash": "cf445ff5",
    "tags": []
   },
   "outputs": [],
   "source": [
    "# TODO"
   ]
  },
  {
   "cell_type": "markdown",
   "metadata": {
    "cell_id": "fd39883eb74649b285bd4467ba1e17e9",
    "tags": []
   },
   "source": [
    "## Grouping\n",
    "\n",
    "Follows a \"split-apply-combine\" model. This is similar to the group by in SQL and pivot table in Excel."
   ]
  },
  {
   "cell_type": "code",
   "execution_count": 98,
   "metadata": {
    "cell_id": "92d60bec74d440c98618d36b99a5aa1e",
    "execution_millis": 4,
    "execution_start": 1677530315947,
    "source_hash": "fcd57b51",
    "tags": []
   },
   "outputs": [
    {
     "data": {
      "text/html": [
       "<div>\n",
       "<style scoped>\n",
       "    .dataframe tbody tr th:only-of-type {\n",
       "        vertical-align: middle;\n",
       "    }\n",
       "\n",
       "    .dataframe tbody tr th {\n",
       "        vertical-align: top;\n",
       "    }\n",
       "\n",
       "    .dataframe thead tr th {\n",
       "        text-align: left;\n",
       "    }\n",
       "\n",
       "    .dataframe thead tr:last-of-type th {\n",
       "        text-align: right;\n",
       "    }\n",
       "</style>\n",
       "<table border=\"1\" class=\"dataframe\">\n",
       "  <thead>\n",
       "    <tr>\n",
       "      <th></th>\n",
       "      <th colspan=\"3\" halign=\"left\">weight</th>\n",
       "      <th colspan=\"3\" halign=\"left\">scaledWeight</th>\n",
       "    </tr>\n",
       "    <tr>\n",
       "      <th></th>\n",
       "      <th>min</th>\n",
       "      <th>mean</th>\n",
       "      <th>max</th>\n",
       "      <th>min</th>\n",
       "      <th>mean</th>\n",
       "      <th>max</th>\n",
       "    </tr>\n",
       "    <tr>\n",
       "      <th>strain</th>\n",
       "      <th></th>\n",
       "      <th></th>\n",
       "      <th></th>\n",
       "      <th></th>\n",
       "      <th></th>\n",
       "      <th></th>\n",
       "    </tr>\n",
       "  </thead>\n",
       "  <tbody>\n",
       "    <tr>\n",
       "      <th>C57Bl/6J</th>\n",
       "      <td>17.662404</td>\n",
       "      <td>24.156513</td>\n",
       "      <td>31.793106</td>\n",
       "      <td>0.016283</td>\n",
       "      <td>0.436963</td>\n",
       "      <td>0.931651</td>\n",
       "    </tr>\n",
       "    <tr>\n",
       "      <th>DBA/2J</th>\n",
       "      <td>17.411034</td>\n",
       "      <td>23.847728</td>\n",
       "      <td>32.848227</td>\n",
       "      <td>0.000000</td>\n",
       "      <td>0.416960</td>\n",
       "      <td>1.000000</td>\n",
       "    </tr>\n",
       "  </tbody>\n",
       "</table>\n",
       "</div>"
      ],
      "text/plain": [
       "             weight                       scaledWeight                    \n",
       "                min       mean        max          min      mean       max\n",
       "strain                                                                    \n",
       "C57Bl/6J  17.662404  24.156513  31.793106     0.016283  0.436963  0.931651\n",
       "DBA/2J    17.411034  23.847728  32.848227     0.000000  0.416960  1.000000"
      ]
     },
     "execution_count": 98,
     "metadata": {},
     "output_type": "execute_result"
    }
   ],
   "source": [
    "# Split\n",
    "groupedByStrain = mouseDF[['strain', 'weight', 'scaledWeight']].groupby('strain')\n",
    "groupedByStrain # <- grouped objects don't display as anything useful.\n",
    "\n",
    "# Apply & combine\n",
    "groupedByStrain.agg(['min', 'mean', 'max'])\n"
   ]
  },
  {
   "cell_type": "markdown",
   "metadata": {
    "cell_id": "394afe78aa6b4990910159de31b9ceb6",
    "tags": []
   },
   "source": [
    "### Question\n",
    "\n",
    "Find the mean weight of mice by sex."
   ]
  },
  {
   "cell_type": "code",
   "execution_count": null,
   "metadata": {
    "cell_id": "42a07497c35347ef80e33d45596b2406",
    "execution_millis": 1,
    "execution_start": 1677530315995,
    "source_hash": "cf445ff5",
    "tags": []
   },
   "outputs": [],
   "source": [
    "# TODO"
   ]
  },
  {
   "cell_type": "markdown",
   "metadata": {},
   "source": [
    "# Visualizing the data\n",
    "\n",
    "\n",
    "Use histograms to understand the distributions of column values."
   ]
  },
  {
   "cell_type": "code",
   "execution_count": 99,
   "metadata": {},
   "outputs": [
    {
     "name": "stderr",
     "output_type": "stream",
     "text": [
      "/home/hfeild/.local/lib/python3.8/site-packages/pandas/plotting/_matplotlib/tools.py:331: MatplotlibDeprecationWarning: \n",
      "The is_first_col function was deprecated in Matplotlib 3.4 and will be removed two minor releases later. Use ax.get_subplotspec().is_first_col() instead.\n",
      "  if ax.is_first_col():\n"
     ]
    },
    {
     "data": {
      "text/plain": [
       "array([[<AxesSubplot:title={'center':'weight'}>,\n",
       "        <AxesSubplot:title={'center':'scaledWeight'}>]], dtype=object)"
      ]
     },
     "execution_count": 99,
     "metadata": {},
     "output_type": "execute_result"
    },
    {
     "data": {
      "image/png": "[encoded data removed]",
      "text/plain": [
       "<Figure size 432x288 with 2 Axes>"
      ]
     },
     "metadata": {
      "needs_background": "light"
     },
     "output_type": "display_data"
    }
   ],
   "source": [
    "mouseDF.hist()"
   ]
  }
 ],
 "metadata": {
  "kernelspec": {
   "display_name": "Python 3",
   "language": "python",
   "name": "python3"
  },
  "language_info": {
   "codemirror_mode": {
    "name": "ipython",
    "version": 3
   },
   "file_extension": ".py",
   "mimetype": "text/x-python",
   "name": "python",
   "nbconvert_exporter": "python",
   "pygments_lexer": "ipython3",
   "version": "3.8.10"
  }
 },
 "nbformat": 4,
 "nbformat_minor": 1
}
