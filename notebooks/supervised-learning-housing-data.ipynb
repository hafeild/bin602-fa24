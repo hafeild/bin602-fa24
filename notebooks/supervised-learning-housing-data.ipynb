{
 "cells": [
  {
   "cell_type": "markdown",
   "metadata": {
    "cell_id": "947d62d1a1994f0eb1f183fc5b8dd19d",
    "deepnote_cell_type": "markdown"
   },
   "source": [
    "# Supervised learning\n",
    "\n",
    "Author: Hank Feild  \n",
    "Date: 2025-01-09\n",
    "\n",
    "Demonstrates performing supervised learning over a dataset of housing data. Five models are deomonstrated:\n",
    "\n",
    "  * regression: to predict selling prices of houses\n",
    "    - linear regression\n",
    "    - kNN (k-nearest neighbors)\n",
    "    - deicsion tree\n",
    "    - random forest\n",
    "  * binary classification: to predict well above median selling price vs. not\n",
    "    - logistic regression\n",
    "    - kNN (k-nearest neighbors)\n",
    "    - deicsion tree\n",
    "    - random forest\n",
    "  * multiclass classification: to predict low (below median), median, and high (above median) selling price\n",
    "    - logistic regression\n",
    "    - kNN (k-nearest neighbors)\n",
    "    - deicsion tree\n",
    "    - random forest\n",
    "  \n",
    "Several evaluation measures:\n",
    "\n",
    "  * regression\n",
    "    - $R^2$ (coefficient of correlation)\n",
    "    - MSE (mean squared error)\n",
    "    - RMSE (root mean squared error)\n",
    "    - MedAE (median absolute error)\n",
    "  * classification\n",
    "    - accuracy\n",
    "    - precision\n",
    "    - recall\n",
    "    - F1 (harmonic mean of precision and recall)\n",
    "    - AuC/ROC (area under the receiver operating characteristic curve)\n",
    "\n",
    "Other topics:\n",
    "\n",
    "  * splitting data into training, development, and testing\n",
    "  * stratifying data (for classification)\n",
    "  * randomizing data (for both regression and classification)\n",
    "  * balancing a data set (for classification)\n",
    "  "
   ]
  },
  {
   "cell_type": "code",
   "execution_count": 1,
   "metadata": {},
   "outputs": [
    {
     "name": "stderr",
     "output_type": "stream",
     "text": [
      "/home/hfeild/.local/lib/python3.8/site-packages/scipy/__init__.py:143: UserWarning: A NumPy version >=1.19.5 and <1.27.0 is required for this version of SciPy (detected version 1.19.2)\n",
      "  warnings.warn(f\"A NumPy version >={np_minversion} and <{np_maxversion}\"\n"
     ]
    }
   ],
   "source": [
    "# Modules needed -- everything that is needed is up here, but I've included commented out import statements\n",
    "# in code cells that use a particular module.\n",
    "import pandas as pd\n",
    "from sklearn.model_selection import train_test_split # For created training/development/testing sets\n",
    "from sklearn.preprocessing import MinMaxScaler # For normalizing\n",
    "from sklearn.linear_model import LinearRegression\n",
    "from sklearn.linear_model import LogisticRegression\n",
    "from sklearn.neighbors import KNeighborsClassifier, KNeighborsRegressor\n",
    "from sklearn.tree import DecisionTreeClassifier, DecisionTreeRegressor\n",
    "from sklearn.ensemble import RandomForestClassifier, RandomForestRegressor\n",
    "\n",
    "# Regression evaluation modules\n",
    "from sklearn.metrics import mean_squared_error\n",
    "from sklearn.metrics import r2_score\n",
    "from sklearn.metrics import median_absolute_error\n",
    "import math\n",
    "\n",
    "# Classification evaluation modules\n",
    "from sklearn.metrics import accuracy_score\n",
    "from sklearn.metrics import precision_score\n",
    "from sklearn.metrics import recall_score\n",
    "from sklearn.metrics import f1_score\n",
    "from sklearn.metrics import roc_auc_score\n"
   ]
  },
  {
   "cell_type": "markdown",
   "metadata": {},
   "source": [
    "## Read in the data"
   ]
  },
  {
   "cell_type": "code",
   "execution_count": 2,
   "metadata": {
    "cell_id": "561e833b37c6494180c10288d944fd22",
    "deepnote_cell_type": "code",
    "deepnote_to_be_reexecuted": false,
    "execution_millis": 231,
    "execution_start": 1683121571876,
    "source_hash": "aeb67d52"
   },
   "outputs": [
    {
     "data": {
      "text/html": [
       "<div>\n",
       "<style scoped>\n",
       "    .dataframe tbody tr th:only-of-type {\n",
       "        vertical-align: middle;\n",
       "    }\n",
       "\n",
       "    .dataframe tbody tr th {\n",
       "        vertical-align: top;\n",
       "    }\n",
       "\n",
       "    .dataframe thead th {\n",
       "        text-align: right;\n",
       "    }\n",
       "</style>\n",
       "<table border=\"1\" class=\"dataframe\">\n",
       "  <thead>\n",
       "    <tr style=\"text-align: right;\">\n",
       "      <th></th>\n",
       "      <th>longitude</th>\n",
       "      <th>latitude</th>\n",
       "      <th>housing_median_age</th>\n",
       "      <th>total_rooms</th>\n",
       "      <th>total_bedrooms</th>\n",
       "      <th>population</th>\n",
       "      <th>households</th>\n",
       "      <th>median_income</th>\n",
       "      <th>house_value</th>\n",
       "    </tr>\n",
       "  </thead>\n",
       "  <tbody>\n",
       "    <tr>\n",
       "      <th>0</th>\n",
       "      <td>-117.62</td>\n",
       "      <td>33.43</td>\n",
       "      <td>23.0</td>\n",
       "      <td>4052.0</td>\n",
       "      <td>955.0</td>\n",
       "      <td>1950.0</td>\n",
       "      <td>859.0</td>\n",
       "      <td>4.0647</td>\n",
       "      <td>240600.0</td>\n",
       "    </tr>\n",
       "    <tr>\n",
       "      <th>1</th>\n",
       "      <td>-118.37</td>\n",
       "      <td>33.81</td>\n",
       "      <td>36.0</td>\n",
       "      <td>2031.0</td>\n",
       "      <td>339.0</td>\n",
       "      <td>817.0</td>\n",
       "      <td>337.0</td>\n",
       "      <td>5.1271</td>\n",
       "      <td>458300.0</td>\n",
       "    </tr>\n",
       "    <tr>\n",
       "      <th>2</th>\n",
       "      <td>-117.87</td>\n",
       "      <td>34.07</td>\n",
       "      <td>21.0</td>\n",
       "      <td>4723.0</td>\n",
       "      <td>882.0</td>\n",
       "      <td>2210.0</td>\n",
       "      <td>768.0</td>\n",
       "      <td>3.8167</td>\n",
       "      <td>258700.0</td>\n",
       "    </tr>\n",
       "    <tr>\n",
       "      <th>3</th>\n",
       "      <td>-117.37</td>\n",
       "      <td>33.19</td>\n",
       "      <td>33.0</td>\n",
       "      <td>2205.0</td>\n",
       "      <td>453.0</td>\n",
       "      <td>1138.0</td>\n",
       "      <td>439.0</td>\n",
       "      <td>2.8819</td>\n",
       "      <td>208600.0</td>\n",
       "    </tr>\n",
       "    <tr>\n",
       "      <th>4</th>\n",
       "      <td>-119.34</td>\n",
       "      <td>36.62</td>\n",
       "      <td>26.0</td>\n",
       "      <td>1922.0</td>\n",
       "      <td>339.0</td>\n",
       "      <td>1148.0</td>\n",
       "      <td>332.0</td>\n",
       "      <td>2.6058</td>\n",
       "      <td>92200.0</td>\n",
       "    </tr>\n",
       "  </tbody>\n",
       "</table>\n",
       "</div>"
      ],
      "text/plain": [
       "   longitude  latitude  housing_median_age  total_rooms  total_bedrooms  \\\n",
       "0    -117.62     33.43                23.0       4052.0           955.0   \n",
       "1    -118.37     33.81                36.0       2031.0           339.0   \n",
       "2    -117.87     34.07                21.0       4723.0           882.0   \n",
       "3    -117.37     33.19                33.0       2205.0           453.0   \n",
       "4    -119.34     36.62                26.0       1922.0           339.0   \n",
       "\n",
       "   population  households  median_income  house_value  \n",
       "0      1950.0       859.0         4.0647     240600.0  \n",
       "1       817.0       337.0         5.1271     458300.0  \n",
       "2      2210.0       768.0         3.8167     258700.0  \n",
       "3      1138.0       439.0         2.8819     208600.0  \n",
       "4      1148.0       332.0         2.6058      92200.0  "
      ]
     },
     "execution_count": 2,
     "metadata": {},
     "output_type": "execute_result"
    }
   ],
   "source": [
    "# Read in the data, located in ../data/housing-all.csv\n",
    "housingDF = pd.read_csv('../data/housing-all.csv')\n",
    "\n",
    "# housingDF.describe()\n",
    "housingDF.head()"
   ]
  },
  {
   "cell_type": "markdown",
   "metadata": {
    "cell_id": "0a5eb4ab8a114832ad4bcd84d2b8738a",
    "deepnote_cell_type": "markdown"
   },
   "source": [
    "Suppose we want to predict `house_value` (that's our target or dependent variable (DV)). Let's start by segmenting our feature columns from the DV."
   ]
  },
  {
   "cell_type": "code",
   "execution_count": 3,
   "metadata": {
    "cell_id": "f1cb3632f4a34ec18b23ff80496873a8",
    "deepnote_cell_type": "code",
    "deepnote_to_be_reexecuted": false,
    "execution_millis": 61,
    "execution_start": 1683121572089,
    "source_hash": "fe35beae"
   },
   "outputs": [
    {
     "data": {
      "text/html": [
       "<div>\n",
       "<style scoped>\n",
       "    .dataframe tbody tr th:only-of-type {\n",
       "        vertical-align: middle;\n",
       "    }\n",
       "\n",
       "    .dataframe tbody tr th {\n",
       "        vertical-align: top;\n",
       "    }\n",
       "\n",
       "    .dataframe thead th {\n",
       "        text-align: right;\n",
       "    }\n",
       "</style>\n",
       "<table border=\"1\" class=\"dataframe\">\n",
       "  <thead>\n",
       "    <tr style=\"text-align: right;\">\n",
       "      <th></th>\n",
       "      <th>longitude</th>\n",
       "      <th>latitude</th>\n",
       "      <th>housing_median_age</th>\n",
       "      <th>total_rooms</th>\n",
       "      <th>total_bedrooms</th>\n",
       "      <th>population</th>\n",
       "      <th>households</th>\n",
       "      <th>median_income</th>\n",
       "    </tr>\n",
       "  </thead>\n",
       "  <tbody>\n",
       "    <tr>\n",
       "      <th>0</th>\n",
       "      <td>-117.62</td>\n",
       "      <td>33.43</td>\n",
       "      <td>23.0</td>\n",
       "      <td>4052.0</td>\n",
       "      <td>955.0</td>\n",
       "      <td>1950.0</td>\n",
       "      <td>859.0</td>\n",
       "      <td>4.0647</td>\n",
       "    </tr>\n",
       "    <tr>\n",
       "      <th>1</th>\n",
       "      <td>-118.37</td>\n",
       "      <td>33.81</td>\n",
       "      <td>36.0</td>\n",
       "      <td>2031.0</td>\n",
       "      <td>339.0</td>\n",
       "      <td>817.0</td>\n",
       "      <td>337.0</td>\n",
       "      <td>5.1271</td>\n",
       "    </tr>\n",
       "    <tr>\n",
       "      <th>2</th>\n",
       "      <td>-117.87</td>\n",
       "      <td>34.07</td>\n",
       "      <td>21.0</td>\n",
       "      <td>4723.0</td>\n",
       "      <td>882.0</td>\n",
       "      <td>2210.0</td>\n",
       "      <td>768.0</td>\n",
       "      <td>3.8167</td>\n",
       "    </tr>\n",
       "    <tr>\n",
       "      <th>3</th>\n",
       "      <td>-117.37</td>\n",
       "      <td>33.19</td>\n",
       "      <td>33.0</td>\n",
       "      <td>2205.0</td>\n",
       "      <td>453.0</td>\n",
       "      <td>1138.0</td>\n",
       "      <td>439.0</td>\n",
       "      <td>2.8819</td>\n",
       "    </tr>\n",
       "    <tr>\n",
       "      <th>4</th>\n",
       "      <td>-119.34</td>\n",
       "      <td>36.62</td>\n",
       "      <td>26.0</td>\n",
       "      <td>1922.0</td>\n",
       "      <td>339.0</td>\n",
       "      <td>1148.0</td>\n",
       "      <td>332.0</td>\n",
       "      <td>2.6058</td>\n",
       "    </tr>\n",
       "  </tbody>\n",
       "</table>\n",
       "</div>"
      ],
      "text/plain": [
       "   longitude  latitude  housing_median_age  total_rooms  total_bedrooms  \\\n",
       "0    -117.62     33.43                23.0       4052.0           955.0   \n",
       "1    -118.37     33.81                36.0       2031.0           339.0   \n",
       "2    -117.87     34.07                21.0       4723.0           882.0   \n",
       "3    -117.37     33.19                33.0       2205.0           453.0   \n",
       "4    -119.34     36.62                26.0       1922.0           339.0   \n",
       "\n",
       "   population  households  median_income  \n",
       "0      1950.0       859.0         4.0647  \n",
       "1       817.0       337.0         5.1271  \n",
       "2      2210.0       768.0         3.8167  \n",
       "3      1138.0       439.0         2.8819  \n",
       "4      1148.0       332.0         2.6058  "
      ]
     },
     "execution_count": 3,
     "metadata": {},
     "output_type": "execute_result"
    }
   ],
   "source": [
    "# TODO\n",
    "features = housingDF.drop('house_value', axis=1)\n",
    "# features = housingDF.drop(columns=['house_value']) # equivalent to previous line.\n",
    "houseValues = housingDF['house_value']\n",
    "\n",
    "features.head()"
   ]
  },
  {
   "cell_type": "code",
   "execution_count": 4,
   "metadata": {
    "cell_id": "d64f4f19633e4f56997c91c96ded642a",
    "deepnote_cell_type": "code",
    "deepnote_to_be_reexecuted": false,
    "execution_millis": 36,
    "execution_start": 1683121572115,
    "source_hash": "bb7dbc3a"
   },
   "outputs": [
    {
     "data": {
      "text/plain": [
       "0    240600.0\n",
       "1    458300.0\n",
       "2    258700.0\n",
       "3    208600.0\n",
       "4     92200.0\n",
       "Name: house_value, dtype: float64"
      ]
     },
     "execution_count": 4,
     "metadata": {},
     "output_type": "execute_result"
    }
   ],
   "source": [
    "houseValues.head()"
   ]
  },
  {
   "cell_type": "markdown",
   "metadata": {},
   "source": [
    "## Data preparation\n",
    "\n",
    "We want to develop three different targets for each observation:\n",
    "\n",
    "  1. `house_value` (numeric) -- for regression (already present)\n",
    "  2. `well_above_median` (binary) -- for binary classification (we need to make this column)\n",
    "  3. `house_value_level` (categorical 0=low, 1=median, 2=high) -- for multiclass classification (we need to make this column)\n",
    "\n",
    "For #2 and #3, we want to use the `house_value` stats from the training data to derive the necessary thresholds; this way, we're not learning from \"unseen\" development and test sets. For all of our models, I want to use the same training/development/test sets and I want them to be stratified. That essentially means we need the class labels from #2 and #3 *before* we split the dataset, thus violating our \"keep test data unseen\" rule—a classic chicken and egg problem!\n",
    "\n",
    "So, here's what we'll do. We'll extract an initial set of thresholds for #3 above to assign a label of 0, 1, or 2 to every observation. We'll stratify on these labels when we make the training, development, and test sets. However, we will throw those labels away once we split. We'll then generate the labels for #2 and #3 using the `house_value` prices from only the training set. Our stratification may be a little off, but it should be close enough."
   ]
  },
  {
   "cell_type": "code",
   "execution_count": 5,
   "metadata": {},
   "outputs": [],
   "source": [
    "def houseValuesToCategory(houseValues):\n",
    "    '''Calculates the 33rd and 66th percentiles of the given data, then\n",
    "    returns a function that will classify a house prcie into low (0), median (1),\n",
    "    or high (2) using those percentiles as treshold.\n",
    "    \n",
    "    Parameters:\n",
    "        houseValues (Series): A series of numeric values.\n",
    "        \n",
    "    Returns (f(float)->int): A function that converts a price to 0, 1, or 2.\n",
    "    '''\n",
    "    # Find the 33rd and 66th percentile:\n",
    "    # high: >= 66th percentile\n",
    "    # median: between 33rd and 66th percentiles\n",
    "    # low: < 33rd percentile\n",
    "    upperThreshold = houseValues.quantile(.66)\n",
    "    lowerThreshold = houseValues.quantile(.33)\n",
    "    def f(price):\n",
    "        if price < lowerThreshold:\n",
    "            return 0\n",
    "        elif price < upperThreshold:\n",
    "            return 1\n",
    "        else:\n",
    "            return 2\n",
    "    return f"
   ]
  },
  {
   "cell_type": "code",
   "execution_count": 6,
   "metadata": {},
   "outputs": [
    {
     "data": {
      "text/plain": [
       "0        2\n",
       "1        2\n",
       "2        2\n",
       "3        1\n",
       "4        0\n",
       "        ..\n",
       "20428    2\n",
       "20429    0\n",
       "20430    0\n",
       "20431    0\n",
       "20432    2\n",
       "Name: house_value, Length: 20433, dtype: int64"
      ]
     },
     "execution_count": 6,
     "metadata": {},
     "output_type": "execute_result"
    }
   ],
   "source": [
    "# Map housing prices to low (0), median (1), or high (2).\n",
    "categories = houseValues.map(houseValuesToCategory(houseValues))\n",
    "categories"
   ]
  },
  {
   "cell_type": "code",
   "execution_count": 7,
   "metadata": {},
   "outputs": [
    {
     "data": {
      "text/plain": [
       "0        2\n",
       "1        2\n",
       "2        2\n",
       "3        1\n",
       "4        0\n",
       "        ..\n",
       "20428    2\n",
       "20429    0\n",
       "20430    0\n",
       "20431    0\n",
       "20432    2\n",
       "Name: house_value, Length: 20433, dtype: int64"
      ]
     },
     "execution_count": 7,
     "metadata": {},
     "output_type": "execute_result"
    }
   ],
   "source": [
    "# This code does the same thing as the two previous cells, just written a different way\n",
    "# if the above is confusing.\n",
    "upperThreshold = houseValues.quantile(.66)\n",
    "lowerThreshold = houseValues.quantile(.33)\n",
    "\n",
    "# upperThreshold, lowerThreshold\n",
    "\n",
    "def houseValueToCategory(price):\n",
    "    if price < lowerThreshold:\n",
    "        return 0\n",
    "    elif price < upperThreshold:\n",
    "        return 1\n",
    "    else:\n",
    "        return 2\n",
    "    \n",
    "categories = houseValues.map(houseValueToCategory)\n",
    "categories"
   ]
  },
  {
   "cell_type": "code",
   "execution_count": 57,
   "metadata": {},
   "outputs": [
    {
     "data": {
      "text/plain": [
       "(228000.0, 140556.00000000003)"
      ]
     },
     "execution_count": 57,
     "metadata": {},
     "output_type": "execute_result"
    }
   ],
   "source": [
    "upperThreshold, lowerThreshold"
   ]
  },
  {
   "cell_type": "code",
   "execution_count": 9,
   "metadata": {},
   "outputs": [],
   "source": [
    "# Make a dataframe to hold the house value and category of each row.\n",
    "targets = pd.DataFrame({'house_value': houseValues, 'stratification_category': categories})"
   ]
  },
  {
   "cell_type": "markdown",
   "metadata": {
    "cell_id": "a1dc1a1ff3de400a8ae933cda26c1d64",
    "deepnote_cell_type": "markdown"
   },
   "source": [
    "## Make training, dev, and test splits\n",
    "\n",
    "We'll make them 60/20/20. We'll use a housing dataset to test with."
   ]
  },
  {
   "cell_type": "code",
   "execution_count": 10,
   "metadata": {
    "cell_id": "f104176a81d24fb69021b02313fc70fa",
    "deepnote_cell_type": "code",
    "deepnote_to_be_reexecuted": false,
    "execution_millis": 663,
    "execution_start": 1683121572159,
    "source_hash": "16a4440e"
   },
   "outputs": [
    {
     "name": "stdout",
     "output_type": "stream",
     "text": [
      "(12259, 8) (12259, 2) (4087, 8) (4087, 2) (4087, 8) (4087, 2)\n"
     ]
    }
   ],
   "source": [
    "# from sklearn.model_selection import train_test_split\n",
    "\n",
    "# First, break into (training+dev, 80%) and (testing, 20%), stratifying using the category.\n",
    "trainDevFeatures, testFeatures, trainDevTargets, testTargets = \\\n",
    "    train_test_split(features, targets, train_size=.8, \n",
    "       shuffle=True, stratify=targets['stratification_category'])\n",
    "\n",
    "# Second, break the trainDev set into (training, 75%) and (dev, 25%) -- 75% of 80% is 60% of the original:\n",
    "# trainFeatures and devFeatures\n",
    "# trainTargets and devTargets\n",
    "# TODO\n",
    "trainFeatures, devFeatures, trainTargets, devTargets = \\\n",
    "    train_test_split(trainDevFeatures, trainDevTargets, train_size=0.75, \n",
    "        shuffle=True, stratify=trainDevTargets['stratification_category'])\n",
    "\n",
    "# So we can see what the data splits look like.\n",
    "print(\n",
    "    trainFeatures.shape,\n",
    "    trainTargets.shape,\n",
    "    devFeatures.shape,\n",
    "    devTargets.shape,\n",
    "    testFeatures.shape,\n",
    "    testTargets.shape\n",
    ")"
   ]
  },
  {
   "cell_type": "markdown",
   "metadata": {
    "cell_id": "bf1487bb8b52447aa51abad1112f5a67",
    "deepnote_cell_type": "markdown"
   },
   "source": [
    "## Next, we're going to scale the features\n",
    "\n",
    "Scaling will map all of the values of a particular feature into a given range; we'll do \\[0,1\\].\n",
    "\n",
    "We'll do this by creating (fitting) a scaling model with the training features -- that'll find the min and max of \"seen\" data. Then we will run the dev and test features through that model. This way we don't use any extremes that occur only in the dev or test sets in our scaling model."
   ]
  },
  {
   "cell_type": "code",
   "execution_count": 11,
   "metadata": {
    "cell_id": "d560118c7162456a889845e17ccfc9bc",
    "deepnote_cell_type": "code",
    "deepnote_to_be_reexecuted": false,
    "execution_millis": 33,
    "execution_start": 1683121572823,
    "source_hash": "eb053004"
   },
   "outputs": [],
   "source": [
    "# from sklearn.preprocessing import MinMaxScaler\n",
    "\n",
    "scaler = MinMaxScaler()\n",
    "\n",
    "trainFeaturesScaled = trainFeatures.copy()\n",
    "devFeaturesScaled = devFeatures.copy()\n",
    "testFeaturesScaled = testFeatures.copy()\n",
    "\n",
    "# Use `fit_transform()` for the training set (which uses the training set to extract the min and max,\n",
    "# then scales all the values accordingly).\n",
    "trainFeaturesScaled[trainFeaturesScaled.columns] = scaler.fit_transform(trainFeatures)\n",
    "\n",
    "# Use `transform()` for the dev and test sets, which uses the min and max from the training set above\n",
    "# to scales the features in deva and test.\n",
    "devFeaturesScaled[devFeaturesScaled.columns] = scaler.transform(devFeatures)\n",
    "testFeaturesScaled[testFeaturesScaled.columns] = scaler.transform(testFeatures)"
   ]
  },
  {
   "cell_type": "code",
   "execution_count": 12,
   "metadata": {
    "cell_id": "83d917c4493a4818be4244cb92186991",
    "deepnote_cell_type": "code",
    "deepnote_to_be_reexecuted": false,
    "execution_millis": 54,
    "execution_start": 1683121572843,
    "source_hash": "b34712d9"
   },
   "outputs": [
    {
     "data": {
      "text/html": [
       "<div>\n",
       "<style scoped>\n",
       "    .dataframe tbody tr th:only-of-type {\n",
       "        vertical-align: middle;\n",
       "    }\n",
       "\n",
       "    .dataframe tbody tr th {\n",
       "        vertical-align: top;\n",
       "    }\n",
       "\n",
       "    .dataframe thead th {\n",
       "        text-align: right;\n",
       "    }\n",
       "</style>\n",
       "<table border=\"1\" class=\"dataframe\">\n",
       "  <thead>\n",
       "    <tr style=\"text-align: right;\">\n",
       "      <th></th>\n",
       "      <th>longitude</th>\n",
       "      <th>latitude</th>\n",
       "      <th>housing_median_age</th>\n",
       "      <th>total_rooms</th>\n",
       "      <th>total_bedrooms</th>\n",
       "      <th>population</th>\n",
       "      <th>households</th>\n",
       "      <th>median_income</th>\n",
       "    </tr>\n",
       "  </thead>\n",
       "  <tbody>\n",
       "    <tr>\n",
       "      <th>18973</th>\n",
       "      <td>0.710711</td>\n",
       "      <td>0.024468</td>\n",
       "      <td>0.725490</td>\n",
       "      <td>0.067653</td>\n",
       "      <td>0.080045</td>\n",
       "      <td>0.069255</td>\n",
       "      <td>0.092402</td>\n",
       "      <td>0.241776</td>\n",
       "    </tr>\n",
       "    <tr>\n",
       "      <th>18676</th>\n",
       "      <td>0.681682</td>\n",
       "      <td>0.146809</td>\n",
       "      <td>0.490196</td>\n",
       "      <td>0.075487</td>\n",
       "      <td>0.092608</td>\n",
       "      <td>0.132070</td>\n",
       "      <td>0.103976</td>\n",
       "      <td>0.238086</td>\n",
       "    </tr>\n",
       "    <tr>\n",
       "      <th>7677</th>\n",
       "      <td>0.206206</td>\n",
       "      <td>0.560638</td>\n",
       "      <td>1.000000</td>\n",
       "      <td>0.088484</td>\n",
       "      <td>0.120792</td>\n",
       "      <td>0.088394</td>\n",
       "      <td>0.133844</td>\n",
       "      <td>0.234486</td>\n",
       "    </tr>\n",
       "    <tr>\n",
       "      <th>10871</th>\n",
       "      <td>0.596597</td>\n",
       "      <td>0.141489</td>\n",
       "      <td>0.588235</td>\n",
       "      <td>0.079353</td>\n",
       "      <td>0.116927</td>\n",
       "      <td>0.115446</td>\n",
       "      <td>0.133284</td>\n",
       "      <td>0.232121</td>\n",
       "    </tr>\n",
       "    <tr>\n",
       "      <th>6037</th>\n",
       "      <td>0.702703</td>\n",
       "      <td>0.172340</td>\n",
       "      <td>0.490196</td>\n",
       "      <td>0.078946</td>\n",
       "      <td>0.096956</td>\n",
       "      <td>0.085450</td>\n",
       "      <td>0.107336</td>\n",
       "      <td>0.184391</td>\n",
       "    </tr>\n",
       "    <tr>\n",
       "      <th>...</th>\n",
       "      <td>...</td>\n",
       "      <td>...</td>\n",
       "      <td>...</td>\n",
       "      <td>...</td>\n",
       "      <td>...</td>\n",
       "      <td>...</td>\n",
       "      <td>...</td>\n",
       "      <td>...</td>\n",
       "    </tr>\n",
       "    <tr>\n",
       "      <th>11433</th>\n",
       "      <td>0.250250</td>\n",
       "      <td>0.765957</td>\n",
       "      <td>0.196078</td>\n",
       "      <td>0.183377</td>\n",
       "      <td>0.218071</td>\n",
       "      <td>0.200037</td>\n",
       "      <td>0.235766</td>\n",
       "      <td>0.180177</td>\n",
       "    </tr>\n",
       "    <tr>\n",
       "      <th>19004</th>\n",
       "      <td>0.286286</td>\n",
       "      <td>0.640426</td>\n",
       "      <td>1.000000</td>\n",
       "      <td>0.078285</td>\n",
       "      <td>0.087615</td>\n",
       "      <td>0.059625</td>\n",
       "      <td>0.092216</td>\n",
       "      <td>0.225935</td>\n",
       "    </tr>\n",
       "    <tr>\n",
       "      <th>7180</th>\n",
       "      <td>0.219219</td>\n",
       "      <td>0.578723</td>\n",
       "      <td>0.176471</td>\n",
       "      <td>0.072791</td>\n",
       "      <td>0.082622</td>\n",
       "      <td>0.079561</td>\n",
       "      <td>0.094456</td>\n",
       "      <td>0.268107</td>\n",
       "    </tr>\n",
       "    <tr>\n",
       "      <th>14016</th>\n",
       "      <td>0.640641</td>\n",
       "      <td>0.162766</td>\n",
       "      <td>0.607843</td>\n",
       "      <td>0.052546</td>\n",
       "      <td>0.057175</td>\n",
       "      <td>0.059686</td>\n",
       "      <td>0.068882</td>\n",
       "      <td>0.324968</td>\n",
       "    </tr>\n",
       "    <tr>\n",
       "      <th>12750</th>\n",
       "      <td>0.223223</td>\n",
       "      <td>0.513830</td>\n",
       "      <td>0.490196</td>\n",
       "      <td>0.032301</td>\n",
       "      <td>0.049122</td>\n",
       "      <td>0.034290</td>\n",
       "      <td>0.052828</td>\n",
       "      <td>0.280306</td>\n",
       "    </tr>\n",
       "  </tbody>\n",
       "</table>\n",
       "<p>12259 rows × 8 columns</p>\n",
       "</div>"
      ],
      "text/plain": [
       "       longitude  latitude  housing_median_age  total_rooms  total_bedrooms  \\\n",
       "18973   0.710711  0.024468            0.725490     0.067653        0.080045   \n",
       "18676   0.681682  0.146809            0.490196     0.075487        0.092608   \n",
       "7677    0.206206  0.560638            1.000000     0.088484        0.120792   \n",
       "10871   0.596597  0.141489            0.588235     0.079353        0.116927   \n",
       "6037    0.702703  0.172340            0.490196     0.078946        0.096956   \n",
       "...          ...       ...                 ...          ...             ...   \n",
       "11433   0.250250  0.765957            0.196078     0.183377        0.218071   \n",
       "19004   0.286286  0.640426            1.000000     0.078285        0.087615   \n",
       "7180    0.219219  0.578723            0.176471     0.072791        0.082622   \n",
       "14016   0.640641  0.162766            0.607843     0.052546        0.057175   \n",
       "12750   0.223223  0.513830            0.490196     0.032301        0.049122   \n",
       "\n",
       "       population  households  median_income  \n",
       "18973    0.069255    0.092402       0.241776  \n",
       "18676    0.132070    0.103976       0.238086  \n",
       "7677     0.088394    0.133844       0.234486  \n",
       "10871    0.115446    0.133284       0.232121  \n",
       "6037     0.085450    0.107336       0.184391  \n",
       "...           ...         ...            ...  \n",
       "11433    0.200037    0.235766       0.180177  \n",
       "19004    0.059625    0.092216       0.225935  \n",
       "7180     0.079561    0.094456       0.268107  \n",
       "14016    0.059686    0.068882       0.324968  \n",
       "12750    0.034290    0.052828       0.280306  \n",
       "\n",
       "[12259 rows x 8 columns]"
      ]
     },
     "execution_count": 12,
     "metadata": {},
     "output_type": "execute_result"
    }
   ],
   "source": [
    "trainFeaturesScaled"
   ]
  },
  {
   "cell_type": "code",
   "execution_count": 14,
   "metadata": {},
   "outputs": [
    {
     "data": {
      "text/plain": [
       "array([-124.3   ,   32.55  ,    1.    ,    2.    ,    1.    ,    3.    ,\n",
       "          1.    ,    0.4999])"
      ]
     },
     "execution_count": 14,
     "metadata": {},
     "output_type": "execute_result"
    }
   ],
   "source": [
    "scaler.data_min_"
   ]
  },
  {
   "cell_type": "code",
   "execution_count": 15,
   "metadata": {},
   "outputs": [
    {
     "data": {
      "text/plain": [
       "array([-1.14310e+02,  4.19500e+01,  5.20000e+01,  3.93200e+04,\n",
       "        6.21000e+03,  1.63050e+04,  5.35800e+03,  1.50001e+01])"
      ]
     },
     "execution_count": 15,
     "metadata": {},
     "output_type": "execute_result"
    }
   ],
   "source": [
    "scaler.data_max_"
   ]
  },
  {
   "cell_type": "markdown",
   "metadata": {
    "cell_id": "8861444db42c443ca2c9371db2627ef9",
    "deepnote_cell_type": "markdown"
   },
   "source": [
    "## Regression\n",
    "\n",
    "In this section, we'll look at predicting `house_price`, which is a numeric feature.\n",
    "\n",
    "### Linear regression\n",
    "\n",
    "Our first algorithm up is linear regression. We'll look at training two different models: one that uses just three features and one that uses all 8 features.\n",
    "\n",
    "For this first one, let's create a model where we use just the total rooms, total bedrooms, and the median income of the area as features, and house value as the dependent variable that we want to predict."
   ]
  },
  {
   "cell_type": "code",
   "execution_count": 16,
   "metadata": {
    "cell_id": "decc1e40a0244b5d82bab68929caa623",
    "deepnote_cell_type": "code",
    "deepnote_to_be_reexecuted": false,
    "execution_millis": 329,
    "execution_start": 1683121572881,
    "source_hash": "dbddb88e"
   },
   "outputs": [
    {
     "data": {
      "text/plain": [
       "LinearRegression()"
      ]
     },
     "execution_count": 16,
     "metadata": {},
     "output_type": "execute_result"
    }
   ],
   "source": [
    "# from sklearn.linear_model import LinearRegression\n",
    "## Other linear regression algorithms:\n",
    "# from sklearn.linear_model import Ridge\n",
    "# from sklearn.linear_model import Lasso\n",
    "\n",
    "featureNames = ['total_rooms', 'total_bedrooms', 'median_income']\n",
    "linearReg1 = LinearRegression()\n",
    "linearReg1.fit(trainFeaturesScaled[featureNames], trainTargets['house_value'])"
   ]
  },
  {
   "cell_type": "markdown",
   "metadata": {
    "cell_id": "c3fb13ea7ab7469292d7f4aa9acce127",
    "deepnote_cell_type": "markdown"
   },
   "source": [
    "#### What do the coefficients tell us? How about the intercept?\n",
    "\n",
    "Remember that linear regression learning a y-intercept ($\\beta_0$) and one weight per feature ($\\beta_1, \\ldots, \\beta_n$). The feature weights are called coefficients. We can extract both of them from the model and display them as a formula. This helps us understand what the most important features are."
   ]
  },
  {
   "cell_type": "code",
   "execution_count": 17,
   "metadata": {
    "cell_id": "c986d9f7d7e942f2a3caddafb96d799f",
    "deepnote_cell_type": "code",
    "deepnote_to_be_reexecuted": false,
    "execution_millis": 24,
    "execution_start": 1683121573252,
    "source_hash": "d0c4b2e"
   },
   "outputs": [
    {
     "name": "stdout",
     "output_type": "stream",
     "text": [
      "[-1216434.53709003  1028804.76614916   713678.93597547] 33601.38581390731\n",
      "price = 33601.38581390731 + -1216434.537090032*total_rooms + 1028804.7661491553*total_bedrooms + 713678.9359754719*median_income \n"
     ]
    }
   ],
   "source": [
    "print(\n",
    "    linearReg1.coef_,\n",
    "    linearReg1.intercept_\n",
    ")\n",
    "\n",
    "print(f'price = {linearReg1.intercept_} ', end=\"\")\n",
    "for coef,feature in zip(linearReg1.coef_, featureNames):\n",
    "    print(f'+ {coef}*{feature} ', end=\"\")\n",
    "print()"
   ]
  },
  {
   "cell_type": "markdown",
   "metadata": {},
   "source": [
    "#### Making predictions with the model\n",
    "\n",
    "Now we'll make predictions on the development set."
   ]
  },
  {
   "cell_type": "code",
   "execution_count": 18,
   "metadata": {
    "cell_id": "8673dd028ee343848709dd694033245c",
    "deepnote_cell_type": "code",
    "deepnote_to_be_reexecuted": false,
    "execution_millis": 24,
    "execution_start": 1683121573252,
    "source_hash": "f9c313ad"
   },
   "outputs": [],
   "source": [
    "# Make predictions on the development set.\n",
    "devLinearReg1Pred = linearReg1.predict(devFeaturesScaled[featureNames])"
   ]
  },
  {
   "cell_type": "code",
   "execution_count": 19,
   "metadata": {
    "cell_id": "c9d163842de5492d9bb96c1915f1536e",
    "deepnote_cell_type": "code",
    "deepnote_to_be_reexecuted": false,
    "execution_millis": 24,
    "execution_start": 1683121573253,
    "source_hash": "5acacf25"
   },
   "outputs": [
    {
     "data": {
      "text/plain": [
       "array([170195.50090013, 102117.47330566, 252568.29009589, ...,\n",
       "       458478.25894547, 108792.42286293, 178161.47501704])"
      ]
     },
     "execution_count": 19,
     "metadata": {},
     "output_type": "execute_result"
    }
   ],
   "source": [
    "devLinearReg1Pred"
   ]
  },
  {
   "cell_type": "code",
   "execution_count": 20,
   "metadata": {
    "cell_id": "000e6c5e8d0043e2bb0fdaef61b89a01",
    "deepnote_cell_type": "code",
    "deepnote_to_be_reexecuted": false,
    "execution_millis": 8,
    "execution_start": 1683121573276,
    "source_hash": "f1bf3d49"
   },
   "outputs": [
    {
     "data": {
      "text/plain": [
       "6655     182400.0\n",
       "10165     86100.0\n",
       "9557     207000.0\n",
       "5989      95000.0\n",
       "5312     188800.0\n",
       "           ...   \n",
       "16558    193500.0\n",
       "13622    117000.0\n",
       "7777     500001.0\n",
       "2970      88200.0\n",
       "5675     141400.0\n",
       "Name: house_value, Length: 4087, dtype: float64"
      ]
     },
     "execution_count": 20,
     "metadata": {},
     "output_type": "execute_result"
    }
   ],
   "source": [
    "devTargets['house_value']"
   ]
  },
  {
   "cell_type": "markdown",
   "metadata": {
    "cell_id": "0767ed3a04eb43548d9926d8269ae58a",
    "deepnote_cell_type": "markdown"
   },
   "source": [
    "#### Regression evaluation\n",
    "\n",
    "Let's evaluate!\n",
    "\n",
    "Here, I define a function that can be used with any regression -- just give it the actual values and the predicted labels and it will print out the evaluations."
   ]
  },
  {
   "cell_type": "code",
   "execution_count": 21,
   "metadata": {
    "cell_id": "ac48803b3e0247379374d495d2b08bb2",
    "deepnote_cell_type": "code",
    "deepnote_to_be_reexecuted": false,
    "execution_millis": 22,
    "execution_start": 1683121573300,
    "source_hash": "1f5e6699"
   },
   "outputs": [],
   "source": [
    "# from sklearn.metrics import mean_squared_error\n",
    "# from sklearn.metrics import r2_score\n",
    "# from sklearn.metrics import mean_absolute_error\n",
    "# import math\n",
    "\n",
    "def evaluateRegression(actuals, predictions):\n",
    "    '''Evalutes a set of numeric predictions given the actual values; MSE, RMSE, R^2, and MedAE are all reported.\n",
    "    Evaluation results are printed.\n",
    "    \n",
    "    Parameters:\n",
    "        actuals (sequence): A list of the true value for each observation.\n",
    "        predictions (sequence): A list of the predicted value for each observation.    \n",
    "    '''\n",
    "    print(f\"MSE: {mean_squared_error(actuals, predictions)}\")\n",
    "    print(f\"\\tRMSE: {math.sqrt(mean_squared_error(actuals, predictions))}\")\n",
    "    print(f\"r2: {r2_score(actuals, predictions)}\")\n",
    "    print(f\"MedAE: {median_absolute_error(actuals, predictions)}\")"
   ]
  },
  {
   "cell_type": "code",
   "execution_count": 22,
   "metadata": {},
   "outputs": [
    {
     "name": "stdout",
     "output_type": "stream",
     "text": [
      "MSE: 6682140142.626388\n",
      "\tRMSE: 81744.35847583848\n",
      "r2: 0.5070550546174979\n",
      "MedAE: 46929.94731395799\n"
     ]
    }
   ],
   "source": [
    "# Evaluate our first linear regression model. \n",
    "evaluateRegression(devTargets['house_value'], devLinearReg1Pred)"
   ]
  },
  {
   "cell_type": "markdown",
   "metadata": {
    "cell_id": "73ccc1df8a774b40a7c5e417869fd806",
    "deepnote_cell_type": "markdown"
   },
   "source": [
    "#### Slightly different linear regression model\n",
    "\n",
    "Let's try making a model that uses *all* the features that aren't the DV (house value). -- Use the same training and development sets!"
   ]
  },
  {
   "cell_type": "code",
   "execution_count": 23,
   "metadata": {
    "cell_id": "b94011e95e84428d8d4e39df9ba46308",
    "deepnote_cell_type": "code",
    "deepnote_to_be_reexecuted": false,
    "execution_millis": 126,
    "execution_start": 1683121573302,
    "source_hash": "eec8390f"
   },
   "outputs": [
    {
     "name": "stdout",
     "output_type": "stream",
     "text": [
      "price = 369487.5990823542 + -433291.4438115117*longitude + -406553.52040933823*latitude + 60967.22323847226*housing_median_age + -284926.6179826653*total_rooms + 711294.3382900248*total_bedrooms + -714597.0223603257*population + 293429.91176152695*households + 583237.2608088888*median_income \n",
      "MSE: 4903950924.682356\n",
      "\tRMSE: 70028.21520417578\n",
      "r2: 0.6382329958473643\n",
      "MedAE: 38763.34268008874\n"
     ]
    }
   ],
   "source": [
    "# Choose the features.\n",
    "# \"Fit\" or \"learn\" the model\n",
    "featureNames = trainFeaturesScaled.columns\n",
    "linearReg2 = LinearRegression()\n",
    "linearReg2.fit(trainFeaturesScaled[featureNames], trainTargets['house_value'])\n",
    "\n",
    "# Describe the model.\n",
    "print(f'price = {linearReg2.intercept_} ', end=\"\")\n",
    "for coef,feature in zip(linearReg2.coef_, featureNames):\n",
    "    print(f'+ {coef}*{feature} ', end=\"\")\n",
    "print()\n",
    "\n",
    "# Make predictions with the model.\n",
    "devLinearReg2Pred = linearReg2.predict(devFeaturesScaled[featureNames])\n",
    "\n",
    "# Evaluate the predictions.\n",
    "evaluateRegression(devTargets['house_value'], devLinearReg2Pred)"
   ]
  },
  {
   "cell_type": "markdown",
   "metadata": {},
   "source": [
    "###  kNN Regression"
   ]
  },
  {
   "cell_type": "code",
   "execution_count": 50,
   "metadata": {},
   "outputs": [
    {
     "name": "stdout",
     "output_type": "stream",
     "text": [
      "k: 3:\n",
      "MSE: 4334737519.613518\n",
      "\tRMSE: 65838.72355698823\n",
      "r2: 0.6802241640784397\n",
      "MedAE: 26966.666666666686\n",
      "\n",
      "k: 5:\n",
      "MSE: 3975338953.124022\n",
      "\tRMSE: 63050.289080415976\n",
      "r2: 0.706737182804066\n",
      "MedAE: 27920.0\n",
      "\n",
      "k: 7:\n",
      "MSE: 3933443397.432986\n",
      "\tRMSE: 62717.16987741862\n",
      "r2: 0.709827839685107\n",
      "MedAE: 27857.142857142855\n",
      "\n",
      "k: 9:\n"
     ]
    },
    {
     "name": "stderr",
     "output_type": "stream",
     "text": [
      "/home/hfeild/.local/lib/python3.8/site-packages/sklearn/base.py:441: UserWarning: X does not have valid feature names, but KNeighborsRegressor was fitted with feature names\n",
      "  warnings.warn(\n",
      "/home/hfeild/.local/lib/python3.8/site-packages/sklearn/base.py:441: UserWarning: X does not have valid feature names, but KNeighborsRegressor was fitted with feature names\n",
      "  warnings.warn(\n",
      "/home/hfeild/.local/lib/python3.8/site-packages/sklearn/base.py:441: UserWarning: X does not have valid feature names, but KNeighborsRegressor was fitted with feature names\n",
      "  warnings.warn(\n",
      "/home/hfeild/.local/lib/python3.8/site-packages/sklearn/base.py:441: UserWarning: X does not have valid feature names, but KNeighborsRegressor was fitted with feature names\n",
      "  warnings.warn(\n"
     ]
    },
    {
     "name": "stdout",
     "output_type": "stream",
     "text": [
      "MSE: 3940157425.00793\n",
      "\tRMSE: 62770.673287833466\n",
      "r2: 0.7093325423872974\n",
      "MedAE: 28411.11111111111\n",
      "\n"
     ]
    }
   ],
   "source": [
    "# from sklearn.neighbors import KNeighborsRegressor\n",
    "\n",
    "# Choose the features.\n",
    "# \"Fit\" or \"learn\" the model\n",
    "featureNames = trainFeaturesScaled.columns\n",
    "\n",
    "for k in [3, 5, 7, 9]:\n",
    "    print(f'k: {k}:')\n",
    "    knnModel = KNeighborsRegressor(n_neighbors=k)\n",
    "    knnModel.fit(trainFeaturesScaled[featureNames], trainTargets['house_value'])\n",
    "\n",
    "    # We can't \"describe\" the model like we did for linear regression.\n",
    "\n",
    "    # Make predictions with the model.\n",
    "    devKNNPred = knnModel.predict(devFeaturesScaled[featureNames])\n",
    "\n",
    "    # Evaluate the predictions.\n",
    "    evaluateRegression(devTargets['house_value'], devKNNPred)\n",
    "    print()"
   ]
  },
  {
   "cell_type": "markdown",
   "metadata": {},
   "source": [
    "### Decision tree regression"
   ]
  },
  {
   "cell_type": "code",
   "execution_count": 49,
   "metadata": {},
   "outputs": [
    {
     "name": "stdout",
     "output_type": "stream",
     "text": [
      "Max leaf nodes: 50:\n",
      "MSE: 4356953191.346942\n",
      "\tRMSE: 66007.2207515734\n",
      "r2: 0.6785853024479553\n",
      "MedAE: 35308.25242718446\n",
      "\n",
      "Max leaf nodes: 100:\n",
      "MSE: 4024630584.0229225\n",
      "\tRMSE: 63439.976229684406\n",
      "r2: 0.7031009136174515\n",
      "MedAE: 30824.096385542172\n",
      "\n",
      "Max leaf nodes: 200:\n",
      "MSE: 3772078981.132085\n",
      "\tRMSE: 61417.25312265345\n",
      "r2: 0.7217317764003376\n",
      "MedAE: 28174.21875\n",
      "\n",
      "Max leaf nodes: 300:\n",
      "MSE: 3764149208.1616774\n",
      "\tRMSE: 61352.66260042573\n",
      "r2: 0.7223167598667659\n",
      "MedAE: 26849.033333333326\n",
      "\n",
      "Max leaf nodes: 500:\n",
      "MSE: 4020126361.264874\n",
      "\tRMSE: 63404.466414164184\n",
      "r2: 0.7034331924673507\n",
      "MedAE: 25164.356435643567\n",
      "\n"
     ]
    }
   ],
   "source": [
    "# from sklearn.tree import DecisionTreeRegressor\n",
    "\n",
    "# Choose the features.\n",
    "# \"Fit\" or \"learn\" the model\n",
    "featureNames = trainFeaturesScaled.columns\n",
    "\n",
    "# for depth in [2, 5, 10, 20, 40]:\n",
    "for leafNodes in [50, 100, 200, 300, 500]:\n",
    "#     print(f'Max tree depth: {depth}:')\n",
    "    print(f'Max leaf nodes: {leafNodes}:')\n",
    "#     decisionTreeModel = DecisionTreeRegressor(max_depth=depth)\n",
    "    decisionTreeModel = DecisionTreeRegressor(max_leaf_nodes=leafNodes)\n",
    "    decisionTreeModel.fit(trainFeaturesScaled[featureNames], trainTargets['house_value'])\n",
    "\n",
    "    # # We can't \"describe\" the model like we did for linear regression, but we can plot it!\n",
    "    # from sklearn.tree import plot_tree\n",
    "    # import matplotlib.pyplot as plt\n",
    "    # plt.figure(figsize=(20,10))\n",
    "    # plot_tree(decisionTreeModel, max_depth=3, fontsize=8, feature_names=featureNames)\n",
    "\n",
    "    # Make predictions with the model.\n",
    "    devDecisionTreePred = decisionTreeModel.predict(devFeaturesScaled[featureNames])\n",
    "\n",
    "    # Evaluate the predictions.\n",
    "    evaluateRegression(devTargets['house_value'], devDecisionTreePred)\n",
    "    print()"
   ]
  },
  {
   "cell_type": "markdown",
   "metadata": {},
   "source": [
    "### Random forest regression"
   ]
  },
  {
   "cell_type": "code",
   "execution_count": 55,
   "metadata": {},
   "outputs": [
    {
     "name": "stdout",
     "output_type": "stream",
     "text": [
      "MSE: 2403349410.439882\n",
      "\tRMSE: 49023.967714168975\n",
      "r2: 0.8227036670023046\n",
      "MedAE: 20674.0\n"
     ]
    }
   ],
   "source": [
    "# from sklearn.ensemble import RandomForestRegressor\n",
    "\n",
    "# Choose the features.\n",
    "# \"Fit\" or \"learn\" the model\n",
    "featureNames = trainFeaturesScaled.columns\n",
    "randomForestModel = RandomForestRegressor(n_estimators=100)\n",
    "randomForestModel.fit(trainFeaturesScaled[featureNames], trainTargets['house_value'])\n",
    "\n",
    "# We can't \"describe\" the model like we did for linear regression.\n",
    "\n",
    "# Make predictions with the model.\n",
    "devRandomForestPred = randomForestModel.predict(devFeaturesScaled[featureNames])\n",
    "\n",
    "# Evaluate the predictions.\n",
    "evaluateRegression(devTargets['house_value'], devRandomForestPred)"
   ]
  },
  {
   "cell_type": "markdown",
   "metadata": {
    "cell_id": "14d1723c562841a3874678f8330bc1b6",
    "deepnote_cell_type": "markdown"
   },
   "source": [
    "### New model\n",
    "\n",
    "Let's consider whether median household age is a good predictor all on its own. How do we do it?"
   ]
  },
  {
   "cell_type": "code",
   "execution_count": null,
   "metadata": {
    "cell_id": "1fbcd53db23c48ce999f70b4bd3457bc",
    "deepnote_cell_type": "code",
    "deepnote_to_be_reexecuted": false,
    "execution_millis": 32,
    "execution_start": 1683121573397,
    "source_hash": "cf445ff5"
   },
   "outputs": [],
   "source": [
    "# TODO"
   ]
  },
  {
   "cell_type": "markdown",
   "metadata": {
    "cell_id": "8f041515aabc4ae6a4e646c0b93b3ff0",
    "deepnote_cell_type": "markdown"
   },
   "source": [
    "## Binary Classification \n",
    "\n",
    "### The class labels\n",
    "\n",
    "This is essentially the same thing as the regression algorithms we used above in terms of set up, etc. However, logistic regression is used for performing *binary classification*—we're trying to predict \"yes\"/\"no\" or \"class 1\"/\"class 2\". The scikit-learn logistic regression function wants the Y values to be 0/1, so we need to map our class labels to 0/1.\n",
    "\n",
    "We can create a binary classification problem out of just about anything. For the housing dataset we processed above, let's look at the spread of house values in the training set and see if we can establish a \"really expensive\" vs. \"not really expensive\" class. \n",
    "\n",
    "Specifically, let's riff off of the `houseValuesToCategory()` function we defined earlier that mapped housing pricess to 0 (0–33rd percentile), 1 (33rd–66th percentile), or 2 (66th–100th percentile). For binary classification, let's use the 66th-percentile as our thresold -- anything higher than that is class 1, everything else is class 0.\n",
    "\n",
    "**We should not use the `stratification_categories` for this!** Those were created using the entire dataset, including the data that eventually went into development and test. We don't want to use that information in generating labels, however, or we risk leaking information about the test data."
   ]
  },
  {
   "cell_type": "code",
   "execution_count": 56,
   "metadata": {
    "cell_id": "bc73440a01764e248b59aab872933dca",
    "deepnote_cell_type": "code",
    "deepnote_to_be_reexecuted": false,
    "execution_millis": 31,
    "execution_start": 1683121573398,
    "source_hash": "34084ccd"
   },
   "outputs": [
    {
     "data": {
      "text/plain": [
       "228000.0"
      ]
     },
     "execution_count": 56,
     "metadata": {},
     "output_type": "execute_result"
    }
   ],
   "source": [
    "# Step 1: find the 66th percentile of house_value in the training data.\n",
    "\n",
    "topThirdThreshold = trainTargets['house_value'].quantile(.66)\n",
    "topThirdThreshold"
   ]
  },
  {
   "cell_type": "code",
   "execution_count": 58,
   "metadata": {
    "cell_id": "7ca039248be4493fad6957f2d4689f75",
    "deepnote_cell_type": "code",
    "deepnote_to_be_reexecuted": false,
    "execution_millis": 941,
    "execution_start": 1683121573430,
    "source_hash": "d3a8c16a"
   },
   "outputs": [],
   "source": [
    "# Step 2: For the training, development, and test sets, add a new column `well_above_median` to the *Target DataFrame,\n",
    "# mapping all `house_value`s equal to or above the threshold we just found to be 1, all others to be 0.\n",
    "\n",
    "# Training set\n",
    "trainTargets['well_above_median'] = trainTargets['house_value'].map(\n",
    "    lambda houseValue: 1 if houseValue >= topThirdThreshold else 0)\n",
    "\n",
    "# Development set\n",
    "devTargets['well_above_median'] = devTargets['house_value'].map(\n",
    "    lambda houseValue: 1 if houseValue >= topThirdThreshold else 0)\n",
    "\n",
    "# Test set\n",
    "testTargets['well_above_median'] = testTargets['house_value'].map(\n",
    "    lambda houseValue: 1 if houseValue >= topThirdThreshold else 0)"
   ]
  },
  {
   "cell_type": "code",
   "execution_count": 59,
   "metadata": {},
   "outputs": [
    {
     "data": {
      "text/html": [
       "<div>\n",
       "<style scoped>\n",
       "    .dataframe tbody tr th:only-of-type {\n",
       "        vertical-align: middle;\n",
       "    }\n",
       "\n",
       "    .dataframe tbody tr th {\n",
       "        vertical-align: top;\n",
       "    }\n",
       "\n",
       "    .dataframe thead th {\n",
       "        text-align: right;\n",
       "    }\n",
       "</style>\n",
       "<table border=\"1\" class=\"dataframe\">\n",
       "  <thead>\n",
       "    <tr style=\"text-align: right;\">\n",
       "      <th></th>\n",
       "      <th>house_value</th>\n",
       "      <th>stratification_category</th>\n",
       "      <th>well_above_median</th>\n",
       "    </tr>\n",
       "  </thead>\n",
       "  <tbody>\n",
       "    <tr>\n",
       "      <th>18973</th>\n",
       "      <td>241600.0</td>\n",
       "      <td>2</td>\n",
       "      <td>1</td>\n",
       "    </tr>\n",
       "    <tr>\n",
       "      <th>18676</th>\n",
       "      <td>124600.0</td>\n",
       "      <td>0</td>\n",
       "      <td>0</td>\n",
       "    </tr>\n",
       "    <tr>\n",
       "      <th>7677</th>\n",
       "      <td>275700.0</td>\n",
       "      <td>2</td>\n",
       "      <td>1</td>\n",
       "    </tr>\n",
       "    <tr>\n",
       "      <th>10871</th>\n",
       "      <td>298400.0</td>\n",
       "      <td>2</td>\n",
       "      <td>1</td>\n",
       "    </tr>\n",
       "    <tr>\n",
       "      <th>6037</th>\n",
       "      <td>122200.0</td>\n",
       "      <td>0</td>\n",
       "      <td>0</td>\n",
       "    </tr>\n",
       "    <tr>\n",
       "      <th>...</th>\n",
       "      <td>...</td>\n",
       "      <td>...</td>\n",
       "      <td>...</td>\n",
       "    </tr>\n",
       "    <tr>\n",
       "      <th>11433</th>\n",
       "      <td>122600.0</td>\n",
       "      <td>0</td>\n",
       "      <td>0</td>\n",
       "    </tr>\n",
       "    <tr>\n",
       "      <th>19004</th>\n",
       "      <td>164500.0</td>\n",
       "      <td>1</td>\n",
       "      <td>0</td>\n",
       "    </tr>\n",
       "    <tr>\n",
       "      <th>7180</th>\n",
       "      <td>287700.0</td>\n",
       "      <td>2</td>\n",
       "      <td>1</td>\n",
       "    </tr>\n",
       "    <tr>\n",
       "      <th>14016</th>\n",
       "      <td>201200.0</td>\n",
       "      <td>1</td>\n",
       "      <td>0</td>\n",
       "    </tr>\n",
       "    <tr>\n",
       "      <th>12750</th>\n",
       "      <td>280200.0</td>\n",
       "      <td>2</td>\n",
       "      <td>1</td>\n",
       "    </tr>\n",
       "  </tbody>\n",
       "</table>\n",
       "<p>12259 rows × 3 columns</p>\n",
       "</div>"
      ],
      "text/plain": [
       "       house_value  stratification_category  well_above_median\n",
       "18973     241600.0                        2                  1\n",
       "18676     124600.0                        0                  0\n",
       "7677      275700.0                        2                  1\n",
       "10871     298400.0                        2                  1\n",
       "6037      122200.0                        0                  0\n",
       "...            ...                      ...                ...\n",
       "11433     122600.0                        0                  0\n",
       "19004     164500.0                        1                  0\n",
       "7180      287700.0                        2                  1\n",
       "14016     201200.0                        1                  0\n",
       "12750     280200.0                        2                  1\n",
       "\n",
       "[12259 rows x 3 columns]"
      ]
     },
     "execution_count": 59,
     "metadata": {},
     "output_type": "execute_result"
    }
   ],
   "source": [
    "trainTargets"
   ]
  },
  {
   "cell_type": "markdown",
   "metadata": {
    "cell_id": "39b340bf18c6454788f920510adc7eb8",
    "deepnote_cell_type": "markdown"
   },
   "source": [
    "### Logistic regression\n",
    "\n",
    "This is the first of the binary classification algorithms we'll consider. It looks a lot like linear regression; the only difference will be the name of the class and we'll use the binarized house values."
   ]
  },
  {
   "cell_type": "code",
   "execution_count": 60,
   "metadata": {
    "cell_id": "d9533d4a27314a72aa56bdd990f58402",
    "deepnote_cell_type": "code",
    "deepnote_to_be_reexecuted": false,
    "execution_millis": 574,
    "execution_start": 1683121574829,
    "source_hash": "ff575e03"
   },
   "outputs": [
    {
     "data": {
      "text/plain": [
       "LogisticRegression()"
      ]
     },
     "execution_count": 60,
     "metadata": {},
     "output_type": "execute_result"
    }
   ],
   "source": [
    "# from sklearn.linear_model import LogisticRegression\n",
    "\n",
    "logisticRegBinary = LogisticRegression()\n",
    "logisticRegBinary.fit(trainFeaturesScaled, trainTargets['well_above_median'])"
   ]
  },
  {
   "cell_type": "code",
   "execution_count": 61,
   "metadata": {
    "cell_id": "19fd4000ff1f4f608317fcb046f621a2",
    "deepnote_cell_type": "code",
    "deepnote_to_be_reexecuted": false,
    "execution_millis": 43,
    "execution_start": 1683121575379,
    "source_hash": "892b6108"
   },
   "outputs": [
    {
     "name": "stdout",
     "output_type": "stream",
     "text": [
      "[[-12.23567522 -11.18532268   1.78595617   0.97288438   6.56973456\n",
      "   -9.89682213   5.25396135  14.02680657]] [3.9131599]\n"
     ]
    }
   ],
   "source": [
    "# What are these?\n",
    "\n",
    "print(\n",
    "    logisticRegBinary.coef_,\n",
    "    logisticRegBinary.intercept_\n",
    ")"
   ]
  },
  {
   "cell_type": "code",
   "execution_count": 62,
   "metadata": {},
   "outputs": [
    {
     "name": "stdout",
     "output_type": "stream",
     "text": [
      "       median_income:   14.02681\n",
      "           longitude:  -12.23568\n",
      "            latitude:  -11.18532\n",
      "          population:   -9.89682\n",
      "      total_bedrooms:    6.56973\n",
      "          households:    5.25396\n",
      "  housing_median_age:    1.78596\n",
      "         total_rooms:    0.97288\n",
      "\n"
     ]
    }
   ],
   "source": [
    "# This bit of code will print out the features by importance; we could use very similar code with \n",
    "# linear regression, as well.\n",
    "\n",
    "featureImportance = sorted(list(zip(logisticRegBinary.coef_[0], trainFeaturesScaled.columns)), key=lambda a: -abs(a[0]))\n",
    "\n",
    "for coef,feature in featureImportance:\n",
    "    print(f'{feature:>20}: {coef:>10.5f}')\n",
    "print()"
   ]
  },
  {
   "cell_type": "code",
   "execution_count": 63,
   "metadata": {
    "cell_id": "4ba2db0569664356a32d3ca526dab0c8",
    "deepnote_cell_type": "code",
    "deepnote_to_be_reexecuted": false,
    "execution_millis": 25,
    "execution_start": 1683121575378,
    "source_hash": "bfd5a111"
   },
   "outputs": [
    {
     "data": {
      "text/plain": [
       "array([0, 0, 1, ..., 1, 0, 0])"
      ]
     },
     "execution_count": 63,
     "metadata": {},
     "output_type": "execute_result"
    }
   ],
   "source": [
    "# Make predictions on the development set.\n",
    "\n",
    "# Predict the class (0 or 1).\n",
    "devLogisticRegBinaryPred = logisticRegBinary.predict(devFeaturesScaled)\n",
    "devLogisticRegBinaryPred"
   ]
  },
  {
   "cell_type": "code",
   "execution_count": 64,
   "metadata": {},
   "outputs": [
    {
     "data": {
      "text/plain": [
       "array([[0.9152967 , 0.0847033 ],\n",
       "       [0.98110406, 0.01889594],\n",
       "       [0.45504538, 0.54495462],\n",
       "       ...,\n",
       "       [0.00250698, 0.99749302],\n",
       "       [0.95287596, 0.04712404],\n",
       "       [0.75959587, 0.24040413]])"
      ]
     },
     "execution_count": 64,
     "metadata": {},
     "output_type": "execute_result"
    }
   ],
   "source": [
    "# Returns the raw probability of the 0 and 1 class. This is needed for some measures, like AUC.\n",
    "devLogisticRegBinaryProbs = logisticRegBinary.predict_proba(devFeaturesScaled)\n",
    "devLogisticRegBinaryProbs"
   ]
  },
  {
   "cell_type": "markdown",
   "metadata": {
    "cell_id": "d6672a3169b140ad8c76af550ea1ef11",
    "deepnote_cell_type": "markdown"
   },
   "source": [
    "#### Classification evaluation\n",
    "\n",
    "Evaluation is also similar, but with different metrics. Area under the receiver operator characteristic curve (`roc_auc_score`) requires the predictions—what is the `[:,1]` bit about?"
   ]
  },
  {
   "cell_type": "code",
   "execution_count": 65,
   "metadata": {
    "cell_id": "9bdf5afb630b4af9b6a9cac5174a1a43",
    "deepnote_cell_type": "code",
    "deepnote_to_be_reexecuted": false,
    "execution_millis": 21,
    "execution_start": 1683121575385,
    "source_hash": "f25b8192"
   },
   "outputs": [],
   "source": [
    "# from sklearn.metrics import accuracy_score\n",
    "# from sklearn.metrics import precision_score\n",
    "# from sklearn.metrics import recall_score\n",
    "# from sklearn.metrics import f1_score\n",
    "# from sklearn.metrics import roc_auc_score\n",
    "\n",
    "def evaluateBinaryClassification(actuals, binaryPredictions, probPredictions):\n",
    "    '''Evalutes a set of binary class predictions given the actual values; accuracy, precision,\n",
    "    recall, F1, and area under the receiver operator characteristic curve (AUC) are all reported.\n",
    "    Assumes 1 is the positive class. Evaluation results are printed. \n",
    "    \n",
    "    Parameters:\n",
    "        actuals (sequence): A list of the true value for each observation.\n",
    "        binaryPredictions (sequence): A list of the predicted class value for each observation.    \n",
    "        probPredictions (sequence): A list of the predicted class probability distributions; each item should contain\n",
    "                                    a list of class probabilities, one per class; assumes positive class is second.\n",
    "    '''\n",
    "    print(f'{\"Accuracy\":12}: {accuracy_score(actuals, binaryPredictions):>2.4f}')\n",
    "    print(f'{\"Precision\":12}: {precision_score(actuals, binaryPredictions):>2.4f}')\n",
    "    print(f'{\"Recall\":12}: {recall_score(actuals, binaryPredictions):>2.4f}')\n",
    "    print(f'{\"F1\":12}: {f1_score(actuals, binaryPredictions):>2.4f}')\n",
    "    print(f'{\"AUC\":12}: {roc_auc_score(actuals, probPredictions[:,1]):>2.4f}')"
   ]
  },
  {
   "cell_type": "markdown",
   "metadata": {
    "cell_id": "36e5261e13ac4866a21f01d2458ee4db",
    "deepnote_cell_type": "markdown"
   },
   "source": [
    "**Is our model any good?**"
   ]
  },
  {
   "cell_type": "code",
   "execution_count": 66,
   "metadata": {},
   "outputs": [
    {
     "name": "stdout",
     "output_type": "stream",
     "text": [
      "Accuracy    : 0.8427\n",
      "Precision   : 0.8049\n",
      "Recall      : 0.7094\n",
      "F1          : 0.7541\n",
      "AUC         : 0.9107\n"
     ]
    }
   ],
   "source": [
    "evaluateBinaryClassification(devTargets['well_above_median'], devLogisticRegBinaryPred, devLogisticRegBinaryProbs)"
   ]
  },
  {
   "cell_type": "markdown",
   "metadata": {
    "cell_id": "2797ea5084394457a64df98c15610c43",
    "deepnote_cell_type": "markdown"
   },
   "source": [
    "## k-Nearest Neighbors\n",
    "\n",
    "Let's train a kNN model on the same features."
   ]
  },
  {
   "cell_type": "code",
   "execution_count": 69,
   "metadata": {
    "cell_id": "a2de2fab83504d069ee8885a666d9c7a",
    "deepnote_cell_type": "code",
    "deepnote_to_be_reexecuted": false,
    "execution_millis": 22,
    "execution_start": 1683121575384,
    "source_hash": "fd741417"
   },
   "outputs": [
    {
     "name": "stdout",
     "output_type": "stream",
     "text": [
      "k: 3\n",
      "Accuracy    : 0.8422\n",
      "Precision   : 0.7881\n",
      "Recall      : 0.7331\n",
      "F1          : 0.7596\n",
      "AUC         : 0.8864\n",
      "\n",
      "k: 5\n"
     ]
    },
    {
     "name": "stderr",
     "output_type": "stream",
     "text": [
      "/home/hfeild/.local/lib/python3.8/site-packages/sklearn/neighbors/_classification.py:230: FutureWarning: Unlike other reduction functions (e.g. `skew`, `kurtosis`), the default behavior of `mode` typically preserves the axis it acts along. In SciPy 1.11.0, this behavior will change: the default value of `keepdims` will become False, the `axis` over which the statistic is taken will be eliminated, and the value None will no longer be accepted. Set `keepdims` to True or False to avoid this warning.\n",
      "  mode, _ = stats.mode(_y[neigh_ind, k], axis=1)\n",
      "/home/hfeild/.local/lib/python3.8/site-packages/sklearn/neighbors/_classification.py:230: FutureWarning: Unlike other reduction functions (e.g. `skew`, `kurtosis`), the default behavior of `mode` typically preserves the axis it acts along. In SciPy 1.11.0, this behavior will change: the default value of `keepdims` will become False, the `axis` over which the statistic is taken will be eliminated, and the value None will no longer be accepted. Set `keepdims` to True or False to avoid this warning.\n",
      "  mode, _ = stats.mode(_y[neigh_ind, k], axis=1)\n"
     ]
    },
    {
     "name": "stdout",
     "output_type": "stream",
     "text": [
      "Accuracy    : 0.8529\n",
      "Precision   : 0.8084\n",
      "Recall      : 0.7439\n",
      "F1          : 0.7748\n",
      "AUC         : 0.9075\n",
      "\n",
      "k: 7\n",
      "Accuracy    : 0.8525\n",
      "Precision   : 0.8145\n",
      "Recall      : 0.7331\n",
      "F1          : 0.7717\n",
      "AUC         : 0.9126\n",
      "\n",
      "k: 9\n"
     ]
    },
    {
     "name": "stderr",
     "output_type": "stream",
     "text": [
      "/home/hfeild/.local/lib/python3.8/site-packages/sklearn/neighbors/_classification.py:230: FutureWarning: Unlike other reduction functions (e.g. `skew`, `kurtosis`), the default behavior of `mode` typically preserves the axis it acts along. In SciPy 1.11.0, this behavior will change: the default value of `keepdims` will become False, the `axis` over which the statistic is taken will be eliminated, and the value None will no longer be accepted. Set `keepdims` to True or False to avoid this warning.\n",
      "  mode, _ = stats.mode(_y[neigh_ind, k], axis=1)\n",
      "/home/hfeild/.local/lib/python3.8/site-packages/sklearn/neighbors/_classification.py:230: FutureWarning: Unlike other reduction functions (e.g. `skew`, `kurtosis`), the default behavior of `mode` typically preserves the axis it acts along. In SciPy 1.11.0, this behavior will change: the default value of `keepdims` will become False, the `axis` over which the statistic is taken will be eliminated, and the value None will no longer be accepted. Set `keepdims` to True or False to avoid this warning.\n",
      "  mode, _ = stats.mode(_y[neigh_ind, k], axis=1)\n"
     ]
    },
    {
     "name": "stdout",
     "output_type": "stream",
     "text": [
      "Accuracy    : 0.8481\n",
      "Precision   : 0.8154\n",
      "Recall      : 0.7151\n",
      "F1          : 0.7620\n",
      "AUC         : 0.9156\n",
      "\n",
      "k: 11\n",
      "Accuracy    : 0.8483\n",
      "Precision   : 0.8192\n",
      "Recall      : 0.7108\n",
      "F1          : 0.7612\n",
      "AUC         : 0.9180\n",
      "\n",
      "k: 13\n"
     ]
    },
    {
     "name": "stderr",
     "output_type": "stream",
     "text": [
      "/home/hfeild/.local/lib/python3.8/site-packages/sklearn/neighbors/_classification.py:230: FutureWarning: Unlike other reduction functions (e.g. `skew`, `kurtosis`), the default behavior of `mode` typically preserves the axis it acts along. In SciPy 1.11.0, this behavior will change: the default value of `keepdims` will become False, the `axis` over which the statistic is taken will be eliminated, and the value None will no longer be accepted. Set `keepdims` to True or False to avoid this warning.\n",
      "  mode, _ = stats.mode(_y[neigh_ind, k], axis=1)\n",
      "/home/hfeild/.local/lib/python3.8/site-packages/sklearn/neighbors/_classification.py:230: FutureWarning: Unlike other reduction functions (e.g. `skew`, `kurtosis`), the default behavior of `mode` typically preserves the axis it acts along. In SciPy 1.11.0, this behavior will change: the default value of `keepdims` will become False, the `axis` over which the statistic is taken will be eliminated, and the value None will no longer be accepted. Set `keepdims` to True or False to avoid this warning.\n",
      "  mode, _ = stats.mode(_y[neigh_ind, k], axis=1)\n"
     ]
    },
    {
     "name": "stdout",
     "output_type": "stream",
     "text": [
      "Accuracy    : 0.8495\n",
      "Precision   : 0.8184\n",
      "Recall      : 0.7165\n",
      "F1          : 0.7641\n",
      "AUC         : 0.9177\n",
      "\n"
     ]
    }
   ],
   "source": [
    "# from sklearn.neighbors import KNeighborsClassifier\n",
    "\n",
    "for k in [3, 5, 7, 9, 11, 13]:\n",
    "    print(f'k: {k}')\n",
    "    knnBinary = KNeighborsClassifier(n_neighbors=k) # use k=5\n",
    "    knnBinary.fit(trainFeaturesScaled.values, trainTargets['well_above_median'])\n",
    "    devKNNBinaryPred = knnBinary.predict(devFeaturesScaled.values, )\n",
    "    devKNNBinaryProbs = knnBinary.predict_proba(devFeaturesScaled.values)\n",
    "\n",
    "    evaluateBinaryClassification(devTargets['well_above_median'], devKNNBinaryPred, devKNNBinaryProbs)\n",
    "    print()"
   ]
  },
  {
   "cell_type": "markdown",
   "metadata": {
    "cell_id": "6e0c8855482c4077b46f05f0d8ef2643",
    "deepnote_cell_type": "markdown"
   },
   "source": [
    "## Decision Tree"
   ]
  },
  {
   "cell_type": "code",
   "execution_count": 72,
   "metadata": {
    "cell_id": "2ee8b99b6f234b29b6aff33d979b645e",
    "deepnote_cell_type": "code",
    "deepnote_to_be_reexecuted": false,
    "execution_millis": 88,
    "execution_start": 1683121589627,
    "source_hash": "a2eacac3"
   },
   "outputs": [
    {
     "name": "stdout",
     "output_type": "stream",
     "text": [
      "Max leaf nodes: None\n",
      "Accuracy    : 0.8622\n",
      "Precision   : 0.7973\n",
      "Recall      : 0.7978\n",
      "F1          : 0.7976\n",
      "AUC         : 0.8466\n",
      "\n",
      "Max leaf nodes: 50\n",
      "Accuracy    : 0.8657\n",
      "Precision   : 0.8252\n",
      "Recall      : 0.7676\n",
      "F1          : 0.7954\n",
      "AUC         : 0.9192\n",
      "\n",
      "Max leaf nodes: 100\n",
      "Accuracy    : 0.8733\n",
      "Precision   : 0.8354\n",
      "Recall      : 0.7813\n",
      "F1          : 0.8074\n",
      "AUC         : 0.9199\n",
      "\n",
      "Max leaf nodes: 200\n",
      "Accuracy    : 0.8772\n",
      "Precision   : 0.8318\n",
      "Recall      : 0.8007\n",
      "F1          : 0.8160\n",
      "AUC         : 0.9137\n",
      "\n",
      "Max leaf nodes: 300\n",
      "Accuracy    : 0.8755\n",
      "Precision   : 0.8251\n",
      "Recall      : 0.8043\n",
      "F1          : 0.8146\n",
      "AUC         : 0.8918\n",
      "\n",
      "Max leaf nodes: 400\n",
      "Accuracy    : 0.8762\n",
      "Precision   : 0.8284\n",
      "Recall      : 0.8022\n",
      "F1          : 0.8151\n",
      "AUC         : 0.8794\n",
      "\n"
     ]
    }
   ],
   "source": [
    "# from sklearn.tree import DecisionTreeClassifier\n",
    "\n",
    "for leafNodes in [None, 50, 100, 200, 300, 400]:\n",
    "    print(f'Max leaf nodes: {leafNodes}')\n",
    "    decisionTreeBinary  = DecisionTreeClassifier(max_leaf_nodes=leafNodes)\n",
    "    decisionTreeBinary.fit(trainFeaturesScaled.values, trainTargets['well_above_median'])\n",
    "    decisionTreeBinaryPred = decisionTreeBinary.predict(devFeaturesScaled.values, )\n",
    "    decisionTreeBinaryProbs = decisionTreeBinary.predict_proba(devFeaturesScaled.values)\n",
    "\n",
    "    evaluateBinaryClassification(devTargets['well_above_median'], decisionTreeBinaryPred, decisionTreeBinaryProbs)\n",
    "    print()"
   ]
  },
  {
   "cell_type": "markdown",
   "metadata": {
    "cell_id": "7d5985f8e7ad4cef8f451ae836c18c9c",
    "deepnote_cell_type": "markdown"
   },
   "source": [
    "## Random Forest"
   ]
  },
  {
   "cell_type": "code",
   "execution_count": null,
   "metadata": {
    "cell_id": "230a2e8e3d5043dc869372f982dea923",
    "deepnote_cell_type": "code",
    "deepnote_to_be_reexecuted": true,
    "execution_millis": 2824882,
    "execution_start": 1683118750968,
    "source_hash": "a1dd0440"
   },
   "outputs": [],
   "source": [
    "from sklearn.ensemble import RandomForestClassifier\n",
    "\n",
    "# TODO"
   ]
  },
  {
   "cell_type": "markdown",
   "metadata": {},
   "source": [
    "## Multi-class classification\n",
    "\n",
    "If we have more than two possible class labels, ten we have a multi-class classification problem. Of the algorithms we've considered, logistic regression is the only one that is limited to binary classification. However, the implementation of logistic regression in scikit learn allows for multi-class classification. It does this by breaking the problem into multiple binary classificiation problems. \n",
    "\n",
    "Let's get started by making the new multi-class labels, which are essentially the same that we used at the begining of this example to stratify the data sets. In fact, we can use the same function, just make sure to give it the training house values."
   ]
  },
  {
   "cell_type": "code",
   "execution_count": 73,
   "metadata": {},
   "outputs": [],
   "source": [
    "# Step 1: call houseValueToCategory over the training house values; this will return a function\n",
    "# we can use to map te house values in each set to 0 (below median), 1 (median), or 2 (above median).\n",
    "mapper = houseValuesToCategory(trainTargets['house_value'])\n",
    "\n",
    "# Step 2: For the training, development, and test sets, add a new column `well_above_median` to the *Target DataFrame,\n",
    "# mapping all `house_value`s equal to or above the threshold we just found to be 1, all others to be 0.\n",
    "\n",
    "# Training set\n",
    "trainTargets['house_value_level'] = trainTargets['house_value'].map(mapper)\n",
    "\n",
    "# Development set\n",
    "devTargets['house_value_level'] = devTargets['house_value'].map(mapper)\n",
    "\n",
    "# Test set\n",
    "testTargets['house_value_level'] = testTargets['house_value'].map(mapper)"
   ]
  },
  {
   "cell_type": "markdown",
   "metadata": {},
   "source": [
    "### Multiclass Logitic regression"
   ]
  },
  {
   "cell_type": "code",
   "execution_count": 75,
   "metadata": {},
   "outputs": [],
   "source": [
    "logisticRegMulticlass  = LogisticRegression(max_iter=1000)\n",
    "logisticRegMulticlass.fit(trainFeaturesScaled.values, trainTargets['house_value_level'])\n",
    "logisticRegMulticlassPred = logisticRegMulticlass.predict(devFeaturesScaled.values, )\n",
    "logisticRegMulticlassProbs = logisticRegMulticlass.predict_proba(devFeaturesScaled.values)"
   ]
  },
  {
   "cell_type": "code",
   "execution_count": 76,
   "metadata": {},
   "outputs": [
    {
     "data": {
      "text/plain": [
       "array([0, 0, 2, ..., 2, 0, 1])"
      ]
     },
     "execution_count": 76,
     "metadata": {},
     "output_type": "execute_result"
    }
   ],
   "source": [
    "# Class predictions\n",
    "logisticRegMulticlassPred"
   ]
  },
  {
   "cell_type": "code",
   "execution_count": 77,
   "metadata": {},
   "outputs": [
    {
     "data": {
      "text/plain": [
       "array([[5.31720201e-01, 3.95221843e-01, 7.30579559e-02],\n",
       "       [8.68802627e-01, 1.24149307e-01, 7.04806612e-03],\n",
       "       [4.75449529e-02, 4.09908505e-01, 5.42546542e-01],\n",
       "       ...,\n",
       "       [4.31616273e-06, 6.02870433e-03, 9.93966980e-01],\n",
       "       [6.34748569e-01, 3.35004300e-01, 3.02471302e-02],\n",
       "       [3.11357126e-01, 4.47107174e-01, 2.41535700e-01]])"
      ]
     },
     "execution_count": 77,
     "metadata": {},
     "output_type": "execute_result"
    }
   ],
   "source": [
    "# Class label probability distributions.\n",
    "logisticRegMulticlassProbs"
   ]
  },
  {
   "cell_type": "markdown",
   "metadata": {},
   "source": [
    "#### Evaluating multiclass classification"
   ]
  },
  {
   "cell_type": "code",
   "execution_count": 78,
   "metadata": {},
   "outputs": [],
   "source": [
    "# Scikit learn supports multiclass classification evaluation metrics for many of the binary classification metrics.\n",
    "\n",
    "def evaluateMulticlassClassification(actuals, classPredictions, probPredictions):\n",
    "    '''Evalutes a set of multi-class predictions given the actual values; accuracy, precision,\n",
    "    recall, F1, and area under the receiver operator characteristic curve (AUC) are all reported.\n",
    "    Assumes 1 is the positive class. Evaluation results are printed. \n",
    "    \n",
    "    Parameters:\n",
    "        actuals (sequence): A list of the true value for each observation.\n",
    "        classPredictions (sequence): A list of the predicted class value for each observation.    \n",
    "        probPredictions (sequence): A list of the predicted class probability distributions; each item should contain\n",
    "                                    a list of class probabilities, one per class.\n",
    "    '''\n",
    "    print(f'{\"Accuracy\":12}: {accuracy_score(actuals, classPredictions):>2.4f}')\n",
    "    print(f'{\"Precision\":12}: {precision_score(actuals, classPredictions, average=\"weighted\"):>2.4f}')\n",
    "    print(f'{\"Recall\":12}: {recall_score(actuals, classPredictions, average=\"weighted\"):>2.4f}')\n",
    "    print(f'{\"F1\":12}: {f1_score(actuals, classPredictions, average=\"weighted\"):>2.4f}')\n",
    "    print(f'{\"AUC\":12}: {roc_auc_score(actuals, probPredictions, multi_class=\"ovr\", average=\"weighted\"):>2.4f}')"
   ]
  },
  {
   "cell_type": "code",
   "execution_count": 79,
   "metadata": {},
   "outputs": [
    {
     "name": "stdout",
     "output_type": "stream",
     "text": [
      "Accuracy    : 0.7061\n",
      "Precision   : 0.7018\n",
      "Recall      : 0.7061\n",
      "F1          : 0.7035\n",
      "AUC         : 0.8686\n"
     ]
    }
   ],
   "source": [
    "evaluateMulticlassClassification(devTargets['house_value_level'], logisticRegMulticlassPred, logisticRegMulticlassProbs)"
   ]
  },
  {
   "cell_type": "markdown",
   "metadata": {},
   "source": [
    "### Multiclass kNN"
   ]
  },
  {
   "cell_type": "code",
   "execution_count": 82,
   "metadata": {},
   "outputs": [
    {
     "name": "stdout",
     "output_type": "stream",
     "text": [
      "k: 3\n",
      "Accuracy    : 0.7091\n",
      "Precision   : 0.7095\n",
      "Recall      : 0.7091\n",
      "F1          : 0.7085\n",
      "AUC         : 0.8538\n",
      "\n",
      "k: 5\n"
     ]
    },
    {
     "name": "stderr",
     "output_type": "stream",
     "text": [
      "/home/hfeild/.local/lib/python3.8/site-packages/sklearn/neighbors/_classification.py:230: FutureWarning: Unlike other reduction functions (e.g. `skew`, `kurtosis`), the default behavior of `mode` typically preserves the axis it acts along. In SciPy 1.11.0, this behavior will change: the default value of `keepdims` will become False, the `axis` over which the statistic is taken will be eliminated, and the value None will no longer be accepted. Set `keepdims` to True or False to avoid this warning.\n",
      "  mode, _ = stats.mode(_y[neigh_ind, k], axis=1)\n",
      "/home/hfeild/.local/lib/python3.8/site-packages/sklearn/neighbors/_classification.py:230: FutureWarning: Unlike other reduction functions (e.g. `skew`, `kurtosis`), the default behavior of `mode` typically preserves the axis it acts along. In SciPy 1.11.0, this behavior will change: the default value of `keepdims` will become False, the `axis` over which the statistic is taken will be eliminated, and the value None will no longer be accepted. Set `keepdims` to True or False to avoid this warning.\n",
      "  mode, _ = stats.mode(_y[neigh_ind, k], axis=1)\n"
     ]
    },
    {
     "name": "stdout",
     "output_type": "stream",
     "text": [
      "Accuracy    : 0.7233\n",
      "Precision   : 0.7255\n",
      "Recall      : 0.7233\n",
      "F1          : 0.7236\n",
      "AUC         : 0.8732\n",
      "\n",
      "k: 7\n",
      "Accuracy    : 0.7220\n",
      "Precision   : 0.7250\n",
      "Recall      : 0.7220\n",
      "F1          : 0.7229\n",
      "AUC         : 0.8787\n",
      "\n",
      "k: 9\n"
     ]
    },
    {
     "name": "stderr",
     "output_type": "stream",
     "text": [
      "/home/hfeild/.local/lib/python3.8/site-packages/sklearn/neighbors/_classification.py:230: FutureWarning: Unlike other reduction functions (e.g. `skew`, `kurtosis`), the default behavior of `mode` typically preserves the axis it acts along. In SciPy 1.11.0, this behavior will change: the default value of `keepdims` will become False, the `axis` over which the statistic is taken will be eliminated, and the value None will no longer be accepted. Set `keepdims` to True or False to avoid this warning.\n",
      "  mode, _ = stats.mode(_y[neigh_ind, k], axis=1)\n",
      "/home/hfeild/.local/lib/python3.8/site-packages/sklearn/neighbors/_classification.py:230: FutureWarning: Unlike other reduction functions (e.g. `skew`, `kurtosis`), the default behavior of `mode` typically preserves the axis it acts along. In SciPy 1.11.0, this behavior will change: the default value of `keepdims` will become False, the `axis` over which the statistic is taken will be eliminated, and the value None will no longer be accepted. Set `keepdims` to True or False to avoid this warning.\n",
      "  mode, _ = stats.mode(_y[neigh_ind, k], axis=1)\n"
     ]
    },
    {
     "name": "stdout",
     "output_type": "stream",
     "text": [
      "Accuracy    : 0.7213\n",
      "Precision   : 0.7254\n",
      "Recall      : 0.7213\n",
      "F1          : 0.7224\n",
      "AUC         : 0.8822\n",
      "\n",
      "k: 11\n",
      "Accuracy    : 0.7240\n",
      "Precision   : 0.7288\n",
      "Recall      : 0.7240\n",
      "F1          : 0.7254\n",
      "AUC         : 0.8834\n",
      "\n",
      "k: 13\n"
     ]
    },
    {
     "name": "stderr",
     "output_type": "stream",
     "text": [
      "/home/hfeild/.local/lib/python3.8/site-packages/sklearn/neighbors/_classification.py:230: FutureWarning: Unlike other reduction functions (e.g. `skew`, `kurtosis`), the default behavior of `mode` typically preserves the axis it acts along. In SciPy 1.11.0, this behavior will change: the default value of `keepdims` will become False, the `axis` over which the statistic is taken will be eliminated, and the value None will no longer be accepted. Set `keepdims` to True or False to avoid this warning.\n",
      "  mode, _ = stats.mode(_y[neigh_ind, k], axis=1)\n",
      "/home/hfeild/.local/lib/python3.8/site-packages/sklearn/neighbors/_classification.py:230: FutureWarning: Unlike other reduction functions (e.g. `skew`, `kurtosis`), the default behavior of `mode` typically preserves the axis it acts along. In SciPy 1.11.0, this behavior will change: the default value of `keepdims` will become False, the `axis` over which the statistic is taken will be eliminated, and the value None will no longer be accepted. Set `keepdims` to True or False to avoid this warning.\n",
      "  mode, _ = stats.mode(_y[neigh_ind, k], axis=1)\n"
     ]
    },
    {
     "name": "stdout",
     "output_type": "stream",
     "text": [
      "Accuracy    : 0.7247\n",
      "Precision   : 0.7297\n",
      "Recall      : 0.7247\n",
      "F1          : 0.7264\n",
      "AUC         : 0.8838\n",
      "\n"
     ]
    }
   ],
   "source": [
    "for k in [3, 5, 7, 9, 11, 13]:\n",
    "    print(f'k: {k}')\n",
    "    knnMulticlass  = KNeighborsClassifier(n_neighbors=k)\n",
    "    knnMulticlass.fit(trainFeaturesScaled.values, trainTargets['house_value_level'])\n",
    "    knnMulticlassPred = knnMulticlass.predict(devFeaturesScaled.values, )\n",
    "    knnMulticlassProbs = knnMulticlass.predict_proba(devFeaturesScaled.values)\n",
    "\n",
    "    evaluateMulticlassClassification(devTargets['house_value_level'], knnMulticlassPred, knnMulticlassProbs)\n",
    "    print()"
   ]
  },
  {
   "cell_type": "markdown",
   "metadata": {},
   "source": [
    "### Multiclass Deicsion tree"
   ]
  },
  {
   "cell_type": "code",
   "execution_count": 83,
   "metadata": {},
   "outputs": [
    {
     "name": "stdout",
     "output_type": "stream",
     "text": [
      "Max leaf nodes: None\n",
      "Accuracy    : 0.7477\n",
      "Precision   : 0.7492\n",
      "Recall      : 0.7477\n",
      "F1          : 0.7484\n",
      "AUC         : 0.8110\n",
      "\n",
      "Max leaf nodes: 50\n",
      "Accuracy    : 0.7492\n",
      "Precision   : 0.7588\n",
      "Recall      : 0.7492\n",
      "F1          : 0.7511\n",
      "AUC         : 0.8902\n",
      "\n",
      "Max leaf nodes: 100\n",
      "Accuracy    : 0.7646\n",
      "Precision   : 0.7661\n",
      "Recall      : 0.7646\n",
      "F1          : 0.7653\n",
      "AUC         : 0.9014\n",
      "\n",
      "Max leaf nodes: 200\n",
      "Accuracy    : 0.7756\n",
      "Precision   : 0.7761\n",
      "Recall      : 0.7756\n",
      "F1          : 0.7756\n",
      "AUC         : 0.9052\n",
      "\n",
      "Max leaf nodes: 300\n",
      "Accuracy    : 0.7764\n",
      "Precision   : 0.7759\n",
      "Recall      : 0.7764\n",
      "F1          : 0.7761\n",
      "AUC         : 0.8998\n",
      "\n",
      "Max leaf nodes: 400\n",
      "Accuracy    : 0.7810\n",
      "Precision   : 0.7805\n",
      "Recall      : 0.7810\n",
      "F1          : 0.7807\n",
      "AUC         : 0.8897\n",
      "\n"
     ]
    }
   ],
   "source": [
    "for leafNodes in [None, 50, 100, 200, 300, 400]:\n",
    "    print(f'Max leaf nodes: {leafNodes}')\n",
    "    decisionTreeMulticlass  = DecisionTreeClassifier(max_leaf_nodes=leafNodes)\n",
    "    decisionTreeMulticlass.fit(trainFeaturesScaled.values, trainTargets['house_value_level'])\n",
    "    decisionTreeMulticlassPred = decisionTreeMulticlass.predict(devFeaturesScaled.values, )\n",
    "    decisionTreeMulticlassProbs = decisionTreeMulticlass.predict_proba(devFeaturesScaled.values)\n",
    "\n",
    "    evaluateMulticlassClassification(devTargets['house_value_level'], decisionTreeMulticlassPred, decisionTreeMulticlassProbs)\n",
    "    print()"
   ]
  },
  {
   "cell_type": "markdown",
   "metadata": {},
   "source": [
    "### Multiclass Random forest"
   ]
  },
  {
   "cell_type": "code",
   "execution_count": 85,
   "metadata": {},
   "outputs": [
    {
     "name": "stdout",
     "output_type": "stream",
     "text": [
      "Trees: 10\n",
      "Accuracy    : 0.7624\n",
      "Precision   : 0.7628\n",
      "Recall      : 0.7624\n",
      "F1          : 0.7622\n",
      "AUC         : 0.9058\n",
      "\n",
      "Trees: 50\n",
      "Accuracy    : 0.7888\n",
      "Precision   : 0.7895\n",
      "Recall      : 0.7888\n",
      "F1          : 0.7890\n",
      "AUC         : 0.9299\n",
      "\n",
      "Trees: 100\n",
      "Accuracy    : 0.7932\n",
      "Precision   : 0.7936\n",
      "Recall      : 0.7932\n",
      "F1          : 0.7933\n",
      "AUC         : 0.9312\n",
      "\n",
      "Trees: 200\n",
      "Accuracy    : 0.7969\n",
      "Precision   : 0.7970\n",
      "Recall      : 0.7969\n",
      "F1          : 0.7969\n",
      "AUC         : 0.9335\n",
      "\n",
      "Trees: 300\n",
      "Accuracy    : 0.8006\n",
      "Precision   : 0.8013\n",
      "Recall      : 0.8006\n",
      "F1          : 0.8009\n",
      "AUC         : 0.9339\n",
      "\n",
      "Trees: 400\n",
      "Accuracy    : 0.8021\n",
      "Precision   : 0.8023\n",
      "Recall      : 0.8021\n",
      "F1          : 0.8021\n",
      "AUC         : 0.9343\n",
      "\n"
     ]
    }
   ],
   "source": [
    "for trees in [10, 50, 100, 200, 300, 400]:\n",
    "    print(f'Trees: {trees}')\n",
    "    randomForestMulticlass  = RandomForestClassifier(n_estimators=trees)\n",
    "    randomForestMulticlass.fit(trainFeaturesScaled.values, trainTargets['house_value_level'])\n",
    "    randomForestMulticlassPred = randomForestMulticlass.predict(devFeaturesScaled.values, )\n",
    "    randomForestMulticlassProbs = randomForestMulticlass.predict_proba(devFeaturesScaled.values)\n",
    "\n",
    "\n",
    "    evaluateMulticlassClassification(devTargets['house_value_level'], randomForestMulticlassPred, randomForestMulticlassProbs)\n",
    "    print()"
   ]
  },
  {
   "cell_type": "markdown",
   "metadata": {
    "cell_id": "3a353e0a18db43ffb8b060a3ef9f3fc7",
    "deepnote_cell_type": "markdown"
   },
   "source": [
    "# Balancing datasets\n",
    "\n",
    "In classifictation, balanced datasets provide an equal number of observations corresponding to each class. If you have a dataset where there is an imbalance, there are several ways you can rectify it. A couple of simple approaches are:\n",
    "\n",
    "  * oversample observations of the class that is underrepresented\n",
    "  * undersample observations of the class that is overrepresented\n",
    "  * create synthetic observations of the class that is underrepresented\n",
    "  * some combination of these\n",
    "  \n",
    "The first is pretty simple and doesn't throw away data. It works as follows. Assume the underrepresented class is A and the overrepresented class is B. Let $n$ be the number of observations of class A and $m$ be the number of observations of class B. $m-n$ times we will randomly choose one of the $n$ observations of class A and add them to a separat set. The same observation can be picked multiple times (this is called random sampling with replacement). We now combine the $n$ original observations of class A, the $m-n$ duplicated observations, and the $m$ observations of class B to get our new balanced dataset.\n",
    "\n",
    "There are libraries that can do this for you, but it's easy enough to write. Here, we'll do this for the binary classification example since we know that the positive class only occurs 1/3 of the time (since it's the top 3rd percentile)."
   ]
  },
  {
   "cell_type": "code",
   "execution_count": 86,
   "metadata": {
    "cell_id": "960fec2720a946308eca83045cd4a784",
    "deepnote_cell_type": "code",
    "deepnote_to_be_reexecuted": true,
    "execution_millis": 2824692,
    "execution_start": 1683118751147,
    "source_hash": "251f891e"
   },
   "outputs": [
    {
     "data": {
      "text/plain": [
       "<AxesSubplot:>"
      ]
     },
     "execution_count": 86,
     "metadata": {},
     "output_type": "execute_result"
    },
    {
     "data": {
      "image/png": "[encoded data removed]",
      "text/plain": [
       "<Figure size 432x288 with 1 Axes>"
      ]
     },
     "metadata": {
      "needs_background": "light"
     },
     "output_type": "display_data"
    }
   ],
   "source": [
    "import pandas as pd\n",
    "\n",
    "trainTargets['well_above_median'].hist()"
   ]
  },
  {
   "cell_type": "code",
   "execution_count": 87,
   "metadata": {},
   "outputs": [
    {
     "data": {
      "text/html": [
       "<div>\n",
       "<style scoped>\n",
       "    .dataframe tbody tr th:only-of-type {\n",
       "        vertical-align: middle;\n",
       "    }\n",
       "\n",
       "    .dataframe tbody tr th {\n",
       "        vertical-align: top;\n",
       "    }\n",
       "\n",
       "    .dataframe thead th {\n",
       "        text-align: right;\n",
       "    }\n",
       "</style>\n",
       "<table border=\"1\" class=\"dataframe\">\n",
       "  <thead>\n",
       "    <tr style=\"text-align: right;\">\n",
       "      <th></th>\n",
       "      <th>house_value</th>\n",
       "      <th>stratification_category</th>\n",
       "      <th>well_above_median</th>\n",
       "      <th>house_value_level</th>\n",
       "    </tr>\n",
       "  </thead>\n",
       "  <tbody>\n",
       "    <tr>\n",
       "      <th>18973</th>\n",
       "      <td>241600.0</td>\n",
       "      <td>2</td>\n",
       "      <td>1</td>\n",
       "      <td>2</td>\n",
       "    </tr>\n",
       "    <tr>\n",
       "      <th>18676</th>\n",
       "      <td>124600.0</td>\n",
       "      <td>0</td>\n",
       "      <td>0</td>\n",
       "      <td>0</td>\n",
       "    </tr>\n",
       "    <tr>\n",
       "      <th>7677</th>\n",
       "      <td>275700.0</td>\n",
       "      <td>2</td>\n",
       "      <td>1</td>\n",
       "      <td>2</td>\n",
       "    </tr>\n",
       "    <tr>\n",
       "      <th>10871</th>\n",
       "      <td>298400.0</td>\n",
       "      <td>2</td>\n",
       "      <td>1</td>\n",
       "      <td>2</td>\n",
       "    </tr>\n",
       "    <tr>\n",
       "      <th>6037</th>\n",
       "      <td>122200.0</td>\n",
       "      <td>0</td>\n",
       "      <td>0</td>\n",
       "      <td>0</td>\n",
       "    </tr>\n",
       "    <tr>\n",
       "      <th>...</th>\n",
       "      <td>...</td>\n",
       "      <td>...</td>\n",
       "      <td>...</td>\n",
       "      <td>...</td>\n",
       "    </tr>\n",
       "    <tr>\n",
       "      <th>11433</th>\n",
       "      <td>122600.0</td>\n",
       "      <td>0</td>\n",
       "      <td>0</td>\n",
       "      <td>0</td>\n",
       "    </tr>\n",
       "    <tr>\n",
       "      <th>19004</th>\n",
       "      <td>164500.0</td>\n",
       "      <td>1</td>\n",
       "      <td>0</td>\n",
       "      <td>1</td>\n",
       "    </tr>\n",
       "    <tr>\n",
       "      <th>7180</th>\n",
       "      <td>287700.0</td>\n",
       "      <td>2</td>\n",
       "      <td>1</td>\n",
       "      <td>2</td>\n",
       "    </tr>\n",
       "    <tr>\n",
       "      <th>14016</th>\n",
       "      <td>201200.0</td>\n",
       "      <td>1</td>\n",
       "      <td>0</td>\n",
       "      <td>1</td>\n",
       "    </tr>\n",
       "    <tr>\n",
       "      <th>12750</th>\n",
       "      <td>280200.0</td>\n",
       "      <td>2</td>\n",
       "      <td>1</td>\n",
       "      <td>2</td>\n",
       "    </tr>\n",
       "  </tbody>\n",
       "</table>\n",
       "<p>12259 rows × 4 columns</p>\n",
       "</div>"
      ],
      "text/plain": [
       "       house_value  stratification_category  well_above_median  \\\n",
       "18973     241600.0                        2                  1   \n",
       "18676     124600.0                        0                  0   \n",
       "7677      275700.0                        2                  1   \n",
       "10871     298400.0                        2                  1   \n",
       "6037      122200.0                        0                  0   \n",
       "...            ...                      ...                ...   \n",
       "11433     122600.0                        0                  0   \n",
       "19004     164500.0                        1                  0   \n",
       "7180      287700.0                        2                  1   \n",
       "14016     201200.0                        1                  0   \n",
       "12750     280200.0                        2                  1   \n",
       "\n",
       "       house_value_level  \n",
       "18973                  2  \n",
       "18676                  0  \n",
       "7677                   2  \n",
       "10871                  2  \n",
       "6037                   0  \n",
       "...                  ...  \n",
       "11433                  0  \n",
       "19004                  1  \n",
       "7180                   2  \n",
       "14016                  1  \n",
       "12750                  2  \n",
       "\n",
       "[12259 rows x 4 columns]"
      ]
     },
     "execution_count": 87,
     "metadata": {},
     "output_type": "execute_result"
    }
   ],
   "source": [
    "trainTargets"
   ]
  },
  {
   "cell_type": "code",
   "execution_count": 88,
   "metadata": {},
   "outputs": [
    {
     "data": {
      "text/html": [
       "<div>\n",
       "<style scoped>\n",
       "    .dataframe tbody tr th:only-of-type {\n",
       "        vertical-align: middle;\n",
       "    }\n",
       "\n",
       "    .dataframe tbody tr th {\n",
       "        vertical-align: top;\n",
       "    }\n",
       "\n",
       "    .dataframe thead th {\n",
       "        text-align: right;\n",
       "    }\n",
       "</style>\n",
       "<table border=\"1\" class=\"dataframe\">\n",
       "  <thead>\n",
       "    <tr style=\"text-align: right;\">\n",
       "      <th></th>\n",
       "      <th>longitude</th>\n",
       "      <th>latitude</th>\n",
       "      <th>housing_median_age</th>\n",
       "      <th>total_rooms</th>\n",
       "      <th>total_bedrooms</th>\n",
       "      <th>population</th>\n",
       "      <th>households</th>\n",
       "      <th>median_income</th>\n",
       "      <th>house_value</th>\n",
       "      <th>stratification_category</th>\n",
       "      <th>well_above_median</th>\n",
       "      <th>house_value_level</th>\n",
       "    </tr>\n",
       "  </thead>\n",
       "  <tbody>\n",
       "    <tr>\n",
       "      <th>18973</th>\n",
       "      <td>0.710711</td>\n",
       "      <td>0.024468</td>\n",
       "      <td>0.725490</td>\n",
       "      <td>0.067653</td>\n",
       "      <td>0.080045</td>\n",
       "      <td>0.069255</td>\n",
       "      <td>0.092402</td>\n",
       "      <td>0.241776</td>\n",
       "      <td>241600.0</td>\n",
       "      <td>2</td>\n",
       "      <td>1</td>\n",
       "      <td>2</td>\n",
       "    </tr>\n",
       "    <tr>\n",
       "      <th>18676</th>\n",
       "      <td>0.681682</td>\n",
       "      <td>0.146809</td>\n",
       "      <td>0.490196</td>\n",
       "      <td>0.075487</td>\n",
       "      <td>0.092608</td>\n",
       "      <td>0.132070</td>\n",
       "      <td>0.103976</td>\n",
       "      <td>0.238086</td>\n",
       "      <td>124600.0</td>\n",
       "      <td>0</td>\n",
       "      <td>0</td>\n",
       "      <td>0</td>\n",
       "    </tr>\n",
       "    <tr>\n",
       "      <th>7677</th>\n",
       "      <td>0.206206</td>\n",
       "      <td>0.560638</td>\n",
       "      <td>1.000000</td>\n",
       "      <td>0.088484</td>\n",
       "      <td>0.120792</td>\n",
       "      <td>0.088394</td>\n",
       "      <td>0.133844</td>\n",
       "      <td>0.234486</td>\n",
       "      <td>275700.0</td>\n",
       "      <td>2</td>\n",
       "      <td>1</td>\n",
       "      <td>2</td>\n",
       "    </tr>\n",
       "    <tr>\n",
       "      <th>10871</th>\n",
       "      <td>0.596597</td>\n",
       "      <td>0.141489</td>\n",
       "      <td>0.588235</td>\n",
       "      <td>0.079353</td>\n",
       "      <td>0.116927</td>\n",
       "      <td>0.115446</td>\n",
       "      <td>0.133284</td>\n",
       "      <td>0.232121</td>\n",
       "      <td>298400.0</td>\n",
       "      <td>2</td>\n",
       "      <td>1</td>\n",
       "      <td>2</td>\n",
       "    </tr>\n",
       "    <tr>\n",
       "      <th>6037</th>\n",
       "      <td>0.702703</td>\n",
       "      <td>0.172340</td>\n",
       "      <td>0.490196</td>\n",
       "      <td>0.078946</td>\n",
       "      <td>0.096956</td>\n",
       "      <td>0.085450</td>\n",
       "      <td>0.107336</td>\n",
       "      <td>0.184391</td>\n",
       "      <td>122200.0</td>\n",
       "      <td>0</td>\n",
       "      <td>0</td>\n",
       "      <td>0</td>\n",
       "    </tr>\n",
       "    <tr>\n",
       "      <th>...</th>\n",
       "      <td>...</td>\n",
       "      <td>...</td>\n",
       "      <td>...</td>\n",
       "      <td>...</td>\n",
       "      <td>...</td>\n",
       "      <td>...</td>\n",
       "      <td>...</td>\n",
       "      <td>...</td>\n",
       "      <td>...</td>\n",
       "      <td>...</td>\n",
       "      <td>...</td>\n",
       "      <td>...</td>\n",
       "    </tr>\n",
       "    <tr>\n",
       "      <th>11433</th>\n",
       "      <td>0.250250</td>\n",
       "      <td>0.765957</td>\n",
       "      <td>0.196078</td>\n",
       "      <td>0.183377</td>\n",
       "      <td>0.218071</td>\n",
       "      <td>0.200037</td>\n",
       "      <td>0.235766</td>\n",
       "      <td>0.180177</td>\n",
       "      <td>122600.0</td>\n",
       "      <td>0</td>\n",
       "      <td>0</td>\n",
       "      <td>0</td>\n",
       "    </tr>\n",
       "    <tr>\n",
       "      <th>19004</th>\n",
       "      <td>0.286286</td>\n",
       "      <td>0.640426</td>\n",
       "      <td>1.000000</td>\n",
       "      <td>0.078285</td>\n",
       "      <td>0.087615</td>\n",
       "      <td>0.059625</td>\n",
       "      <td>0.092216</td>\n",
       "      <td>0.225935</td>\n",
       "      <td>164500.0</td>\n",
       "      <td>1</td>\n",
       "      <td>0</td>\n",
       "      <td>1</td>\n",
       "    </tr>\n",
       "    <tr>\n",
       "      <th>7180</th>\n",
       "      <td>0.219219</td>\n",
       "      <td>0.578723</td>\n",
       "      <td>0.176471</td>\n",
       "      <td>0.072791</td>\n",
       "      <td>0.082622</td>\n",
       "      <td>0.079561</td>\n",
       "      <td>0.094456</td>\n",
       "      <td>0.268107</td>\n",
       "      <td>287700.0</td>\n",
       "      <td>2</td>\n",
       "      <td>1</td>\n",
       "      <td>2</td>\n",
       "    </tr>\n",
       "    <tr>\n",
       "      <th>14016</th>\n",
       "      <td>0.640641</td>\n",
       "      <td>0.162766</td>\n",
       "      <td>0.607843</td>\n",
       "      <td>0.052546</td>\n",
       "      <td>0.057175</td>\n",
       "      <td>0.059686</td>\n",
       "      <td>0.068882</td>\n",
       "      <td>0.324968</td>\n",
       "      <td>201200.0</td>\n",
       "      <td>1</td>\n",
       "      <td>0</td>\n",
       "      <td>1</td>\n",
       "    </tr>\n",
       "    <tr>\n",
       "      <th>12750</th>\n",
       "      <td>0.223223</td>\n",
       "      <td>0.513830</td>\n",
       "      <td>0.490196</td>\n",
       "      <td>0.032301</td>\n",
       "      <td>0.049122</td>\n",
       "      <td>0.034290</td>\n",
       "      <td>0.052828</td>\n",
       "      <td>0.280306</td>\n",
       "      <td>280200.0</td>\n",
       "      <td>2</td>\n",
       "      <td>1</td>\n",
       "      <td>2</td>\n",
       "    </tr>\n",
       "  </tbody>\n",
       "</table>\n",
       "<p>12259 rows × 12 columns</p>\n",
       "</div>"
      ],
      "text/plain": [
       "       longitude  latitude  housing_median_age  total_rooms  total_bedrooms  \\\n",
       "18973   0.710711  0.024468            0.725490     0.067653        0.080045   \n",
       "18676   0.681682  0.146809            0.490196     0.075487        0.092608   \n",
       "7677    0.206206  0.560638            1.000000     0.088484        0.120792   \n",
       "10871   0.596597  0.141489            0.588235     0.079353        0.116927   \n",
       "6037    0.702703  0.172340            0.490196     0.078946        0.096956   \n",
       "...          ...       ...                 ...          ...             ...   \n",
       "11433   0.250250  0.765957            0.196078     0.183377        0.218071   \n",
       "19004   0.286286  0.640426            1.000000     0.078285        0.087615   \n",
       "7180    0.219219  0.578723            0.176471     0.072791        0.082622   \n",
       "14016   0.640641  0.162766            0.607843     0.052546        0.057175   \n",
       "12750   0.223223  0.513830            0.490196     0.032301        0.049122   \n",
       "\n",
       "       population  households  median_income  house_value  \\\n",
       "18973    0.069255    0.092402       0.241776     241600.0   \n",
       "18676    0.132070    0.103976       0.238086     124600.0   \n",
       "7677     0.088394    0.133844       0.234486     275700.0   \n",
       "10871    0.115446    0.133284       0.232121     298400.0   \n",
       "6037     0.085450    0.107336       0.184391     122200.0   \n",
       "...           ...         ...            ...          ...   \n",
       "11433    0.200037    0.235766       0.180177     122600.0   \n",
       "19004    0.059625    0.092216       0.225935     164500.0   \n",
       "7180     0.079561    0.094456       0.268107     287700.0   \n",
       "14016    0.059686    0.068882       0.324968     201200.0   \n",
       "12750    0.034290    0.052828       0.280306     280200.0   \n",
       "\n",
       "       stratification_category  well_above_median  house_value_level  \n",
       "18973                        2                  1                  2  \n",
       "18676                        0                  0                  0  \n",
       "7677                         2                  1                  2  \n",
       "10871                        2                  1                  2  \n",
       "6037                         0                  0                  0  \n",
       "...                        ...                ...                ...  \n",
       "11433                        0                  0                  0  \n",
       "19004                        1                  0                  1  \n",
       "7180                         2                  1                  2  \n",
       "14016                        1                  0                  1  \n",
       "12750                        2                  1                  2  \n",
       "\n",
       "[12259 rows x 12 columns]"
      ]
     },
     "execution_count": 88,
     "metadata": {},
     "output_type": "execute_result"
    }
   ],
   "source": [
    "# We can see that the 1.0 class is the underrepresented class, so we'll oversample that.\n",
    "\n",
    "# First, lets recombine our targets with the features so it's a little easier to sample.\n",
    "trainFeaturesWithTargets = trainFeaturesScaled.merge(trainTargets, left_index=True, right_index=True)\n",
    "trainFeaturesWithTargets"
   ]
  },
  {
   "cell_type": "code",
   "execution_count": 90,
   "metadata": {
    "cell_id": "ab7a03cb06cf447eb6c659557fb3104f",
    "deepnote_cell_type": "code",
    "deepnote_to_be_reexecuted": true,
    "execution_millis": 2824323,
    "execution_start": 1683118751527,
    "source_hash": "10c8d0e0"
   },
   "outputs": [
    {
     "data": {
      "text/html": [
       "<div>\n",
       "<style scoped>\n",
       "    .dataframe tbody tr th:only-of-type {\n",
       "        vertical-align: middle;\n",
       "    }\n",
       "\n",
       "    .dataframe tbody tr th {\n",
       "        vertical-align: top;\n",
       "    }\n",
       "\n",
       "    .dataframe thead th {\n",
       "        text-align: right;\n",
       "    }\n",
       "</style>\n",
       "<table border=\"1\" class=\"dataframe\">\n",
       "  <thead>\n",
       "    <tr style=\"text-align: right;\">\n",
       "      <th></th>\n",
       "      <th>longitude</th>\n",
       "      <th>latitude</th>\n",
       "      <th>housing_median_age</th>\n",
       "      <th>total_rooms</th>\n",
       "      <th>total_bedrooms</th>\n",
       "      <th>population</th>\n",
       "      <th>households</th>\n",
       "      <th>median_income</th>\n",
       "      <th>house_value</th>\n",
       "      <th>stratification_category</th>\n",
       "      <th>well_above_median</th>\n",
       "      <th>house_value_level</th>\n",
       "    </tr>\n",
       "  </thead>\n",
       "  <tbody>\n",
       "    <tr>\n",
       "      <th>count</th>\n",
       "      <td>3919.000000</td>\n",
       "      <td>3919.000000</td>\n",
       "      <td>3919.000000</td>\n",
       "      <td>3919.000000</td>\n",
       "      <td>3919.000000</td>\n",
       "      <td>3919.000000</td>\n",
       "      <td>3919.000000</td>\n",
       "      <td>3919.000000</td>\n",
       "      <td>3919.000000</td>\n",
       "      <td>3919.0</td>\n",
       "      <td>3919.0</td>\n",
       "      <td>3919.0</td>\n",
       "    </tr>\n",
       "    <tr>\n",
       "      <th>mean</th>\n",
       "      <td>0.448281</td>\n",
       "      <td>0.305999</td>\n",
       "      <td>0.570604</td>\n",
       "      <td>0.074012</td>\n",
       "      <td>0.088077</td>\n",
       "      <td>0.081231</td>\n",
       "      <td>0.096078</td>\n",
       "      <td>0.335597</td>\n",
       "      <td>340343.192651</td>\n",
       "      <td>2.0</td>\n",
       "      <td>1.0</td>\n",
       "      <td>2.0</td>\n",
       "    </tr>\n",
       "    <tr>\n",
       "      <th>std</th>\n",
       "      <td>0.202676</td>\n",
       "      <td>0.200063</td>\n",
       "      <td>0.259673</td>\n",
       "      <td>0.053901</td>\n",
       "      <td>0.065229</td>\n",
       "      <td>0.059169</td>\n",
       "      <td>0.069262</td>\n",
       "      <td>0.152691</td>\n",
       "      <td>91574.701591</td>\n",
       "      <td>0.0</td>\n",
       "      <td>0.0</td>\n",
       "      <td>0.0</td>\n",
       "    </tr>\n",
       "    <tr>\n",
       "      <th>min</th>\n",
       "      <td>0.122122</td>\n",
       "      <td>0.001064</td>\n",
       "      <td>0.019608</td>\n",
       "      <td>0.000153</td>\n",
       "      <td>0.000000</td>\n",
       "      <td>0.000000</td>\n",
       "      <td>0.000000</td>\n",
       "      <td>0.002490</td>\n",
       "      <td>228000.000000</td>\n",
       "      <td>2.0</td>\n",
       "      <td>1.0</td>\n",
       "      <td>2.0</td>\n",
       "    </tr>\n",
       "    <tr>\n",
       "      <th>25%</th>\n",
       "      <td>0.225225</td>\n",
       "      <td>0.143617</td>\n",
       "      <td>0.352941</td>\n",
       "      <td>0.042881</td>\n",
       "      <td>0.049042</td>\n",
       "      <td>0.046927</td>\n",
       "      <td>0.054695</td>\n",
       "      <td>0.232583</td>\n",
       "      <td>262100.000000</td>\n",
       "      <td>2.0</td>\n",
       "      <td>1.0</td>\n",
       "      <td>2.0</td>\n",
       "    </tr>\n",
       "    <tr>\n",
       "      <th>50%</th>\n",
       "      <td>0.579580</td>\n",
       "      <td>0.174468</td>\n",
       "      <td>0.568627</td>\n",
       "      <td>0.062262</td>\n",
       "      <td>0.071509</td>\n",
       "      <td>0.066740</td>\n",
       "      <td>0.078589</td>\n",
       "      <td>0.314147</td>\n",
       "      <td>315500.000000</td>\n",
       "      <td>2.0</td>\n",
       "      <td>1.0</td>\n",
       "      <td>2.0</td>\n",
       "    </tr>\n",
       "    <tr>\n",
       "      <th>75%</th>\n",
       "      <td>0.619620</td>\n",
       "      <td>0.524468</td>\n",
       "      <td>0.745098</td>\n",
       "      <td>0.088522</td>\n",
       "      <td>0.106297</td>\n",
       "      <td>0.099405</td>\n",
       "      <td>0.116390</td>\n",
       "      <td>0.404681</td>\n",
       "      <td>404400.000000</td>\n",
       "      <td>2.0</td>\n",
       "      <td>1.0</td>\n",
       "      <td>2.0</td>\n",
       "    </tr>\n",
       "    <tr>\n",
       "      <th>max</th>\n",
       "      <td>0.801802</td>\n",
       "      <td>0.707447</td>\n",
       "      <td>1.000000</td>\n",
       "      <td>0.640546</td>\n",
       "      <td>0.872604</td>\n",
       "      <td>0.733223</td>\n",
       "      <td>0.920105</td>\n",
       "      <td>1.000000</td>\n",
       "      <td>500001.000000</td>\n",
       "      <td>2.0</td>\n",
       "      <td>1.0</td>\n",
       "      <td>2.0</td>\n",
       "    </tr>\n",
       "  </tbody>\n",
       "</table>\n",
       "</div>"
      ],
      "text/plain": [
       "         longitude     latitude  housing_median_age  total_rooms  \\\n",
       "count  3919.000000  3919.000000         3919.000000  3919.000000   \n",
       "mean      0.448281     0.305999            0.570604     0.074012   \n",
       "std       0.202676     0.200063            0.259673     0.053901   \n",
       "min       0.122122     0.001064            0.019608     0.000153   \n",
       "25%       0.225225     0.143617            0.352941     0.042881   \n",
       "50%       0.579580     0.174468            0.568627     0.062262   \n",
       "75%       0.619620     0.524468            0.745098     0.088522   \n",
       "max       0.801802     0.707447            1.000000     0.640546   \n",
       "\n",
       "       total_bedrooms   population   households  median_income    house_value  \\\n",
       "count     3919.000000  3919.000000  3919.000000    3919.000000    3919.000000   \n",
       "mean         0.088077     0.081231     0.096078       0.335597  340343.192651   \n",
       "std          0.065229     0.059169     0.069262       0.152691   91574.701591   \n",
       "min          0.000000     0.000000     0.000000       0.002490  228000.000000   \n",
       "25%          0.049042     0.046927     0.054695       0.232583  262100.000000   \n",
       "50%          0.071509     0.066740     0.078589       0.314147  315500.000000   \n",
       "75%          0.106297     0.099405     0.116390       0.404681  404400.000000   \n",
       "max          0.872604     0.733223     0.920105       1.000000  500001.000000   \n",
       "\n",
       "       stratification_category  well_above_median  house_value_level  \n",
       "count                   3919.0             3919.0             3919.0  \n",
       "mean                       2.0                1.0                2.0  \n",
       "std                        0.0                0.0                0.0  \n",
       "min                        2.0                1.0                2.0  \n",
       "25%                        2.0                1.0                2.0  \n",
       "50%                        2.0                1.0                2.0  \n",
       "75%                        2.0                1.0                2.0  \n",
       "max                        2.0                1.0                2.0  "
      ]
     },
     "execution_count": 90,
     "metadata": {},
     "output_type": "execute_result"
    }
   ],
   "source": [
    "diff = len(trainFeaturesWithTargets[trainFeaturesWithTargets['well_above_median'] == 0])  - len(trainFeaturesWithTargets[trainFeaturesWithTargets['well_above_median'] == 1])\n",
    "diff\n",
    "newSample = trainFeaturesWithTargets[trainFeaturesWithTargets['well_above_median'] == 1].sample(n=diff, replace=True)\n",
    "newSample.describe()"
   ]
  },
  {
   "cell_type": "code",
   "execution_count": 91,
   "metadata": {
    "cell_id": "e4a89950608e452096eb63da6c21b1f3",
    "deepnote_cell_type": "code",
    "deepnote_to_be_reexecuted": true,
    "execution_millis": 2824243,
    "execution_start": 1683118751604,
    "source_hash": "50944679"
   },
   "outputs": [
    {
     "data": {
      "text/plain": [
       "<AxesSubplot:ylabel='Frequency'>"
      ]
     },
     "execution_count": 91,
     "metadata": {},
     "output_type": "execute_result"
    },
    {
     "data": {
      "image/png": "[encoded data removed]",
      "text/plain": [
       "<Figure size 432x288 with 1 Axes>"
      ]
     },
     "metadata": {
      "needs_background": "light"
     },
     "output_type": "display_data"
    }
   ],
   "source": [
    "trainFeaturesWithTargetsBalanced = pd.concat([trainFeaturesWithTargets, newSample])\n",
    "\n",
    "trainFeaturesScaledBalanced = trainFeaturesWithTargetsBalanced[trainFeatures.columns]\n",
    "trainTargetsBalanced = trainFeaturesWithTargetsBalanced[trainTargets.columns]\n",
    "trainTargetsBalanced['well_above_median'].plot.hist()"
   ]
  },
  {
   "cell_type": "markdown",
   "metadata": {
    "cell_id": "48fac164378e4014b64dc9909abe6d17",
    "deepnote_cell_type": "markdown"
   },
   "source": [
    "Once you've made a balanced dataset, you can go ahead and make your training and development splits."
   ]
  },
  {
   "cell_type": "code",
   "execution_count": 92,
   "metadata": {},
   "outputs": [
    {
     "name": "stdout",
     "output_type": "stream",
     "text": [
      "Balanced:\n",
      "Accuracy    : 0.8202\n",
      "Precision   : 0.6981\n",
      "Recall      : 0.8302\n",
      "F1          : 0.7585\n",
      "AUC         : 0.9143\n",
      "\n",
      "Unbalanced:\n",
      "Accuracy    : 0.8427\n",
      "Precision   : 0.8049\n",
      "Recall      : 0.7094\n",
      "F1          : 0.7541\n",
      "AUC         : 0.9107\n"
     ]
    }
   ],
   "source": [
    "logisticRegBinaryBalanced = LogisticRegression()\n",
    "logisticRegBinaryBalanced.fit(trainFeaturesScaledBalanced, trainTargetsBalanced['well_above_median'])\n",
    "\n",
    "devLogisticRegBinaryBalancedPred = logisticRegBinaryBalanced.predict(devFeaturesScaled)\n",
    "devLogisticRegBinaryBalancedProbs = logisticRegBinaryBalanced.predict_proba(devFeaturesScaled)\n",
    "\n",
    "print('Balanced:')\n",
    "evaluateBinaryClassification(devTargets['well_above_median'], devLogisticRegBinaryBalancedPred, devLogisticRegBinaryBalancedProbs)\n",
    "\n",
    "\n",
    "# Unbalanced:\n",
    "print('\\nUnbalanced:')\n",
    "evaluateBinaryClassification(devTargets['well_above_median'], devLogisticRegBinaryPred, devLogisticRegBinaryProbs)"
   ]
  },
  {
   "cell_type": "code",
   "execution_count": 94,
   "metadata": {},
   "outputs": [
    {
     "name": "stdout",
     "output_type": "stream",
     "text": [
      "Balanced:\n",
      "Accuracy    : 0.8735\n",
      "Precision   : 0.7943\n",
      "Recall      : 0.8475\n",
      "F1          : 0.8200\n",
      "AUC         : 0.9029\n",
      "\n",
      "Unbalanced:\n",
      "Accuracy    : 0.8762\n",
      "Precision   : 0.8284\n",
      "Recall      : 0.8022\n",
      "F1          : 0.8151\n",
      "AUC         : 0.8794\n"
     ]
    }
   ],
   "source": [
    "# from sklearn.tree import DecisionTreeClassifier\n",
    "\n",
    "decisionTreeBinaryBalanced  = DecisionTreeClassifier(max_leaf_nodes=300)\n",
    "decisionTreeBinaryBalanced.fit(trainFeaturesScaledBalanced.values, trainTargetsBalanced['well_above_median'])\n",
    "decisionTreeBinaryBalancedPred = decisionTreeBinaryBalanced.predict(devFeaturesScaled.values, )\n",
    "decisionTreeBinaryBalancedProbs = decisionTreeBinaryBalanced.predict_proba(devFeaturesScaled.values)\n",
    "\n",
    "print('Balanced:')\n",
    "evaluateBinaryClassification(devTargets['well_above_median'], decisionTreeBinaryBalancedPred, decisionTreeBinaryBalancedProbs)\n",
    "\n",
    "print('\\nUnbalanced:')\n",
    "evaluateBinaryClassification(devTargets['well_above_median'], decisionTreeBinaryPred, decisionTreeBinaryProbs)"
   ]
  },
  {
   "cell_type": "markdown",
   "metadata": {
    "cell_id": "3d06e0dea4fb49b3861feaceba261022",
    "deepnote_cell_type": "markdown"
   },
   "source": [
    "# Next steps\n",
    "\n",
    "There are LOTS of other classification and regression models out there—check out [the Scikit Learn website](https://scikit-learn.org/stable/index.html) for more. They follow pretty similar patterns. Each algorithm also has several parameters you can adjust, so be sure to read the documentation pages and guides to find out how to tweak them.\n",
    "\n",
    "Scikit Learn also has a construct called *pipelines*, which I haven't gone over in this notebook. You can find out more about those [here](https://scikit-learn.org/stable/modules/compose.html#combining-estimators).\n"
   ]
  },
  {
   "cell_type": "markdown",
   "metadata": {
    "created_in_deepnote_cell": true,
    "deepnote_cell_type": "markdown"
   },
   "source": [
    "<a style='text-decoration:none;line-height:16px;display:flex;color:#5B5B62;padding:10px;justify-content:end;' href='https://deepnote.com?utm_source=created-in-deepnote-cell&projectId=782e03d4-dc01-4ed9-bfc4-f8eae673da93' target=\"_blank\">\n",
    "<img alt='Created in deepnote.com' style='display:inline;max-height:16px;margin:0px;margin-right:7.5px;' src='data:image/svg+xml;base64,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' > </img>\n",
    "Created in <span style='font-weight:600;margin-left:4px;'>Deepnote</span></a>"
   ]
  }
 ],
 "metadata": {
  "kernelspec": {
   "display_name": "Python 3",
   "language": "python",
   "name": "python3"
  },
  "language_info": {
   "codemirror_mode": {
    "name": "ipython",
    "version": 3
   },
   "file_extension": ".py",
   "mimetype": "text/x-python",
   "name": "python",
   "nbconvert_exporter": "python",
   "pygments_lexer": "ipython3",
   "version": "3.8.10"
  }
 },
 "nbformat": 4,
 "nbformat_minor": 1
}
